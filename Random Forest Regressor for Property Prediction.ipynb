{
 "cells": [
  {
   "cell_type": "markdown",
   "metadata": {
    "colab_type": "text",
    "id": "lqoC5Pj29j40"
   },
   "source": [
    "\n",
    "Title: Random Forest Regressor for Property Prediction\n",
    "=======\n",
    "- Created: 2019.10.03\n",
    "- Updated: 2020.03.08\n",
    "- Author: Kyung Min, Lee\n",
    "\n",
    "Learned from \n",
    "- \"Chapter 2 of Hands-on Machine Learning Book\"\n",
    "- Sckit-Learn documents\n"
   ]
  },
  {
   "cell_type": "markdown",
   "metadata": {
    "colab_type": "text",
    "id": "Nc_yQd2b9j41"
   },
   "source": []
  },
  {
   "cell_type": "markdown",
   "metadata": {
    "colab_type": "text",
    "id": "pwfdeUsm9j42"
   },
   "source": [
    "## A random forest is a meta estimator that fits a number of classifying decision trees on various sub-samples of the dataset and uses averaging to improve the predictive accuracy and control over-fitting. The sub-sample size is always the same as the original input sample size but the samples are drawn with replacement if bootstrap=True (default).\n",
    "\n",
    "> class sklearn.ensemble.RandomForestRegressor(n_estimators=’warn’, criterion=’mse’, max_depth=None, min_samples_split=2, min_samples_leaf=1, min_weight_fraction_leaf=0.0, max_features=’auto’, max_leaf_nodes=None, min_impurity_decrease=0.0, min_impurity_split=None, bootstrap=True, oob_score=False, n_jobs=None, random_state=None, verbose=0, warm_start=False)[source]"
   ]
  },
  {
   "cell_type": "markdown",
   "metadata": {
    "colab_type": "text",
    "id": "eRtbWc309j42"
   },
   "source": [
    "HyperParameters\n",
    "---\n"
   ]
  },
  {
   "cell_type": "markdown",
   "metadata": {
    "colab_type": "text",
    "id": "CXkfPyrw9j43"
   },
   "source": [
    "- **n_estimators**[integer, optional (default=10)]: The number of trees in the forest.\n",
    "  - Changed in version 0.20: The default value of n_estimators will change from 10 in version 0.20 to 100 in version 0.22.\n",
    "  \n",
    "- **criterion**[string, optional (default=”mse”)]: The function to measure the quality of a split.   \n",
    "  - Supported criteria are “mse” for the mean squared error, which is equal to variance reduction as feature selection criterion, and “mae” for the mean absolute error.\n",
    "\n",
    "- **max_depth**[integer or None, optional (default=None)]: The maximum depth of the tree. \n",
    "  - If None, then nodes are expanded until all leaves are pure or until all leaves contain less than min_samples_split samples.\n",
    "  \n",
    "- **min_samples_split**[int, float, optional (default=2)]: The minimum number of samples required to split an internal node:\n",
    "  - If int, then consider min_samples_split as the minimum number.\n",
    "  - If float, then min_samples_split is a fraction and ceil(min_samples_split * n_samples) are the minimum number of samples for each split.\n",
    "  \n",
    "- **min_samples_leaf**[int, float, optional (default=1)]: The minimum number of samples required to be at a leaf node. \n",
    "  - A split point at any depth will only be considered if it leaves at least min_samples_leaf training samples in each of the left and right branches. <u>This may have the effect of smoothing the model, especially in regression.</u>\n",
    "  - If int, then consider min_samples_leaf as the minimum number.\n",
    "  - If float, then min_samples_leaf is a fraction and ceil(min_samples_leaf * n_samples) are the minimum number of samples for each node.\n",
    "  \n",
    "- **min_weight_fraction_leaf**[float, optional (default=0.)]\n",
    "  - The minimum weighted fraction of the sum total of weights (of all the input samples) required to be at a leaf node. \n",
    "  - Samples have equal weight when sample_weight is not provided.\n",
    "  \n",
    "- **max_features**[int, float, string or None, optional (default=”auto”)]: The number of features to consider when looking for the best split:\n",
    "  - If int, then consider max_features features at each split.\n",
    "  - If float, then max_features is a fraction and int(max_features * n_features) features are considered at each split.\n",
    "  - If “auto”, then max_features=n_features.\n",
    "  - If “sqrt”, then max_features=sqrt(n_features).\n",
    "  - If “log2”, then max_features=log2(n_features).\n",
    "  - If None, then max_features=n_features.\n",
    "Note: the search for a split does not stop until at least one valid partition of the node samples is found, even if it requires to effectively inspect more than max_features features.\n",
    "\n",
    "- **max_leaf_nodes**[int or None, optional (default=None)]: Grow trees with max_leaf_nodes in best-first fashion.\n",
    "  - Best nodes are defined as relative reduction in impurity. If None then unlimited number of leaf nodes.\n",
    "  \n",
    "- **min_impurity_decrease**[float, optional (default=0.)]: A node will be split if this split induces a decrease of the impurity greater than or equal to this value.\n",
    "  - The weighted impurity decrease equation is the following: (Node importance using Gini Importace)\n",
    "  ![gini_imp](https://miro.medium.com/max/757/1*mcHzG8OjhQ2ryiBH7MBPUA.png)\n",
    "  ![gini_imp1](https://miro.medium.com/max/1498/1*uAGS042OxMJ4Ic3k4s313Q.png)\n",
    "  ![gini_imp2](https://miro.medium.com/max/2829/1*gdMrk7yEPJLio0d0Sixtkg.png)\n",
    "  ![gini_imp3](https://miro.medium.com/max/1634/1*C-bkgMBs4drNVyBb1VJcEQ.png)\n",
    "  \n",
    "- **bootstrap**[boolean, optional (default=True)]: Whether bootstrap samples are used when building trees. If False, the whole datset is used to build each tree.\n",
    "\n",
    "- **oob_score**[bool, optional (default=False)]: whether to use out-of-bag samples to estimate the R^2 on unseen data.\n",
    "\n",
    "- **n_jobs**[int or None, optional (default=None)]: The number of jobs to run in parallel for both fit and predict. \n",
    "  - None` means 1 unless in a joblib.parallel_backend context. -1 means using all processors. See Glossary for more details.\n",
    "  \n",
    "- **random_state**[int, RandomState instance or None, optional (default=None)] \n",
    "If int, random_state is the seed used by the random number generator; If RandomState instance, random_state is the random number generator; If None, the random number generator is the RandomState instance used by np.random.\n",
    "\n",
    "- **verbose**[int, optional (default=0)]: Controls the verbosity when fitting and predicting.\n",
    "\n",
    "- **warm_start**[bool, optional (default=False)]: When set to True, reuse the solution of the previous call to fit and add more estimators to the ensemble, otherwise, just fit a whole new forest. \n",
    "\n",
    "\n"
   ]
  },
  {
   "cell_type": "markdown",
   "metadata": {
    "colab_type": "text",
    "id": "dMltfKpj9j44"
   },
   "source": [
    "Explanation of Random Forest's Main Parameters\n",
    "---\n",
    "\n",
    "random forest model에서 주요 parameter는\n",
    "\n",
    "n_estimators : 생성할 tree의 개수와\n",
    "\n",
    "max_features : 최대 선택할 특성의 수입니다.\n",
    "\n",
    "random forest는 기본적으로 bootstrap sampling(복원추출)을 사용하며 decision tree 생성으로 algorithm으로 진행합니다.\n",
    "\n",
    "bootstrap sampling에서 어떤 데이터 포인트는 약 36.6%정도 누락될 확률이 존재하는데\n",
    "이 것은 다음과정으로 확인할 수 있습니다.\n",
    "\n",
    " - 100개의 표본중 표본 하나가 선택되지 않을 확률은 99/100\n",
    " - 뽑은 표본을 제외하지 않고 100번 반복할 때 한번도 선택되지 않을 확률: (0.99)^100 = 0.366\n",
    "\n",
    " \n",
    "\n",
    "n_estimators에서bootstrap sampling은 random forest의 tree가 조금씩 다른 데이터셋으로 만들어지도록합니다. max_feature에서 각 node는 특성의 일부를 무작위로 추출하여 사용합니다.\n",
    "max_features를 전체 특성의수로 설정하면 모든 특성을 고려하므로 decision tree에서 무작위성이 들어가지 않습니다.\n",
    "\n",
    "그러나 bootstrap sampling의 무작위성은 존재합니다.\n",
    "\n",
    "max_features 값을 크게 하면 random forest의 tree들은 같은 특성을 고려하므로 tree들이 매우 비슷해지고 가장 두드러진 특성을 이용해 데이터에 잘 맞춰집니다.\n",
    "\n",
    "max_features를 낮추면 random forest tree들은 많이 달라지고 각 tree는 데이터에 맞추기 위해 tree의 깊이가 깊어집니다.\n",
    "\n",
    "출처: https://woolulu.tistory.com/28"
   ]
  },
  {
   "cell_type": "markdown",
   "metadata": {
    "colab_type": "text",
    "id": "VrqOws1S9j44"
   },
   "source": [
    "Attributes\n",
    "---"
   ]
  },
  {
   "cell_type": "markdown",
   "metadata": {
    "colab_type": "text",
    "id": "cVon8V6s9j45"
   },
   "source": [
    "- **estimators_**[list of DecisionTreeRegressor]: The collection of fitted sub-estimators.\n",
    "\n",
    "- **feature_importances_**[array of shape = [n_features]] :Return the feature importances (the higher, the more important the feature).\n",
    "\n",
    "- **n_features_**[int]: The number of features when fit is performed.\n",
    "\n",
    "- **n_outputs_**[int]: The number of outputs when fit is performed.\n",
    "\n",
    "- **oob_score_**[float]: Score of the training dataset obtained using an out-of-bag estimate.\n",
    "\n",
    "- **oob_prediction_**[array of shape = [n_samples]]: Prediction computed with out-of-bag estimate on the training set."
   ]
  },
  {
   "cell_type": "markdown",
   "metadata": {
    "colab_type": "text",
    "id": "bCG8yS6P9j46"
   },
   "source": [
    "Setup\n",
    "---"
   ]
  },
  {
   "cell_type": "code",
   "execution_count": 1,
   "metadata": {
    "colab": {},
    "colab_type": "code",
    "id": "x9aN9zZo9j46"
   },
   "outputs": [],
   "source": [
    "# Python ≥3.5 is required\n",
    "import sys\n",
    "assert sys.version_info >= (3, 5)\n",
    "\n",
    "# Scikit-Learn ≥0.20 is required\n",
    "import sklearn\n",
    "\n",
    "# Common imports\n",
    "import numpy as np\n",
    "import os\n",
    "\n",
    "# Pandas\n",
    "import pandas as pd\n",
    "\n",
    "# to make this notebook's output stable across runs\n",
    "np.random.seed(42)\n",
    "\n",
    "# To plot pretty figures\n",
    "%matplotlib inline\n",
    "import matplotlib as mpl\n",
    "import matplotlib.pyplot as plt\n",
    "mpl.rc('axes', labelsize=14)\n",
    "mpl.rc('xtick', labelsize=12)\n",
    "mpl.rc('ytick', labelsize=12)\n",
    "\n",
    "\n",
    "def save_fig(fig_id, tight_layout=True, fig_extension=\"png\", resolution=300):\n",
    "    path = os.path.join(IMAGES_PATH, fig_id + \".\" + fig_extension)\n",
    "    print(\"Saving figure\", fig_id)\n",
    "    if tight_layout:\n",
    "        plt.tight_layout()\n",
    "    plt.savefig(path, format=fig_extension, dpi=resolution)\n",
    "\n",
    "# Ignore useless warnings (see SciPy issue #5998)\n",
    "import warnings\n",
    "warnings.filterwarnings(action=\"ignore\", message=\"^internal gelsd\")"
   ]
  },
  {
   "cell_type": "code",
   "execution_count": 2,
   "metadata": {
    "colab": {
     "base_uri": "https://localhost:8080/",
     "height": 35
    },
    "colab_type": "code",
    "executionInfo": {
     "elapsed": 1081,
     "status": "ok",
     "timestamp": 1580941785699,
     "user": {
      "displayName": "이경민학부생",
      "photoUrl": "",
      "userId": "01346787625936847475"
     },
     "user_tz": -540
    },
    "id": "LUb_Qn_X9j49",
    "outputId": "f9e0a782-c3be-4e6b-be7b-3570b6a6de6c"
   },
   "outputs": [
    {
     "data": {
      "text/plain": [
       "'0.23.1'"
      ]
     },
     "execution_count": 2,
     "metadata": {},
     "output_type": "execute_result"
    }
   ],
   "source": [
    "sklearn.__version__"
   ]
  },
  {
   "cell_type": "markdown",
   "metadata": {
    "colab_type": "text",
    "id": "Sl5qwulY9j4_"
   },
   "source": [
    "Get the data\n",
    "============"
   ]
  },
  {
   "cell_type": "code",
   "execution_count": 3,
   "metadata": {
    "colab": {
     "base_uri": "https://localhost:8080/",
     "height": 96,
     "resources": {
      "http://localhost:8080/nbextensions/google.colab/files.js": {
       "data": "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",
       "headers": [
        [
         "content-type",
         "application/javascript"
        ]
       ],
       "ok": true,
       "status": 200,
       "status_text": ""
      }
     }
    },
    "colab_type": "code",
    "executionInfo": {
     "elapsed": 8282,
     "status": "ok",
     "timestamp": 1580941792944,
     "user": {
      "displayName": "이경민학부생",
      "photoUrl": "",
      "userId": "01346787625936847475"
     },
     "user_tz": -540
    },
    "id": "F8o-a6It9j5A",
    "outputId": "79da63ba-0355-49cf-d701-0a1a777a4056"
   },
   "outputs": [
    {
     "data": {
      "text/html": [
       "\n",
       "     <input type=\"file\" id=\"files-ccb6c2b6-3815-4d50-9766-fe5c6ecfda04\" name=\"files[]\" multiple disabled />\n",
       "     <output id=\"result-ccb6c2b6-3815-4d50-9766-fe5c6ecfda04\">\n",
       "      Upload widget is only available when the cell has been executed in the\n",
       "      current browser session. Please rerun this cell to enable.\n",
       "      </output>\n",
       "      <script src=\"/nbextensions/google.colab/files.js\"></script> "
      ],
      "text/plain": [
       "<IPython.core.display.HTML object>"
      ]
     },
     "metadata": {
      "tags": []
     },
     "output_type": "display_data"
    },
    {
     "name": "stdout",
     "output_type": "stream",
     "text": [
      "Saving 3MA_data.csv to 3MA_data.csv\n",
      "User uploaded file\"3MA_data.csv\" with length21539 bytes\n"
     ]
    }
   ],
   "source": [
    "from google.colab import files\n",
    "uploaded=files.upload()\n",
    "\n",
    "for fn in uploaded.keys():\n",
    "  print('User uploaded file\"{name}\" with length{length} bytes'.format(\n",
    "      name = fn, length=len(uploaded[fn])\n",
    "  ))"
   ]
  },
  {
   "cell_type": "code",
   "execution_count": 0,
   "metadata": {
    "colab": {
     "base_uri": "https://localhost:8080/",
     "height": 127
    },
    "colab_type": "code",
    "executionInfo": {
     "elapsed": 19645,
     "status": "ok",
     "timestamp": 1571663232391,
     "user": {
      "displayName": "Kyung Min Lee",
      "photoUrl": "",
      "userId": "04331676426637755655"
     },
     "user_tz": -540
    },
    "id": "eZvPHmJKhUty",
    "outputId": "4a5cf038-a4bf-40ee-ae23-37550a7d1006"
   },
   "outputs": [
    {
     "name": "stdout",
     "output_type": "stream",
     "text": [
      "Go to this URL in a browser: https://accounts.google.com/o/oauth2/auth?client_id=947318989803-6bn6qk8qdgf4n4g3pfee6491hc0brc4i.apps.googleusercontent.com&redirect_uri=urn%3Aietf%3Awg%3Aoauth%3A2.0%3Aoob&scope=email%20https%3A%2F%2Fwww.googleapis.com%2Fauth%2Fdocs.test%20https%3A%2F%2Fwww.googleapis.com%2Fauth%2Fdrive%20https%3A%2F%2Fwww.googleapis.com%2Fauth%2Fdrive.photos.readonly%20https%3A%2F%2Fwww.googleapis.com%2Fauth%2Fpeopleapi.readonly&response_type=code\n",
      "\n",
      "Enter your authorization code:\n",
      "··········\n",
      "Mounted at /content/gdrive\n"
     ]
    }
   ],
   "source": [
    "from google.colab import drive\n",
    "\n",
    "drive.mount('/content/gdrive',force_remount=True)"
   ]
  },
  {
   "cell_type": "code",
   "execution_count": 3,
   "metadata": {
    "colab": {
     "base_uri": "https://localhost:8080/",
     "height": 241
    },
    "colab_type": "code",
    "executionInfo": {
     "elapsed": 1282,
     "status": "ok",
     "timestamp": 1580941794248,
     "user": {
      "displayName": "이경민학부생",
      "photoUrl": "",
      "userId": "01346787625936847475"
     },
     "user_tz": -540
    },
    "id": "s-f_CAmB9j5C",
    "outputId": "052eb7ac-5406-4811-955b-6012f7a030d3"
   },
   "outputs": [
    {
     "data": {
      "text/html": [
       "<div>\n",
       "<style scoped>\n",
       "    .dataframe tbody tr th:only-of-type {\n",
       "        vertical-align: middle;\n",
       "    }\n",
       "\n",
       "    .dataframe tbody tr th {\n",
       "        vertical-align: top;\n",
       "    }\n",
       "\n",
       "    .dataframe thead th {\n",
       "        text-align: right;\n",
       "    }\n",
       "</style>\n",
       "<table border=\"1\" class=\"dataframe\">\n",
       "  <thead>\n",
       "    <tr style=\"text-align: right;\">\n",
       "      <th></th>\n",
       "      <th>yield stress</th>\n",
       "      <th>elongation</th>\n",
       "      <th>10Hz_real</th>\n",
       "      <th>10Hz_img</th>\n",
       "      <th>20Hz_real</th>\n",
       "      <th>20Hz_img</th>\n",
       "      <th>30Hz_real</th>\n",
       "      <th>30Hz_img</th>\n",
       "      <th>40Hz_real</th>\n",
       "      <th>40Hz_img</th>\n",
       "      <th>...</th>\n",
       "      <th>600Hz_real</th>\n",
       "      <th>600Hz_img</th>\n",
       "      <th>700Hz_real</th>\n",
       "      <th>700Hz_img</th>\n",
       "      <th>800Hz_real</th>\n",
       "      <th>800Hz_img</th>\n",
       "      <th>900Hz_real</th>\n",
       "      <th>900Hz_img</th>\n",
       "      <th>1000Hz_real</th>\n",
       "      <th>1000Hz_img</th>\n",
       "    </tr>\n",
       "  </thead>\n",
       "  <tbody>\n",
       "    <tr>\n",
       "      <th>0</th>\n",
       "      <td>150.00</td>\n",
       "      <td>0.000</td>\n",
       "      <td>-0.001414</td>\n",
       "      <td>0.279324</td>\n",
       "      <td>0.065215</td>\n",
       "      <td>0.546686</td>\n",
       "      <td>0.168532</td>\n",
       "      <td>0.791553</td>\n",
       "      <td>0.302864</td>\n",
       "      <td>1.011364</td>\n",
       "      <td>...</td>\n",
       "      <td>2.655202</td>\n",
       "      <td>0.539650</td>\n",
       "      <td>2.680330</td>\n",
       "      <td>0.469237</td>\n",
       "      <td>2.695789</td>\n",
       "      <td>0.404472</td>\n",
       "      <td>2.705355</td>\n",
       "      <td>0.346958</td>\n",
       "      <td>2.706814</td>\n",
       "      <td>0.319128</td>\n",
       "    </tr>\n",
       "    <tr>\n",
       "      <th>1</th>\n",
       "      <td>152.91</td>\n",
       "      <td>0.015</td>\n",
       "      <td>-0.001659</td>\n",
       "      <td>0.276647</td>\n",
       "      <td>0.063820</td>\n",
       "      <td>0.541352</td>\n",
       "      <td>0.165763</td>\n",
       "      <td>0.785004</td>\n",
       "      <td>0.298546</td>\n",
       "      <td>1.004237</td>\n",
       "      <td>...</td>\n",
       "      <td>2.651860</td>\n",
       "      <td>0.543106</td>\n",
       "      <td>2.675930</td>\n",
       "      <td>0.473155</td>\n",
       "      <td>2.692702</td>\n",
       "      <td>0.407210</td>\n",
       "      <td>2.702469</td>\n",
       "      <td>0.349359</td>\n",
       "      <td>2.704990</td>\n",
       "      <td>0.320804</td>\n",
       "    </tr>\n",
       "    <tr>\n",
       "      <th>2</th>\n",
       "      <td>177.60</td>\n",
       "      <td>0.030</td>\n",
       "      <td>-0.001749</td>\n",
       "      <td>0.275758</td>\n",
       "      <td>0.063441</td>\n",
       "      <td>0.539802</td>\n",
       "      <td>0.164783</td>\n",
       "      <td>0.782727</td>\n",
       "      <td>0.297116</td>\n",
       "      <td>1.001919</td>\n",
       "      <td>...</td>\n",
       "      <td>2.651055</td>\n",
       "      <td>0.543917</td>\n",
       "      <td>2.675396</td>\n",
       "      <td>0.473876</td>\n",
       "      <td>2.691407</td>\n",
       "      <td>0.408197</td>\n",
       "      <td>2.701249</td>\n",
       "      <td>0.350062</td>\n",
       "      <td>2.703893</td>\n",
       "      <td>0.321462</td>\n",
       "    </tr>\n",
       "    <tr>\n",
       "      <th>3</th>\n",
       "      <td>198.41</td>\n",
       "      <td>0.045</td>\n",
       "      <td>-0.001446</td>\n",
       "      <td>0.277171</td>\n",
       "      <td>0.064370</td>\n",
       "      <td>0.542550</td>\n",
       "      <td>0.167191</td>\n",
       "      <td>0.787736</td>\n",
       "      <td>0.300250</td>\n",
       "      <td>1.006919</td>\n",
       "      <td>...</td>\n",
       "      <td>2.655886</td>\n",
       "      <td>0.542657</td>\n",
       "      <td>2.679951</td>\n",
       "      <td>0.472497</td>\n",
       "      <td>2.695292</td>\n",
       "      <td>0.407137</td>\n",
       "      <td>2.704857</td>\n",
       "      <td>0.349130</td>\n",
       "      <td>2.707274</td>\n",
       "      <td>0.320120</td>\n",
       "    </tr>\n",
       "    <tr>\n",
       "      <th>4</th>\n",
       "      <td>216.86</td>\n",
       "      <td>0.060</td>\n",
       "      <td>-0.001577</td>\n",
       "      <td>0.275907</td>\n",
       "      <td>0.063855</td>\n",
       "      <td>0.540547</td>\n",
       "      <td>0.165830</td>\n",
       "      <td>0.784585</td>\n",
       "      <td>0.297793</td>\n",
       "      <td>1.002867</td>\n",
       "      <td>...</td>\n",
       "      <td>2.653140</td>\n",
       "      <td>0.544369</td>\n",
       "      <td>2.678150</td>\n",
       "      <td>0.473694</td>\n",
       "      <td>2.694017</td>\n",
       "      <td>0.408031</td>\n",
       "      <td>2.703790</td>\n",
       "      <td>0.349735</td>\n",
       "      <td>2.705954</td>\n",
       "      <td>0.320936</td>\n",
       "    </tr>\n",
       "  </tbody>\n",
       "</table>\n",
       "<p>5 rows × 40 columns</p>\n",
       "</div>"
      ],
      "text/plain": [
       "   yield stress  elongation  10Hz_real  10Hz_img  20Hz_real  20Hz_img  \\\n",
       "0        150.00       0.000  -0.001414  0.279324   0.065215  0.546686   \n",
       "1        152.91       0.015  -0.001659  0.276647   0.063820  0.541352   \n",
       "2        177.60       0.030  -0.001749  0.275758   0.063441  0.539802   \n",
       "3        198.41       0.045  -0.001446  0.277171   0.064370  0.542550   \n",
       "4        216.86       0.060  -0.001577  0.275907   0.063855  0.540547   \n",
       "\n",
       "   30Hz_real  30Hz_img  40Hz_real  40Hz_img  ...  600Hz_real  600Hz_img  \\\n",
       "0   0.168532  0.791553   0.302864  1.011364  ...    2.655202   0.539650   \n",
       "1   0.165763  0.785004   0.298546  1.004237  ...    2.651860   0.543106   \n",
       "2   0.164783  0.782727   0.297116  1.001919  ...    2.651055   0.543917   \n",
       "3   0.167191  0.787736   0.300250  1.006919  ...    2.655886   0.542657   \n",
       "4   0.165830  0.784585   0.297793  1.002867  ...    2.653140   0.544369   \n",
       "\n",
       "   700Hz_real  700Hz_img  800Hz_real  800Hz_img  900Hz_real  900Hz_img  \\\n",
       "0    2.680330   0.469237    2.695789   0.404472    2.705355   0.346958   \n",
       "1    2.675930   0.473155    2.692702   0.407210    2.702469   0.349359   \n",
       "2    2.675396   0.473876    2.691407   0.408197    2.701249   0.350062   \n",
       "3    2.679951   0.472497    2.695292   0.407137    2.704857   0.349130   \n",
       "4    2.678150   0.473694    2.694017   0.408031    2.703790   0.349735   \n",
       "\n",
       "   1000Hz_real  1000Hz_img  \n",
       "0     2.706814    0.319128  \n",
       "1     2.704990    0.320804  \n",
       "2     2.703893    0.321462  \n",
       "3     2.707274    0.320120  \n",
       "4     2.705954    0.320936  \n",
       "\n",
       "[5 rows x 40 columns]"
      ]
     },
     "execution_count": 3,
     "metadata": {},
     "output_type": "execute_result"
    }
   ],
   "source": [
    "import pandas as pd\n",
    "\n",
    "#df = pd.read_csv(\"3MA_data.csv\")\n",
    "df = pd.read_excel(\"induced_voltage_corrected_10-1000Hz.xlsx\", sheet_name='real,imag', skiprows=0)\n",
    "df.head()\n"
   ]
  },
  {
   "cell_type": "code",
   "execution_count": 4,
   "metadata": {
    "colab": {
     "base_uri": "https://localhost:8080/",
     "height": 287
    },
    "colab_type": "code",
    "executionInfo": {
     "elapsed": 1811,
     "status": "ok",
     "timestamp": 1580941794802,
     "user": {
      "displayName": "이경민학부생",
      "photoUrl": "",
      "userId": "01346787625936847475"
     },
     "user_tz": -540
    },
    "id": "u-9CAVpm9j5E",
    "outputId": "74563d6e-cb20-435c-f07b-d944d9d42853"
   },
   "outputs": [
    {
     "name": "stdout",
     "output_type": "stream",
     "text": [
      "<class 'pandas.core.frame.DataFrame'>\n",
      "RangeIndex: 27 entries, 0 to 26\n",
      "Data columns (total 40 columns):\n",
      " #   Column        Non-Null Count  Dtype  \n",
      "---  ------        --------------  -----  \n",
      " 0   yield stress  27 non-null     float64\n",
      " 1   elongation    27 non-null     float64\n",
      " 2   10Hz_real     27 non-null     float64\n",
      " 3   10Hz_img      27 non-null     float64\n",
      " 4   20Hz_real     27 non-null     float64\n",
      " 5   20Hz_img      27 non-null     float64\n",
      " 6   30Hz_real     27 non-null     float64\n",
      " 7   30Hz_img      27 non-null     float64\n",
      " 8   40Hz_real     27 non-null     float64\n",
      " 9   40Hz_img      27 non-null     float64\n",
      " 10  50Hz_real     27 non-null     float64\n",
      " 11  50Hz_img      27 non-null     float64\n",
      " 12  60Hz_real     27 non-null     float64\n",
      " 13  60Hz_img      27 non-null     float64\n",
      " 14  70Hz_real     27 non-null     float64\n",
      " 15  70Hz_img      27 non-null     float64\n",
      " 16  80Hz_real     27 non-null     float64\n",
      " 17  80Hz_img      27 non-null     float64\n",
      " 18  90Hz_real     27 non-null     float64\n",
      " 19  90Hz_img      27 non-null     float64\n",
      " 20  100Hz_real    27 non-null     float64\n",
      " 21  100Hz_img     27 non-null     float64\n",
      " 22  200Hz_real    27 non-null     float64\n",
      " 23  200Hz_img     27 non-null     float64\n",
      " 24  300Hz_real    27 non-null     float64\n",
      " 25  300Hz_img     27 non-null     float64\n",
      " 26  400Hz_real    27 non-null     float64\n",
      " 27  400Hz_img     27 non-null     float64\n",
      " 28  500Hz_real    27 non-null     float64\n",
      " 29  500Hz_img     27 non-null     float64\n",
      " 30  600Hz_real    27 non-null     float64\n",
      " 31  600Hz_img     27 non-null     float64\n",
      " 32  700Hz_real    27 non-null     float64\n",
      " 33  700Hz_img     27 non-null     float64\n",
      " 34  800Hz_real    27 non-null     float64\n",
      " 35  800Hz_img     27 non-null     float64\n",
      " 36  900Hz_real    27 non-null     float64\n",
      " 37  900Hz_img     27 non-null     float64\n",
      " 38  1000Hz_real   27 non-null     float64\n",
      " 39  1000Hz_img    27 non-null     float64\n",
      "dtypes: float64(40)\n",
      "memory usage: 8.6 KB\n"
     ]
    }
   ],
   "source": [
    "df.info()"
   ]
  },
  {
   "cell_type": "markdown",
   "metadata": {
    "colab_type": "text",
    "id": "y7n9_Uyy21lQ"
   },
   "source": [
    "6 Variable (1k_voltage, 1k_RE, 1k_IM, 5k_voltage, 5k_RE, 5k_Im) data\n",
    "---"
   ]
  },
  {
   "cell_type": "code",
   "execution_count": 6,
   "metadata": {
    "colab": {
     "base_uri": "https://localhost:8080/",
     "height": 251
    },
    "colab_type": "code",
    "executionInfo": {
     "elapsed": 1354,
     "status": "ok",
     "timestamp": 1580941797578,
     "user": {
      "displayName": "이경민학부생",
      "photoUrl": "",
      "userId": "01346787625936847475"
     },
     "user_tz": -540
    },
    "id": "ZzMRiF3t21lR",
    "outputId": "2ec81f59-0ee8-48f6-a0be-7ca6882208f8"
   },
   "outputs": [
    {
     "name": "stdout",
     "output_type": "stream",
     "text": [
      "<class 'pandas.core.frame.DataFrame'>\n",
      "Int64Index: 190 entries, 0 to 189\n",
      "Data columns (total 8 columns):\n",
      "yield stress    190 non-null float64\n",
      "elongation      190 non-null float64\n",
      "1k_voltage      190 non-null float64\n",
      "1k_RE           190 non-null float64\n",
      "1k_IM           190 non-null float64\n",
      "5k_voltage      190 non-null float64\n",
      "5k_RE           190 non-null float64\n",
      "5k_IM           190 non-null float64\n",
      "dtypes: float64(8)\n",
      "memory usage: 13.4 KB\n"
     ]
    }
   ],
   "source": [
    "df = df.loc[:,[\"yield stress\", \"elongation\",\"1k_voltage\", \"1k_RE\", \"1k_IM\", \"5k_voltage\", \"5k_RE\", \"5k_IM\"]]\n",
    "df = df.drop(df.index[190:209])\n",
    "df.info()"
   ]
  },
  {
   "cell_type": "code",
   "execution_count": 5,
   "metadata": {
    "colab": {
     "base_uri": "https://localhost:8080/",
     "height": 297
    },
    "colab_type": "code",
    "executionInfo": {
     "elapsed": 1354,
     "status": "ok",
     "timestamp": 1580910168620,
     "user": {
      "displayName": "이경민학부생",
      "photoUrl": "",
      "userId": "01346787625936847475"
     },
     "user_tz": -540
    },
    "id": "LbFbH73d9j5J",
    "outputId": "05ad6405-2875-43a3-bd57-d79438ebf922"
   },
   "outputs": [
    {
     "data": {
      "text/html": [
       "<div>\n",
       "<style scoped>\n",
       "    .dataframe tbody tr th:only-of-type {\n",
       "        vertical-align: middle;\n",
       "    }\n",
       "\n",
       "    .dataframe tbody tr th {\n",
       "        vertical-align: top;\n",
       "    }\n",
       "\n",
       "    .dataframe thead th {\n",
       "        text-align: right;\n",
       "    }\n",
       "</style>\n",
       "<table border=\"1\" class=\"dataframe\">\n",
       "  <thead>\n",
       "    <tr style=\"text-align: right;\">\n",
       "      <th></th>\n",
       "      <th>yield stress</th>\n",
       "      <th>elongation</th>\n",
       "      <th>10Hz_real</th>\n",
       "      <th>10Hz_img</th>\n",
       "      <th>20Hz_real</th>\n",
       "      <th>20Hz_img</th>\n",
       "      <th>30Hz_real</th>\n",
       "      <th>30Hz_img</th>\n",
       "      <th>40Hz_real</th>\n",
       "      <th>40Hz_img</th>\n",
       "      <th>...</th>\n",
       "      <th>600Hz_real</th>\n",
       "      <th>600Hz_img</th>\n",
       "      <th>700Hz_real</th>\n",
       "      <th>700Hz_img</th>\n",
       "      <th>800Hz_real</th>\n",
       "      <th>800Hz_img</th>\n",
       "      <th>900Hz_real</th>\n",
       "      <th>900Hz_img</th>\n",
       "      <th>1000Hz_real</th>\n",
       "      <th>1000Hz_img</th>\n",
       "    </tr>\n",
       "  </thead>\n",
       "  <tbody>\n",
       "    <tr>\n",
       "      <th>count</th>\n",
       "      <td>27.000000</td>\n",
       "      <td>27.000000</td>\n",
       "      <td>27.000000</td>\n",
       "      <td>27.000000</td>\n",
       "      <td>27.000000</td>\n",
       "      <td>27.000000</td>\n",
       "      <td>27.000000</td>\n",
       "      <td>27.000000</td>\n",
       "      <td>27.000000</td>\n",
       "      <td>27.000000</td>\n",
       "      <td>...</td>\n",
       "      <td>27.000000</td>\n",
       "      <td>27.000000</td>\n",
       "      <td>27.000000</td>\n",
       "      <td>27.000000</td>\n",
       "      <td>27.000000</td>\n",
       "      <td>27.000000</td>\n",
       "      <td>27.000000</td>\n",
       "      <td>27.000000</td>\n",
       "      <td>27.000000</td>\n",
       "      <td>27.000000</td>\n",
       "    </tr>\n",
       "    <tr>\n",
       "      <th>mean</th>\n",
       "      <td>270.816667</td>\n",
       "      <td>0.195000</td>\n",
       "      <td>-0.002212</td>\n",
       "      <td>0.270699</td>\n",
       "      <td>0.061132</td>\n",
       "      <td>0.530466</td>\n",
       "      <td>0.159799</td>\n",
       "      <td>0.770439</td>\n",
       "      <td>0.288163</td>\n",
       "      <td>0.986603</td>\n",
       "      <td>...</td>\n",
       "      <td>2.643873</td>\n",
       "      <td>0.551160</td>\n",
       "      <td>2.668801</td>\n",
       "      <td>0.480020</td>\n",
       "      <td>2.685527</td>\n",
       "      <td>0.413568</td>\n",
       "      <td>2.695814</td>\n",
       "      <td>0.354577</td>\n",
       "      <td>2.698120</td>\n",
       "      <td>0.326146</td>\n",
       "    </tr>\n",
       "    <tr>\n",
       "      <th>std</th>\n",
       "      <td>53.111523</td>\n",
       "      <td>0.119059</td>\n",
       "      <td>0.000563</td>\n",
       "      <td>0.004475</td>\n",
       "      <td>0.002240</td>\n",
       "      <td>0.008215</td>\n",
       "      <td>0.004998</td>\n",
       "      <td>0.011577</td>\n",
       "      <td>0.008221</td>\n",
       "      <td>0.013650</td>\n",
       "      <td>...</td>\n",
       "      <td>0.008120</td>\n",
       "      <td>0.006278</td>\n",
       "      <td>0.007920</td>\n",
       "      <td>0.005763</td>\n",
       "      <td>0.007047</td>\n",
       "      <td>0.005120</td>\n",
       "      <td>0.006488</td>\n",
       "      <td>0.004357</td>\n",
       "      <td>0.006591</td>\n",
       "      <td>0.004691</td>\n",
       "    </tr>\n",
       "    <tr>\n",
       "      <th>min</th>\n",
       "      <td>150.000000</td>\n",
       "      <td>0.000000</td>\n",
       "      <td>-0.003737</td>\n",
       "      <td>0.260139</td>\n",
       "      <td>0.055922</td>\n",
       "      <td>0.512395</td>\n",
       "      <td>0.147061</td>\n",
       "      <td>0.741791</td>\n",
       "      <td>0.268536</td>\n",
       "      <td>0.954541</td>\n",
       "      <td>...</td>\n",
       "      <td>2.621856</td>\n",
       "      <td>0.539650</td>\n",
       "      <td>2.647809</td>\n",
       "      <td>0.469237</td>\n",
       "      <td>2.666612</td>\n",
       "      <td>0.404472</td>\n",
       "      <td>2.678862</td>\n",
       "      <td>0.346958</td>\n",
       "      <td>2.681545</td>\n",
       "      <td>0.319128</td>\n",
       "    </tr>\n",
       "    <tr>\n",
       "      <th>25%</th>\n",
       "      <td>244.640000</td>\n",
       "      <td>0.097500</td>\n",
       "      <td>-0.002543</td>\n",
       "      <td>0.267912</td>\n",
       "      <td>0.059686</td>\n",
       "      <td>0.524729</td>\n",
       "      <td>0.156907</td>\n",
       "      <td>0.763384</td>\n",
       "      <td>0.282905</td>\n",
       "      <td>0.977648</td>\n",
       "      <td>...</td>\n",
       "      <td>2.638015</td>\n",
       "      <td>0.546147</td>\n",
       "      <td>2.663723</td>\n",
       "      <td>0.475433</td>\n",
       "      <td>2.680966</td>\n",
       "      <td>0.409510</td>\n",
       "      <td>2.691946</td>\n",
       "      <td>0.351123</td>\n",
       "      <td>2.694700</td>\n",
       "      <td>0.322440</td>\n",
       "    </tr>\n",
       "    <tr>\n",
       "      <th>50%</th>\n",
       "      <td>288.010000</td>\n",
       "      <td>0.195000</td>\n",
       "      <td>-0.002058</td>\n",
       "      <td>0.270652</td>\n",
       "      <td>0.061370</td>\n",
       "      <td>0.530378</td>\n",
       "      <td>0.160310</td>\n",
       "      <td>0.771117</td>\n",
       "      <td>0.288825</td>\n",
       "      <td>0.987216</td>\n",
       "      <td>...</td>\n",
       "      <td>2.645842</td>\n",
       "      <td>0.551254</td>\n",
       "      <td>2.670596</td>\n",
       "      <td>0.479860</td>\n",
       "      <td>2.687069</td>\n",
       "      <td>0.413328</td>\n",
       "      <td>2.697153</td>\n",
       "      <td>0.354339</td>\n",
       "      <td>2.699347</td>\n",
       "      <td>0.325244</td>\n",
       "    </tr>\n",
       "    <tr>\n",
       "      <th>75%</th>\n",
       "      <td>312.095000</td>\n",
       "      <td>0.292500</td>\n",
       "      <td>-0.001807</td>\n",
       "      <td>0.273761</td>\n",
       "      <td>0.062673</td>\n",
       "      <td>0.535983</td>\n",
       "      <td>0.163215</td>\n",
       "      <td>0.778185</td>\n",
       "      <td>0.293894</td>\n",
       "      <td>0.995922</td>\n",
       "      <td>...</td>\n",
       "      <td>2.648695</td>\n",
       "      <td>0.555530</td>\n",
       "      <td>2.673524</td>\n",
       "      <td>0.484710</td>\n",
       "      <td>2.689762</td>\n",
       "      <td>0.417489</td>\n",
       "      <td>2.699594</td>\n",
       "      <td>0.357868</td>\n",
       "      <td>2.702265</td>\n",
       "      <td>0.329593</td>\n",
       "    </tr>\n",
       "    <tr>\n",
       "      <th>max</th>\n",
       "      <td>328.460000</td>\n",
       "      <td>0.390000</td>\n",
       "      <td>-0.001414</td>\n",
       "      <td>0.279324</td>\n",
       "      <td>0.065215</td>\n",
       "      <td>0.546686</td>\n",
       "      <td>0.168532</td>\n",
       "      <td>0.791553</td>\n",
       "      <td>0.302864</td>\n",
       "      <td>1.011364</td>\n",
       "      <td>...</td>\n",
       "      <td>2.655886</td>\n",
       "      <td>0.566322</td>\n",
       "      <td>2.680330</td>\n",
       "      <td>0.494277</td>\n",
       "      <td>2.695789</td>\n",
       "      <td>0.426640</td>\n",
       "      <td>2.705355</td>\n",
       "      <td>0.365693</td>\n",
       "      <td>2.707274</td>\n",
       "      <td>0.338066</td>\n",
       "    </tr>\n",
       "  </tbody>\n",
       "</table>\n",
       "<p>8 rows × 40 columns</p>\n",
       "</div>"
      ],
      "text/plain": [
       "       yield stress  elongation  10Hz_real   10Hz_img  20Hz_real   20Hz_img  \\\n",
       "count     27.000000   27.000000  27.000000  27.000000  27.000000  27.000000   \n",
       "mean     270.816667    0.195000  -0.002212   0.270699   0.061132   0.530466   \n",
       "std       53.111523    0.119059   0.000563   0.004475   0.002240   0.008215   \n",
       "min      150.000000    0.000000  -0.003737   0.260139   0.055922   0.512395   \n",
       "25%      244.640000    0.097500  -0.002543   0.267912   0.059686   0.524729   \n",
       "50%      288.010000    0.195000  -0.002058   0.270652   0.061370   0.530378   \n",
       "75%      312.095000    0.292500  -0.001807   0.273761   0.062673   0.535983   \n",
       "max      328.460000    0.390000  -0.001414   0.279324   0.065215   0.546686   \n",
       "\n",
       "       30Hz_real   30Hz_img  40Hz_real   40Hz_img  ...  600Hz_real  600Hz_img  \\\n",
       "count  27.000000  27.000000  27.000000  27.000000  ...   27.000000  27.000000   \n",
       "mean    0.159799   0.770439   0.288163   0.986603  ...    2.643873   0.551160   \n",
       "std     0.004998   0.011577   0.008221   0.013650  ...    0.008120   0.006278   \n",
       "min     0.147061   0.741791   0.268536   0.954541  ...    2.621856   0.539650   \n",
       "25%     0.156907   0.763384   0.282905   0.977648  ...    2.638015   0.546147   \n",
       "50%     0.160310   0.771117   0.288825   0.987216  ...    2.645842   0.551254   \n",
       "75%     0.163215   0.778185   0.293894   0.995922  ...    2.648695   0.555530   \n",
       "max     0.168532   0.791553   0.302864   1.011364  ...    2.655886   0.566322   \n",
       "\n",
       "       700Hz_real  700Hz_img  800Hz_real  800Hz_img  900Hz_real  900Hz_img  \\\n",
       "count   27.000000  27.000000   27.000000  27.000000   27.000000  27.000000   \n",
       "mean     2.668801   0.480020    2.685527   0.413568    2.695814   0.354577   \n",
       "std      0.007920   0.005763    0.007047   0.005120    0.006488   0.004357   \n",
       "min      2.647809   0.469237    2.666612   0.404472    2.678862   0.346958   \n",
       "25%      2.663723   0.475433    2.680966   0.409510    2.691946   0.351123   \n",
       "50%      2.670596   0.479860    2.687069   0.413328    2.697153   0.354339   \n",
       "75%      2.673524   0.484710    2.689762   0.417489    2.699594   0.357868   \n",
       "max      2.680330   0.494277    2.695789   0.426640    2.705355   0.365693   \n",
       "\n",
       "       1000Hz_real  1000Hz_img  \n",
       "count    27.000000   27.000000  \n",
       "mean      2.698120    0.326146  \n",
       "std       0.006591    0.004691  \n",
       "min       2.681545    0.319128  \n",
       "25%       2.694700    0.322440  \n",
       "50%       2.699347    0.325244  \n",
       "75%       2.702265    0.329593  \n",
       "max       2.707274    0.338066  \n",
       "\n",
       "[8 rows x 40 columns]"
      ]
     },
     "execution_count": 5,
     "metadata": {},
     "output_type": "execute_result"
    }
   ],
   "source": [
    "df.describe()"
   ]
  },
  {
   "cell_type": "code",
   "execution_count": 6,
   "metadata": {
    "colab": {
     "base_uri": "https://localhost:8080/",
     "height": 1000
    },
    "colab_type": "code",
    "executionInfo": {
     "elapsed": 3495,
     "status": "ok",
     "timestamp": 1580910171061,
     "user": {
      "displayName": "이경민학부생",
      "photoUrl": "",
      "userId": "01346787625936847475"
     },
     "user_tz": -540
    },
    "id": "MEXeURCI9j5L",
    "outputId": "a860d3e9-fe85-4c8d-8951-d0e6359f02f3"
   },
   "outputs": [
    {
     "data": {
      "text/plain": [
       "array([[<matplotlib.axes._subplots.AxesSubplot object at 0x000002B719131E20>,\n",
       "        <matplotlib.axes._subplots.AxesSubplot object at 0x000002B7193E4340>,\n",
       "        <matplotlib.axes._subplots.AxesSubplot object at 0x000002B71940C790>,\n",
       "        <matplotlib.axes._subplots.AxesSubplot object at 0x000002B719435C10>,\n",
       "        <matplotlib.axes._subplots.AxesSubplot object at 0x000002B719460100>,\n",
       "        <matplotlib.axes._subplots.AxesSubplot object at 0x000002B719493430>],\n",
       "       [<matplotlib.axes._subplots.AxesSubplot object at 0x000002B719493520>,\n",
       "        <matplotlib.axes._subplots.AxesSubplot object at 0x000002B7194BE9D0>,\n",
       "        <matplotlib.axes._subplots.AxesSubplot object at 0x000002B71A4F3220>,\n",
       "        <matplotlib.axes._subplots.AxesSubplot object at 0x000002B71A520670>,\n",
       "        <matplotlib.axes._subplots.AxesSubplot object at 0x000002B71A54CAF0>,\n",
       "        <matplotlib.axes._subplots.AxesSubplot object at 0x000002B71A579F40>],\n",
       "       [<matplotlib.axes._subplots.AxesSubplot object at 0x000002B71A5B13D0>,\n",
       "        <matplotlib.axes._subplots.AxesSubplot object at 0x000002B71A5DD820>,\n",
       "        <matplotlib.axes._subplots.AxesSubplot object at 0x000002B71A60AC70>,\n",
       "        <matplotlib.axes._subplots.AxesSubplot object at 0x000002B71A640130>,\n",
       "        <matplotlib.axes._subplots.AxesSubplot object at 0x000002B71A66E5B0>,\n",
       "        <matplotlib.axes._subplots.AxesSubplot object at 0x000002B71A69AA00>],\n",
       "       [<matplotlib.axes._subplots.AxesSubplot object at 0x000002B71A6C6E50>,\n",
       "        <matplotlib.axes._subplots.AxesSubplot object at 0x000002B71A6FE2E0>,\n",
       "        <matplotlib.axes._subplots.AxesSubplot object at 0x000002B71A72B730>,\n",
       "        <matplotlib.axes._subplots.AxesSubplot object at 0x000002B71A755BE0>,\n",
       "        <matplotlib.axes._subplots.AxesSubplot object at 0x000002B71A7820D0>,\n",
       "        <matplotlib.axes._subplots.AxesSubplot object at 0x000002B71A7BC520>],\n",
       "       [<matplotlib.axes._subplots.AxesSubplot object at 0x000002B71A7E6970>,\n",
       "        <matplotlib.axes._subplots.AxesSubplot object at 0x000002B71A814DC0>,\n",
       "        <matplotlib.axes._subplots.AxesSubplot object at 0x000002B71A84B250>,\n",
       "        <matplotlib.axes._subplots.AxesSubplot object at 0x000002B71A8766A0>,\n",
       "        <matplotlib.axes._subplots.AxesSubplot object at 0x000002B71A8A3AF0>,\n",
       "        <matplotlib.axes._subplots.AxesSubplot object at 0x000002B71A8D1FA0>],\n",
       "       [<matplotlib.axes._subplots.AxesSubplot object at 0x000002B71A900130>,\n",
       "        <matplotlib.axes._subplots.AxesSubplot object at 0x000002B71A932850>,\n",
       "        <matplotlib.axes._subplots.AxesSubplot object at 0x000002B71A95D070>,\n",
       "        <matplotlib.axes._subplots.AxesSubplot object at 0x000002B71A9907C0>,\n",
       "        <matplotlib.axes._subplots.AxesSubplot object at 0x000002B71A9BBF40>,\n",
       "        <matplotlib.axes._subplots.AxesSubplot object at 0x000002B71A9EE700>],\n",
       "       [<matplotlib.axes._subplots.AxesSubplot object at 0x000002B71AA1BEE0>,\n",
       "        <matplotlib.axes._subplots.AxesSubplot object at 0x000002B71AA4F6A0>,\n",
       "        <matplotlib.axes._subplots.AxesSubplot object at 0x000002B71AA77E20>,\n",
       "        <matplotlib.axes._subplots.AxesSubplot object at 0x000002B71AAAB5E0>,\n",
       "        <matplotlib.axes._subplots.AxesSubplot object at 0x000002B71AAD6CA0>,\n",
       "        <matplotlib.axes._subplots.AxesSubplot object at 0x000002B71AAFD610>]],\n",
       "      dtype=object)"
      ]
     },
     "execution_count": 6,
     "metadata": {},
     "output_type": "execute_result"
    },
    {
     "data": {
      "image/png": "[encoded data removed]",
      "text/plain": [
       "<Figure size 1440x1080 with 42 Axes>"
      ]
     },
     "metadata": {
      "needs_background": "light"
     },
     "output_type": "display_data"
    }
   ],
   "source": [
    "%matplotlib inline\n",
    "import matplotlib.pyplot as plt\n",
    "df.hist(bins=50, figsize=(20,15))"
   ]
  },
  {
   "cell_type": "code",
   "execution_count": 7,
   "metadata": {
    "colab": {},
    "colab_type": "code",
    "id": "WXmEE0aN9j5M"
   },
   "outputs": [],
   "source": [
    "# to make this notebook's output identical at every run\n",
    "np.random.seed(42)"
   ]
  },
  {
   "cell_type": "code",
   "execution_count": 13,
   "metadata": {
    "colab": {
     "base_uri": "https://localhost:8080/",
     "height": 35
    },
    "colab_type": "code",
    "executionInfo": {
     "elapsed": 777,
     "status": "ok",
     "timestamp": 1580941805024,
     "user": {
      "displayName": "이경민학부생",
      "photoUrl": "",
      "userId": "01346787625936847475"
     },
     "user_tz": -540
    },
    "id": "IxkeljdZ9j5O",
    "outputId": "80145295-136f-427b-afb2-f89e8776ff34"
   },
   "outputs": [
    {
     "data": {
      "text/plain": [
       "21"
      ]
     },
     "execution_count": 13,
     "metadata": {},
     "output_type": "execute_result"
    }
   ],
   "source": [
    "# train, test data split\n",
    "from sklearn.model_selection import train_test_split\n",
    "\n",
    "X = df.loc[:,[\"10Hz_real\", \"10Hz_img\", \"20Hz_real\", \"20Hz_img\",\"30Hz_real\", \"30Hz_img\",\"40Hz_real\", \"40Hz_img\",\"50Hz_real\", \"50Hz_img\",\"60Hz_real\", \"60Hz_img\",\"70Hz_real\", \"70Hz_img\",\"80Hz_real\", \"80Hz_img\",\"90Hz_real\", \"90Hz_img\",\"100Hz_real\", \"100Hz_img\",\n",
    "             \"200Hz_real\", \"200Hz_img\",\"300Hz_real\", \"300Hz_img\",\"400Hz_real\", \"400Hz_img\",\"500Hz_real\", \"500Hz_img\",\"600Hz_real\", \"600Hz_img\",\"700Hz_real\", \"700Hz_img\",\"800Hz_real\", \"800Hz_img\",\"900Hz_real\", \"900Hz_img\",\"1000Hz_real\", \"1000Hz_img\"]]\n",
    "ys = df.loc[:,\"yield stress\"]\n",
    "elong = df.loc[:,\"elongation\"]\n",
    "\n",
    "X_train, X_test, ys_train, ys_test = train_test_split(X, ys, test_size=0.2, random_state=42)\n",
    "X_train, X_test, el_train, el_test = train_test_split(X, elong, test_size=0.2, random_state=42)\n",
    "len(X_train)"
   ]
  },
  {
   "cell_type": "code",
   "execution_count": 14,
   "metadata": {
    "colab": {
     "base_uri": "https://localhost:8080/",
     "height": 35
    },
    "colab_type": "code",
    "executionInfo": {
     "elapsed": 1102,
     "status": "ok",
     "timestamp": 1580941805695,
     "user": {
      "displayName": "이경민학부생",
      "photoUrl": "",
      "userId": "01346787625936847475"
     },
     "user_tz": -540
    },
    "id": "Qea4Ax0D9j5Q",
    "outputId": "30920a69-1a84-4ce8-d053-08028e36e14d"
   },
   "outputs": [
    {
     "data": {
      "text/plain": [
       "6"
      ]
     },
     "execution_count": 14,
     "metadata": {},
     "output_type": "execute_result"
    }
   ],
   "source": [
    "len(X_test)"
   ]
  },
  {
   "cell_type": "markdown",
   "metadata": {
    "colab_type": "text",
    "id": "RkCe9lGr9j5U"
   },
   "source": [
    "Discover and visualize the data to gain insights\n",
    "==="
   ]
  },
  {
   "cell_type": "code",
   "execution_count": 8,
   "metadata": {
    "colab": {
     "base_uri": "https://localhost:8080/",
     "height": 251
    },
    "colab_type": "code",
    "executionInfo": {
     "elapsed": 1075,
     "status": "ok",
     "timestamp": 1580910175324,
     "user": {
      "displayName": "이경민학부생",
      "photoUrl": "",
      "userId": "01346787625936847475"
     },
     "user_tz": -540
    },
    "id": "UAfe9aVJ9j5V",
    "outputId": "11880327-4f8d-470f-952d-3b5ccf2719c8"
   },
   "outputs": [
    {
     "name": "stdout",
     "output_type": "stream",
     "text": [
      "<class 'pandas.core.frame.DataFrame'>\n",
      "RangeIndex: 27 entries, 0 to 26\n",
      "Data columns (total 40 columns):\n",
      " #   Column        Non-Null Count  Dtype  \n",
      "---  ------        --------------  -----  \n",
      " 0   yield stress  27 non-null     float64\n",
      " 1   elongation    27 non-null     float64\n",
      " 2   10Hz_real     27 non-null     float64\n",
      " 3   10Hz_img      27 non-null     float64\n",
      " 4   20Hz_real     27 non-null     float64\n",
      " 5   20Hz_img      27 non-null     float64\n",
      " 6   30Hz_real     27 non-null     float64\n",
      " 7   30Hz_img      27 non-null     float64\n",
      " 8   40Hz_real     27 non-null     float64\n",
      " 9   40Hz_img      27 non-null     float64\n",
      " 10  50Hz_real     27 non-null     float64\n",
      " 11  50Hz_img      27 non-null     float64\n",
      " 12  60Hz_real     27 non-null     float64\n",
      " 13  60Hz_img      27 non-null     float64\n",
      " 14  70Hz_real     27 non-null     float64\n",
      " 15  70Hz_img      27 non-null     float64\n",
      " 16  80Hz_real     27 non-null     float64\n",
      " 17  80Hz_img      27 non-null     float64\n",
      " 18  90Hz_real     27 non-null     float64\n",
      " 19  90Hz_img      27 non-null     float64\n",
      " 20  100Hz_real    27 non-null     float64\n",
      " 21  100Hz_img     27 non-null     float64\n",
      " 22  200Hz_real    27 non-null     float64\n",
      " 23  200Hz_img     27 non-null     float64\n",
      " 24  300Hz_real    27 non-null     float64\n",
      " 25  300Hz_img     27 non-null     float64\n",
      " 26  400Hz_real    27 non-null     float64\n",
      " 27  400Hz_img     27 non-null     float64\n",
      " 28  500Hz_real    27 non-null     float64\n",
      " 29  500Hz_img     27 non-null     float64\n",
      " 30  600Hz_real    27 non-null     float64\n",
      " 31  600Hz_img     27 non-null     float64\n",
      " 32  700Hz_real    27 non-null     float64\n",
      " 33  700Hz_img     27 non-null     float64\n",
      " 34  800Hz_real    27 non-null     float64\n",
      " 35  800Hz_img     27 non-null     float64\n",
      " 36  900Hz_real    27 non-null     float64\n",
      " 37  900Hz_img     27 non-null     float64\n",
      " 38  1000Hz_real   27 non-null     float64\n",
      " 39  1000Hz_img    27 non-null     float64\n",
      "dtypes: float64(40)\n",
      "memory usage: 8.6 KB\n"
     ]
    }
   ],
   "source": [
    "# Copy the dataset in order not to harm train set\n",
    "df_copy = df.copy()\n",
    "df_copy.info()"
   ]
  },
  {
   "cell_type": "code",
   "execution_count": 0,
   "metadata": {
    "colab": {
     "base_uri": "https://localhost:8080/",
     "height": 215
    },
    "colab_type": "code",
    "executionInfo": {
     "elapsed": 695,
     "status": "ok",
     "timestamp": 1580910175685,
     "user": {
      "displayName": "이경민학부생",
      "photoUrl": "",
      "userId": "01346787625936847475"
     },
     "user_tz": -540
    },
    "id": "QY88hi689j5X",
    "outputId": "65a7d93b-44ff-4eeb-a011-41400c77cdb9"
   },
   "outputs": [
    {
     "name": "stdout",
     "output_type": "stream",
     "text": [
      "<class 'pandas.core.frame.DataFrame'>\n",
      "Int64Index: 152 entries, 51 to 102\n",
      "Data columns (total 6 columns):\n",
      "1k_voltage    152 non-null float64\n",
      "1k_RE         152 non-null float64\n",
      "1k_IM         152 non-null float64\n",
      "5k_voltage    152 non-null float64\n",
      "5k_RE         152 non-null float64\n",
      "5k_IM         152 non-null float64\n",
      "dtypes: float64(6)\n",
      "memory usage: 8.3 KB\n"
     ]
    }
   ],
   "source": [
    "X_train.info()"
   ]
  },
  {
   "cell_type": "code",
   "execution_count": 0,
   "metadata": {
    "colab": {
     "base_uri": "https://localhost:8080/",
     "height": 304
    },
    "colab_type": "code",
    "executionInfo": {
     "elapsed": 1325,
     "status": "ok",
     "timestamp": 1580910176924,
     "user": {
      "displayName": "이경민학부생",
      "photoUrl": "",
      "userId": "01346787625936847475"
     },
     "user_tz": -540
    },
    "id": "QyKO52ne9j5Z",
    "outputId": "ba1dbd26-1322-448b-dc79-cde50b85ba6d"
   },
   "outputs": [
    {
     "data": {
      "text/plain": [
       "<matplotlib.axes._subplots.AxesSubplot at 0x7fdac9fe8860>"
      ]
     },
     "execution_count": 14,
     "metadata": {
      "tags": []
     },
     "output_type": "execute_result"
    },
    {
     "data": {
      "image/png": "[encoded data removed]",
      "text/plain": [
       "<Figure size 432x288 with 1 Axes>"
      ]
     },
     "metadata": {
      "tags": []
     },
     "output_type": "display_data"
    }
   ],
   "source": [
    "df_copy.plot(kind=\"scatter\", x=\"1k_RE\", y=\"elongation\")"
   ]
  },
  {
   "cell_type": "code",
   "execution_count": 0,
   "metadata": {
    "colab": {
     "base_uri": "https://localhost:8080/",
     "height": 304
    },
    "colab_type": "code",
    "executionInfo": {
     "elapsed": 1258,
     "status": "ok",
     "timestamp": 1580910177487,
     "user": {
      "displayName": "이경민학부생",
      "photoUrl": "",
      "userId": "01346787625936847475"
     },
     "user_tz": -540
    },
    "id": "fqW4wvm29j5a",
    "outputId": "ca8e3897-6d37-42f9-da3e-345ecdfc9e5c"
   },
   "outputs": [
    {
     "data": {
      "text/plain": [
       "<matplotlib.axes._subplots.AxesSubplot at 0x7fdac697a7b8>"
      ]
     },
     "execution_count": 15,
     "metadata": {
      "tags": []
     },
     "output_type": "execute_result"
    },
    {
     "data": {
      "image/png": "[encoded data removed]",
      "text/plain": [
       "<Figure size 432x288 with 1 Axes>"
      ]
     },
     "metadata": {
      "tags": []
     },
     "output_type": "display_data"
    }
   ],
   "source": [
    "df_copy.plot(kind=\"scatter\", x=\"1k_IM\", y=\"elongation\")"
   ]
  },
  {
   "cell_type": "code",
   "execution_count": 0,
   "metadata": {
    "colab": {
     "base_uri": "https://localhost:8080/",
     "height": 304
    },
    "colab_type": "code",
    "executionInfo": {
     "elapsed": 1645,
     "status": "ok",
     "timestamp": 1580910178444,
     "user": {
      "displayName": "이경민학부생",
      "photoUrl": "",
      "userId": "01346787625936847475"
     },
     "user_tz": -540
    },
    "id": "1Wfpk2cqlc8g",
    "outputId": "85e9692e-667f-4dbb-9b90-3f8e1923af24"
   },
   "outputs": [
    {
     "data": {
      "text/plain": [
       "<matplotlib.axes._subplots.AxesSubplot at 0x7fdac68dbd30>"
      ]
     },
     "execution_count": 16,
     "metadata": {
      "tags": []
     },
     "output_type": "execute_result"
    },
    {
     "data": {
      "image/png": "[encoded data removed]",
      "text/plain": [
       "<Figure size 432x288 with 1 Axes>"
      ]
     },
     "metadata": {
      "tags": []
     },
     "output_type": "display_data"
    }
   ],
   "source": [
    "df_copy.plot(kind=\"scatter\", x=\"1k_voltage\", y=\"elongation\")"
   ]
  },
  {
   "cell_type": "code",
   "execution_count": 0,
   "metadata": {
    "colab": {
     "base_uri": "https://localhost:8080/",
     "height": 304
    },
    "colab_type": "code",
    "executionInfo": {
     "elapsed": 1528,
     "status": "ok",
     "timestamp": 1580910178892,
     "user": {
      "displayName": "이경민학부생",
      "photoUrl": "",
      "userId": "01346787625936847475"
     },
     "user_tz": -540
    },
    "id": "OD-5GG8Slc8j",
    "outputId": "3a8fd1cb-381c-413b-dcc4-88a73a0e2b46"
   },
   "outputs": [
    {
     "data": {
      "text/plain": [
       "<matplotlib.axes._subplots.AxesSubplot at 0x7fdac68c1198>"
      ]
     },
     "execution_count": 17,
     "metadata": {
      "tags": []
     },
     "output_type": "execute_result"
    },
    {
     "data": {
      "image/png": "[encoded data removed]",
      "text/plain": [
       "<Figure size 432x288 with 1 Axes>"
      ]
     },
     "metadata": {
      "tags": []
     },
     "output_type": "display_data"
    }
   ],
   "source": [
    "df_copy.plot(kind=\"scatter\", x=\"5k_RE\", y=\"elongation\")"
   ]
  },
  {
   "cell_type": "code",
   "execution_count": 0,
   "metadata": {
    "colab": {
     "base_uri": "https://localhost:8080/",
     "height": 304
    },
    "colab_type": "code",
    "executionInfo": {
     "elapsed": 1799,
     "status": "ok",
     "timestamp": 1580910179813,
     "user": {
      "displayName": "이경민학부생",
      "photoUrl": "",
      "userId": "01346787625936847475"
     },
     "user_tz": -540
    },
    "id": "fhV5NM4Dlc8m",
    "outputId": "95b93f32-e54f-43ce-9656-47859d270296"
   },
   "outputs": [
    {
     "data": {
      "text/plain": [
       "<matplotlib.axes._subplots.AxesSubplot at 0x7fdac6812b70>"
      ]
     },
     "execution_count": 18,
     "metadata": {
      "tags": []
     },
     "output_type": "execute_result"
    },
    {
     "data": {
      "image/png": "[encoded data removed]",
      "text/plain": [
       "<Figure size 432x288 with 1 Axes>"
      ]
     },
     "metadata": {
      "tags": []
     },
     "output_type": "display_data"
    }
   ],
   "source": [
    "df_copy.plot(kind=\"scatter\", x=\"5k_IM\", y=\"elongation\")"
   ]
  },
  {
   "cell_type": "code",
   "execution_count": 0,
   "metadata": {
    "colab": {
     "base_uri": "https://localhost:8080/",
     "height": 304
    },
    "colab_type": "code",
    "executionInfo": {
     "elapsed": 1596,
     "status": "ok",
     "timestamp": 1580910180357,
     "user": {
      "displayName": "이경민학부생",
      "photoUrl": "",
      "userId": "01346787625936847475"
     },
     "user_tz": -540
    },
    "id": "Dpq1xdUslc8p",
    "outputId": "f9ab37a3-a2bf-45af-89e6-7e2b5dec6c1b"
   },
   "outputs": [
    {
     "data": {
      "text/plain": [
       "<matplotlib.axes._subplots.AxesSubplot at 0x7fdac6802f60>"
      ]
     },
     "execution_count": 19,
     "metadata": {
      "tags": []
     },
     "output_type": "execute_result"
    },
    {
     "data": {
      "image/png": "[encoded data removed]",
      "text/plain": [
       "<Figure size 432x288 with 1 Axes>"
      ]
     },
     "metadata": {
      "tags": []
     },
     "output_type": "display_data"
    }
   ],
   "source": [
    "df_copy.plot(kind=\"scatter\", x=\"5k_voltage\", y=\"elongation\")"
   ]
  },
  {
   "cell_type": "code",
   "execution_count": 9,
   "metadata": {
    "colab": {
     "base_uri": "https://localhost:8080/",
     "height": 297
    },
    "colab_type": "code",
    "executionInfo": {
     "elapsed": 506,
     "status": "ok",
     "timestamp": 1580910182115,
     "user": {
      "displayName": "이경민학부생",
      "photoUrl": "",
      "userId": "01346787625936847475"
     },
     "user_tz": -540
    },
    "id": "aY_oKDVg9j5c",
    "outputId": "59fafed7-4cb4-4aab-9410-c968d5a3c21e"
   },
   "outputs": [
    {
     "data": {
      "text/html": [
       "<div>\n",
       "<style scoped>\n",
       "    .dataframe tbody tr th:only-of-type {\n",
       "        vertical-align: middle;\n",
       "    }\n",
       "\n",
       "    .dataframe tbody tr th {\n",
       "        vertical-align: top;\n",
       "    }\n",
       "\n",
       "    .dataframe thead th {\n",
       "        text-align: right;\n",
       "    }\n",
       "</style>\n",
       "<table border=\"1\" class=\"dataframe\">\n",
       "  <thead>\n",
       "    <tr style=\"text-align: right;\">\n",
       "      <th></th>\n",
       "      <th>yield stress</th>\n",
       "      <th>elongation</th>\n",
       "      <th>10Hz_real</th>\n",
       "      <th>10Hz_img</th>\n",
       "      <th>20Hz_real</th>\n",
       "      <th>20Hz_img</th>\n",
       "      <th>30Hz_real</th>\n",
       "      <th>30Hz_img</th>\n",
       "      <th>40Hz_real</th>\n",
       "      <th>40Hz_img</th>\n",
       "      <th>...</th>\n",
       "      <th>600Hz_real</th>\n",
       "      <th>600Hz_img</th>\n",
       "      <th>700Hz_real</th>\n",
       "      <th>700Hz_img</th>\n",
       "      <th>800Hz_real</th>\n",
       "      <th>800Hz_img</th>\n",
       "      <th>900Hz_real</th>\n",
       "      <th>900Hz_img</th>\n",
       "      <th>1000Hz_real</th>\n",
       "      <th>1000Hz_img</th>\n",
       "    </tr>\n",
       "  </thead>\n",
       "  <tbody>\n",
       "    <tr>\n",
       "      <th>yield stress</th>\n",
       "      <td>1.000000</td>\n",
       "      <td>0.940499</td>\n",
       "      <td>-0.677522</td>\n",
       "      <td>-0.834114</td>\n",
       "      <td>-0.779720</td>\n",
       "      <td>-0.833671</td>\n",
       "      <td>-0.784261</td>\n",
       "      <td>-0.811725</td>\n",
       "      <td>-0.798632</td>\n",
       "      <td>-0.812098</td>\n",
       "      <td>...</td>\n",
       "      <td>-0.662665</td>\n",
       "      <td>0.857666</td>\n",
       "      <td>-0.638346</td>\n",
       "      <td>0.828524</td>\n",
       "      <td>-0.661951</td>\n",
       "      <td>0.824030</td>\n",
       "      <td>-0.654419</td>\n",
       "      <td>0.808162</td>\n",
       "      <td>-0.632955</td>\n",
       "      <td>0.746391</td>\n",
       "    </tr>\n",
       "    <tr>\n",
       "      <th>elongation</th>\n",
       "      <td>0.940499</td>\n",
       "      <td>1.000000</td>\n",
       "      <td>-0.662663</td>\n",
       "      <td>-0.813865</td>\n",
       "      <td>-0.746759</td>\n",
       "      <td>-0.801950</td>\n",
       "      <td>-0.766515</td>\n",
       "      <td>-0.793035</td>\n",
       "      <td>-0.773193</td>\n",
       "      <td>-0.786649</td>\n",
       "      <td>...</td>\n",
       "      <td>-0.625712</td>\n",
       "      <td>0.874214</td>\n",
       "      <td>-0.594391</td>\n",
       "      <td>0.839223</td>\n",
       "      <td>-0.621204</td>\n",
       "      <td>0.840465</td>\n",
       "      <td>-0.604297</td>\n",
       "      <td>0.820625</td>\n",
       "      <td>-0.579987</td>\n",
       "      <td>0.746245</td>\n",
       "    </tr>\n",
       "    <tr>\n",
       "      <th>10Hz_real</th>\n",
       "      <td>-0.677522</td>\n",
       "      <td>-0.662663</td>\n",
       "      <td>1.000000</td>\n",
       "      <td>0.968728</td>\n",
       "      <td>0.984603</td>\n",
       "      <td>0.966371</td>\n",
       "      <td>0.985251</td>\n",
       "      <td>0.976166</td>\n",
       "      <td>0.981241</td>\n",
       "      <td>0.976411</td>\n",
       "      <td>...</td>\n",
       "      <td>0.992075</td>\n",
       "      <td>-0.937840</td>\n",
       "      <td>0.989358</td>\n",
       "      <td>-0.956389</td>\n",
       "      <td>0.991290</td>\n",
       "      <td>-0.956831</td>\n",
       "      <td>0.986487</td>\n",
       "      <td>-0.965196</td>\n",
       "      <td>0.982632</td>\n",
       "      <td>-0.988288</td>\n",
       "    </tr>\n",
       "    <tr>\n",
       "      <th>10Hz_img</th>\n",
       "      <td>-0.834114</td>\n",
       "      <td>-0.813865</td>\n",
       "      <td>0.968728</td>\n",
       "      <td>1.000000</td>\n",
       "      <td>0.991846</td>\n",
       "      <td>0.997355</td>\n",
       "      <td>0.995131</td>\n",
       "      <td>0.997944</td>\n",
       "      <td>0.996019</td>\n",
       "      <td>0.997229</td>\n",
       "      <td>...</td>\n",
       "      <td>0.955882</td>\n",
       "      <td>-0.988466</td>\n",
       "      <td>0.945653</td>\n",
       "      <td>-0.992398</td>\n",
       "      <td>0.954795</td>\n",
       "      <td>-0.990967</td>\n",
       "      <td>0.948058</td>\n",
       "      <td>-0.991709</td>\n",
       "      <td>0.936422</td>\n",
       "      <td>-0.985036</td>\n",
       "    </tr>\n",
       "    <tr>\n",
       "      <th>20Hz_real</th>\n",
       "      <td>-0.779720</td>\n",
       "      <td>-0.746759</td>\n",
       "      <td>0.984603</td>\n",
       "      <td>0.991846</td>\n",
       "      <td>1.000000</td>\n",
       "      <td>0.995363</td>\n",
       "      <td>0.995837</td>\n",
       "      <td>0.994192</td>\n",
       "      <td>0.997692</td>\n",
       "      <td>0.996665</td>\n",
       "      <td>...</td>\n",
       "      <td>0.979020</td>\n",
       "      <td>-0.966509</td>\n",
       "      <td>0.974692</td>\n",
       "      <td>-0.978366</td>\n",
       "      <td>0.979264</td>\n",
       "      <td>-0.975502</td>\n",
       "      <td>0.976153</td>\n",
       "      <td>-0.980964</td>\n",
       "      <td>0.969313</td>\n",
       "      <td>-0.990390</td>\n",
       "    </tr>\n",
       "    <tr>\n",
       "      <th>20Hz_img</th>\n",
       "      <td>-0.833671</td>\n",
       "      <td>-0.801950</td>\n",
       "      <td>0.966371</td>\n",
       "      <td>0.997355</td>\n",
       "      <td>0.995363</td>\n",
       "      <td>1.000000</td>\n",
       "      <td>0.993276</td>\n",
       "      <td>0.996219</td>\n",
       "      <td>0.996493</td>\n",
       "      <td>0.997863</td>\n",
       "      <td>...</td>\n",
       "      <td>0.958432</td>\n",
       "      <td>-0.980521</td>\n",
       "      <td>0.950609</td>\n",
       "      <td>-0.986187</td>\n",
       "      <td>0.958372</td>\n",
       "      <td>-0.983100</td>\n",
       "      <td>0.954091</td>\n",
       "      <td>-0.985370</td>\n",
       "      <td>0.944125</td>\n",
       "      <td>-0.982828</td>\n",
       "    </tr>\n",
       "    <tr>\n",
       "      <th>30Hz_real</th>\n",
       "      <td>-0.784261</td>\n",
       "      <td>-0.766515</td>\n",
       "      <td>0.985251</td>\n",
       "      <td>0.995131</td>\n",
       "      <td>0.995837</td>\n",
       "      <td>0.993276</td>\n",
       "      <td>1.000000</td>\n",
       "      <td>0.998815</td>\n",
       "      <td>0.998396</td>\n",
       "      <td>0.997759</td>\n",
       "      <td>...</td>\n",
       "      <td>0.977930</td>\n",
       "      <td>-0.977577</td>\n",
       "      <td>0.969464</td>\n",
       "      <td>-0.986161</td>\n",
       "      <td>0.976242</td>\n",
       "      <td>-0.985337</td>\n",
       "      <td>0.970713</td>\n",
       "      <td>-0.989163</td>\n",
       "      <td>0.961173</td>\n",
       "      <td>-0.992605</td>\n",
       "    </tr>\n",
       "    <tr>\n",
       "      <th>30Hz_img</th>\n",
       "      <td>-0.811725</td>\n",
       "      <td>-0.793035</td>\n",
       "      <td>0.976166</td>\n",
       "      <td>0.997944</td>\n",
       "      <td>0.994192</td>\n",
       "      <td>0.996219</td>\n",
       "      <td>0.998815</td>\n",
       "      <td>1.000000</td>\n",
       "      <td>0.998073</td>\n",
       "      <td>0.998720</td>\n",
       "      <td>...</td>\n",
       "      <td>0.968339</td>\n",
       "      <td>-0.983853</td>\n",
       "      <td>0.958279</td>\n",
       "      <td>-0.989416</td>\n",
       "      <td>0.966661</td>\n",
       "      <td>-0.988410</td>\n",
       "      <td>0.960838</td>\n",
       "      <td>-0.990806</td>\n",
       "      <td>0.949860</td>\n",
       "      <td>-0.988701</td>\n",
       "    </tr>\n",
       "    <tr>\n",
       "      <th>40Hz_real</th>\n",
       "      <td>-0.798632</td>\n",
       "      <td>-0.773193</td>\n",
       "      <td>0.981241</td>\n",
       "      <td>0.996019</td>\n",
       "      <td>0.997692</td>\n",
       "      <td>0.996493</td>\n",
       "      <td>0.998396</td>\n",
       "      <td>0.998073</td>\n",
       "      <td>1.000000</td>\n",
       "      <td>0.999608</td>\n",
       "      <td>...</td>\n",
       "      <td>0.974675</td>\n",
       "      <td>-0.977576</td>\n",
       "      <td>0.967323</td>\n",
       "      <td>-0.986128</td>\n",
       "      <td>0.973514</td>\n",
       "      <td>-0.984166</td>\n",
       "      <td>0.968945</td>\n",
       "      <td>-0.987979</td>\n",
       "      <td>0.960472</td>\n",
       "      <td>-0.991746</td>\n",
       "    </tr>\n",
       "    <tr>\n",
       "      <th>40Hz_img</th>\n",
       "      <td>-0.812098</td>\n",
       "      <td>-0.786649</td>\n",
       "      <td>0.976411</td>\n",
       "      <td>0.997229</td>\n",
       "      <td>0.996665</td>\n",
       "      <td>0.997863</td>\n",
       "      <td>0.997759</td>\n",
       "      <td>0.998720</td>\n",
       "      <td>0.999608</td>\n",
       "      <td>1.000000</td>\n",
       "      <td>...</td>\n",
       "      <td>0.970010</td>\n",
       "      <td>-0.980424</td>\n",
       "      <td>0.961633</td>\n",
       "      <td>-0.987241</td>\n",
       "      <td>0.968814</td>\n",
       "      <td>-0.985296</td>\n",
       "      <td>0.964115</td>\n",
       "      <td>-0.988423</td>\n",
       "      <td>0.954832</td>\n",
       "      <td>-0.989380</td>\n",
       "    </tr>\n",
       "    <tr>\n",
       "      <th>50Hz_real</th>\n",
       "      <td>-0.796171</td>\n",
       "      <td>-0.776011</td>\n",
       "      <td>0.982290</td>\n",
       "      <td>0.996917</td>\n",
       "      <td>0.996454</td>\n",
       "      <td>0.995436</td>\n",
       "      <td>0.999095</td>\n",
       "      <td>0.998673</td>\n",
       "      <td>0.999010</td>\n",
       "      <td>0.998543</td>\n",
       "      <td>...</td>\n",
       "      <td>0.973671</td>\n",
       "      <td>-0.980839</td>\n",
       "      <td>0.965752</td>\n",
       "      <td>-0.989152</td>\n",
       "      <td>0.972634</td>\n",
       "      <td>-0.987922</td>\n",
       "      <td>0.966620</td>\n",
       "      <td>-0.990833</td>\n",
       "      <td>0.956832</td>\n",
       "      <td>-0.992204</td>\n",
       "    </tr>\n",
       "    <tr>\n",
       "      <th>50Hz_img</th>\n",
       "      <td>-0.801158</td>\n",
       "      <td>-0.779191</td>\n",
       "      <td>0.980660</td>\n",
       "      <td>0.997257</td>\n",
       "      <td>0.996450</td>\n",
       "      <td>0.996235</td>\n",
       "      <td>0.999138</td>\n",
       "      <td>0.999245</td>\n",
       "      <td>0.999084</td>\n",
       "      <td>0.999029</td>\n",
       "      <td>...</td>\n",
       "      <td>0.973219</td>\n",
       "      <td>-0.980813</td>\n",
       "      <td>0.964781</td>\n",
       "      <td>-0.988350</td>\n",
       "      <td>0.972062</td>\n",
       "      <td>-0.987132</td>\n",
       "      <td>0.966369</td>\n",
       "      <td>-0.990053</td>\n",
       "      <td>0.956426</td>\n",
       "      <td>-0.990964</td>\n",
       "    </tr>\n",
       "    <tr>\n",
       "      <th>60Hz_real</th>\n",
       "      <td>-0.821782</td>\n",
       "      <td>-0.805256</td>\n",
       "      <td>0.972293</td>\n",
       "      <td>0.998489</td>\n",
       "      <td>0.991526</td>\n",
       "      <td>0.995059</td>\n",
       "      <td>0.995757</td>\n",
       "      <td>0.997390</td>\n",
       "      <td>0.996157</td>\n",
       "      <td>0.996541</td>\n",
       "      <td>...</td>\n",
       "      <td>0.959635</td>\n",
       "      <td>-0.987822</td>\n",
       "      <td>0.950427</td>\n",
       "      <td>-0.993450</td>\n",
       "      <td>0.958589</td>\n",
       "      <td>-0.992082</td>\n",
       "      <td>0.952738</td>\n",
       "      <td>-0.994094</td>\n",
       "      <td>0.940018</td>\n",
       "      <td>-0.987780</td>\n",
       "    </tr>\n",
       "    <tr>\n",
       "      <th>60Hz_img</th>\n",
       "      <td>-0.803969</td>\n",
       "      <td>-0.782261</td>\n",
       "      <td>0.979139</td>\n",
       "      <td>0.996824</td>\n",
       "      <td>0.995270</td>\n",
       "      <td>0.995311</td>\n",
       "      <td>0.997474</td>\n",
       "      <td>0.997559</td>\n",
       "      <td>0.998188</td>\n",
       "      <td>0.997818</td>\n",
       "      <td>...</td>\n",
       "      <td>0.969878</td>\n",
       "      <td>-0.981160</td>\n",
       "      <td>0.962165</td>\n",
       "      <td>-0.989095</td>\n",
       "      <td>0.969147</td>\n",
       "      <td>-0.987523</td>\n",
       "      <td>0.964173</td>\n",
       "      <td>-0.990914</td>\n",
       "      <td>0.953752</td>\n",
       "      <td>-0.990794</td>\n",
       "    </tr>\n",
       "    <tr>\n",
       "      <th>70Hz_real</th>\n",
       "      <td>-0.807258</td>\n",
       "      <td>-0.777787</td>\n",
       "      <td>0.978078</td>\n",
       "      <td>0.997153</td>\n",
       "      <td>0.995275</td>\n",
       "      <td>0.995727</td>\n",
       "      <td>0.997472</td>\n",
       "      <td>0.997740</td>\n",
       "      <td>0.997913</td>\n",
       "      <td>0.997674</td>\n",
       "      <td>...</td>\n",
       "      <td>0.969876</td>\n",
       "      <td>-0.979609</td>\n",
       "      <td>0.962305</td>\n",
       "      <td>-0.987795</td>\n",
       "      <td>0.968258</td>\n",
       "      <td>-0.985239</td>\n",
       "      <td>0.963688</td>\n",
       "      <td>-0.988791</td>\n",
       "      <td>0.951970</td>\n",
       "      <td>-0.987618</td>\n",
       "    </tr>\n",
       "    <tr>\n",
       "      <th>70Hz_img</th>\n",
       "      <td>-0.795107</td>\n",
       "      <td>-0.764833</td>\n",
       "      <td>0.982211</td>\n",
       "      <td>0.995582</td>\n",
       "      <td>0.996760</td>\n",
       "      <td>0.995128</td>\n",
       "      <td>0.998527</td>\n",
       "      <td>0.997973</td>\n",
       "      <td>0.998506</td>\n",
       "      <td>0.998093</td>\n",
       "      <td>...</td>\n",
       "      <td>0.976637</td>\n",
       "      <td>-0.974933</td>\n",
       "      <td>0.969223</td>\n",
       "      <td>-0.983858</td>\n",
       "      <td>0.975032</td>\n",
       "      <td>-0.981697</td>\n",
       "      <td>0.971068</td>\n",
       "      <td>-0.986200</td>\n",
       "      <td>0.960360</td>\n",
       "      <td>-0.988744</td>\n",
       "    </tr>\n",
       "    <tr>\n",
       "      <th>80Hz_real</th>\n",
       "      <td>-0.827194</td>\n",
       "      <td>-0.800989</td>\n",
       "      <td>0.969372</td>\n",
       "      <td>0.997882</td>\n",
       "      <td>0.991429</td>\n",
       "      <td>0.995764</td>\n",
       "      <td>0.995459</td>\n",
       "      <td>0.997599</td>\n",
       "      <td>0.996446</td>\n",
       "      <td>0.997159</td>\n",
       "      <td>...</td>\n",
       "      <td>0.960005</td>\n",
       "      <td>-0.985464</td>\n",
       "      <td>0.950456</td>\n",
       "      <td>-0.990655</td>\n",
       "      <td>0.959063</td>\n",
       "      <td>-0.989218</td>\n",
       "      <td>0.953077</td>\n",
       "      <td>-0.990866</td>\n",
       "      <td>0.941246</td>\n",
       "      <td>-0.985270</td>\n",
       "    </tr>\n",
       "    <tr>\n",
       "      <th>80Hz_img</th>\n",
       "      <td>-0.806033</td>\n",
       "      <td>-0.776233</td>\n",
       "      <td>0.977108</td>\n",
       "      <td>0.996073</td>\n",
       "      <td>0.994652</td>\n",
       "      <td>0.995336</td>\n",
       "      <td>0.997717</td>\n",
       "      <td>0.998292</td>\n",
       "      <td>0.997951</td>\n",
       "      <td>0.998117</td>\n",
       "      <td>...</td>\n",
       "      <td>0.971594</td>\n",
       "      <td>-0.978178</td>\n",
       "      <td>0.962920</td>\n",
       "      <td>-0.985351</td>\n",
       "      <td>0.970765</td>\n",
       "      <td>-0.984179</td>\n",
       "      <td>0.965660</td>\n",
       "      <td>-0.987353</td>\n",
       "      <td>0.955040</td>\n",
       "      <td>-0.987399</td>\n",
       "    </tr>\n",
       "    <tr>\n",
       "      <th>90Hz_real</th>\n",
       "      <td>-0.827258</td>\n",
       "      <td>-0.817651</td>\n",
       "      <td>0.964533</td>\n",
       "      <td>0.995126</td>\n",
       "      <td>0.984365</td>\n",
       "      <td>0.989988</td>\n",
       "      <td>0.992009</td>\n",
       "      <td>0.994392</td>\n",
       "      <td>0.991126</td>\n",
       "      <td>0.991832</td>\n",
       "      <td>...</td>\n",
       "      <td>0.951170</td>\n",
       "      <td>-0.990690</td>\n",
       "      <td>0.939827</td>\n",
       "      <td>-0.994246</td>\n",
       "      <td>0.950279</td>\n",
       "      <td>-0.994409</td>\n",
       "      <td>0.941393</td>\n",
       "      <td>-0.993551</td>\n",
       "      <td>0.927907</td>\n",
       "      <td>-0.983237</td>\n",
       "    </tr>\n",
       "    <tr>\n",
       "      <th>90Hz_img</th>\n",
       "      <td>-0.726369</td>\n",
       "      <td>-0.723358</td>\n",
       "      <td>0.984479</td>\n",
       "      <td>0.975019</td>\n",
       "      <td>0.977853</td>\n",
       "      <td>0.968940</td>\n",
       "      <td>0.988062</td>\n",
       "      <td>0.983343</td>\n",
       "      <td>0.981523</td>\n",
       "      <td>0.979120</td>\n",
       "      <td>...</td>\n",
       "      <td>0.978561</td>\n",
       "      <td>-0.960108</td>\n",
       "      <td>0.969196</td>\n",
       "      <td>-0.970829</td>\n",
       "      <td>0.977262</td>\n",
       "      <td>-0.974103</td>\n",
       "      <td>0.968819</td>\n",
       "      <td>-0.977422</td>\n",
       "      <td>0.958716</td>\n",
       "      <td>-0.984319</td>\n",
       "    </tr>\n",
       "    <tr>\n",
       "      <th>100Hz_real</th>\n",
       "      <td>-0.858779</td>\n",
       "      <td>-0.837087</td>\n",
       "      <td>0.952607</td>\n",
       "      <td>0.996486</td>\n",
       "      <td>0.984991</td>\n",
       "      <td>0.994968</td>\n",
       "      <td>0.988267</td>\n",
       "      <td>0.993121</td>\n",
       "      <td>0.991554</td>\n",
       "      <td>0.993479</td>\n",
       "      <td>...</td>\n",
       "      <td>0.940122</td>\n",
       "      <td>-0.990920</td>\n",
       "      <td>0.929961</td>\n",
       "      <td>-0.993180</td>\n",
       "      <td>0.938486</td>\n",
       "      <td>-0.989974</td>\n",
       "      <td>0.932623</td>\n",
       "      <td>-0.990093</td>\n",
       "      <td>0.919772</td>\n",
       "      <td>-0.977699</td>\n",
       "    </tr>\n",
       "    <tr>\n",
       "      <th>100Hz_img</th>\n",
       "      <td>-0.498008</td>\n",
       "      <td>-0.460541</td>\n",
       "      <td>0.952307</td>\n",
       "      <td>0.871046</td>\n",
       "      <td>0.915695</td>\n",
       "      <td>0.878617</td>\n",
       "      <td>0.911610</td>\n",
       "      <td>0.894549</td>\n",
       "      <td>0.904413</td>\n",
       "      <td>0.896904</td>\n",
       "      <td>...</td>\n",
       "      <td>0.971883</td>\n",
       "      <td>-0.813233</td>\n",
       "      <td>0.975796</td>\n",
       "      <td>-0.842656</td>\n",
       "      <td>0.971209</td>\n",
       "      <td>-0.842874</td>\n",
       "      <td>0.974189</td>\n",
       "      <td>-0.860778</td>\n",
       "      <td>0.976438</td>\n",
       "      <td>-0.913162</td>\n",
       "    </tr>\n",
       "    <tr>\n",
       "      <th>200Hz_real</th>\n",
       "      <td>-0.855021</td>\n",
       "      <td>-0.841142</td>\n",
       "      <td>0.953842</td>\n",
       "      <td>0.995745</td>\n",
       "      <td>0.982134</td>\n",
       "      <td>0.991902</td>\n",
       "      <td>0.988970</td>\n",
       "      <td>0.993676</td>\n",
       "      <td>0.989791</td>\n",
       "      <td>0.991804</td>\n",
       "      <td>...</td>\n",
       "      <td>0.941144</td>\n",
       "      <td>-0.992741</td>\n",
       "      <td>0.929286</td>\n",
       "      <td>-0.993799</td>\n",
       "      <td>0.939552</td>\n",
       "      <td>-0.992434</td>\n",
       "      <td>0.933229</td>\n",
       "      <td>-0.992225</td>\n",
       "      <td>0.918585</td>\n",
       "      <td>-0.977801</td>\n",
       "    </tr>\n",
       "    <tr>\n",
       "      <th>200Hz_img</th>\n",
       "      <td>0.916553</td>\n",
       "      <td>0.919195</td>\n",
       "      <td>-0.889360</td>\n",
       "      <td>-0.970765</td>\n",
       "      <td>-0.937319</td>\n",
       "      <td>-0.962837</td>\n",
       "      <td>-0.948363</td>\n",
       "      <td>-0.960360</td>\n",
       "      <td>-0.951555</td>\n",
       "      <td>-0.956930</td>\n",
       "      <td>...</td>\n",
       "      <td>-0.865388</td>\n",
       "      <td>0.988957</td>\n",
       "      <td>-0.848173</td>\n",
       "      <td>0.979544</td>\n",
       "      <td>-0.863263</td>\n",
       "      <td>0.978201</td>\n",
       "      <td>-0.853243</td>\n",
       "      <td>0.971373</td>\n",
       "      <td>-0.834105</td>\n",
       "      <td>0.934619</td>\n",
       "    </tr>\n",
       "    <tr>\n",
       "      <th>300Hz_real</th>\n",
       "      <td>-0.792334</td>\n",
       "      <td>-0.775004</td>\n",
       "      <td>0.981871</td>\n",
       "      <td>0.994120</td>\n",
       "      <td>0.994594</td>\n",
       "      <td>0.992636</td>\n",
       "      <td>0.997429</td>\n",
       "      <td>0.996566</td>\n",
       "      <td>0.997380</td>\n",
       "      <td>0.996608</td>\n",
       "      <td>...</td>\n",
       "      <td>0.974446</td>\n",
       "      <td>-0.979459</td>\n",
       "      <td>0.965642</td>\n",
       "      <td>-0.987504</td>\n",
       "      <td>0.973305</td>\n",
       "      <td>-0.987205</td>\n",
       "      <td>0.967227</td>\n",
       "      <td>-0.989950</td>\n",
       "      <td>0.956776</td>\n",
       "      <td>-0.991512</td>\n",
       "    </tr>\n",
       "    <tr>\n",
       "      <th>300Hz_img</th>\n",
       "      <td>0.907607</td>\n",
       "      <td>0.917013</td>\n",
       "      <td>-0.893842</td>\n",
       "      <td>-0.971917</td>\n",
       "      <td>-0.939641</td>\n",
       "      <td>-0.963854</td>\n",
       "      <td>-0.949972</td>\n",
       "      <td>-0.961257</td>\n",
       "      <td>-0.953312</td>\n",
       "      <td>-0.958262</td>\n",
       "      <td>...</td>\n",
       "      <td>-0.868259</td>\n",
       "      <td>0.991530</td>\n",
       "      <td>-0.850892</td>\n",
       "      <td>0.982768</td>\n",
       "      <td>-0.866084</td>\n",
       "      <td>0.981971</td>\n",
       "      <td>-0.854674</td>\n",
       "      <td>0.974657</td>\n",
       "      <td>-0.835970</td>\n",
       "      <td>0.938885</td>\n",
       "    </tr>\n",
       "    <tr>\n",
       "      <th>400Hz_real</th>\n",
       "      <td>-0.735641</td>\n",
       "      <td>-0.708538</td>\n",
       "      <td>0.993362</td>\n",
       "      <td>0.982859</td>\n",
       "      <td>0.994867</td>\n",
       "      <td>0.984142</td>\n",
       "      <td>0.994695</td>\n",
       "      <td>0.989906</td>\n",
       "      <td>0.992636</td>\n",
       "      <td>0.990307</td>\n",
       "      <td>...</td>\n",
       "      <td>0.991913</td>\n",
       "      <td>-0.954330</td>\n",
       "      <td>0.986328</td>\n",
       "      <td>-0.967859</td>\n",
       "      <td>0.991438</td>\n",
       "      <td>-0.967739</td>\n",
       "      <td>0.987374</td>\n",
       "      <td>-0.974125</td>\n",
       "      <td>0.980390</td>\n",
       "      <td>-0.989263</td>\n",
       "    </tr>\n",
       "    <tr>\n",
       "      <th>400Hz_img</th>\n",
       "      <td>0.907907</td>\n",
       "      <td>0.920748</td>\n",
       "      <td>-0.890382</td>\n",
       "      <td>-0.970717</td>\n",
       "      <td>-0.936873</td>\n",
       "      <td>-0.962214</td>\n",
       "      <td>-0.947936</td>\n",
       "      <td>-0.959779</td>\n",
       "      <td>-0.950424</td>\n",
       "      <td>-0.955856</td>\n",
       "      <td>...</td>\n",
       "      <td>-0.863208</td>\n",
       "      <td>0.991075</td>\n",
       "      <td>-0.845247</td>\n",
       "      <td>0.981468</td>\n",
       "      <td>-0.860966</td>\n",
       "      <td>0.980880</td>\n",
       "      <td>-0.849119</td>\n",
       "      <td>0.973280</td>\n",
       "      <td>-0.830032</td>\n",
       "      <td>0.936001</td>\n",
       "    </tr>\n",
       "    <tr>\n",
       "      <th>500Hz_real</th>\n",
       "      <td>-0.682411</td>\n",
       "      <td>-0.655268</td>\n",
       "      <td>0.993329</td>\n",
       "      <td>0.962234</td>\n",
       "      <td>0.982695</td>\n",
       "      <td>0.964221</td>\n",
       "      <td>0.981673</td>\n",
       "      <td>0.973105</td>\n",
       "      <td>0.979255</td>\n",
       "      <td>0.975067</td>\n",
       "      <td>...</td>\n",
       "      <td>0.996760</td>\n",
       "      <td>-0.927688</td>\n",
       "      <td>0.993285</td>\n",
       "      <td>-0.945172</td>\n",
       "      <td>0.996288</td>\n",
       "      <td>-0.945756</td>\n",
       "      <td>0.993539</td>\n",
       "      <td>-0.954828</td>\n",
       "      <td>0.990469</td>\n",
       "      <td>-0.981412</td>\n",
       "    </tr>\n",
       "    <tr>\n",
       "      <th>500Hz_img</th>\n",
       "      <td>0.885573</td>\n",
       "      <td>0.904099</td>\n",
       "      <td>-0.915007</td>\n",
       "      <td>-0.979866</td>\n",
       "      <td>-0.951897</td>\n",
       "      <td>-0.971440</td>\n",
       "      <td>-0.963103</td>\n",
       "      <td>-0.972088</td>\n",
       "      <td>-0.964829</td>\n",
       "      <td>-0.968918</td>\n",
       "      <td>...</td>\n",
       "      <td>-0.890578</td>\n",
       "      <td>0.996942</td>\n",
       "      <td>-0.873303</td>\n",
       "      <td>0.989907</td>\n",
       "      <td>-0.887859</td>\n",
       "      <td>0.990213</td>\n",
       "      <td>-0.876197</td>\n",
       "      <td>0.984394</td>\n",
       "      <td>-0.859736</td>\n",
       "      <td>0.955279</td>\n",
       "    </tr>\n",
       "    <tr>\n",
       "      <th>600Hz_real</th>\n",
       "      <td>-0.662665</td>\n",
       "      <td>-0.625712</td>\n",
       "      <td>0.992075</td>\n",
       "      <td>0.955882</td>\n",
       "      <td>0.979020</td>\n",
       "      <td>0.958432</td>\n",
       "      <td>0.977930</td>\n",
       "      <td>0.968339</td>\n",
       "      <td>0.974675</td>\n",
       "      <td>0.970010</td>\n",
       "      <td>...</td>\n",
       "      <td>1.000000</td>\n",
       "      <td>-0.916952</td>\n",
       "      <td>0.997137</td>\n",
       "      <td>-0.936196</td>\n",
       "      <td>0.998466</td>\n",
       "      <td>-0.936161</td>\n",
       "      <td>0.995920</td>\n",
       "      <td>-0.946047</td>\n",
       "      <td>0.992575</td>\n",
       "      <td>-0.974932</td>\n",
       "    </tr>\n",
       "    <tr>\n",
       "      <th>600Hz_img</th>\n",
       "      <td>0.857666</td>\n",
       "      <td>0.874214</td>\n",
       "      <td>-0.937840</td>\n",
       "      <td>-0.988466</td>\n",
       "      <td>-0.966509</td>\n",
       "      <td>-0.980521</td>\n",
       "      <td>-0.977577</td>\n",
       "      <td>-0.983853</td>\n",
       "      <td>-0.977576</td>\n",
       "      <td>-0.980424</td>\n",
       "      <td>...</td>\n",
       "      <td>-0.916952</td>\n",
       "      <td>1.000000</td>\n",
       "      <td>-0.901069</td>\n",
       "      <td>0.996701</td>\n",
       "      <td>-0.913558</td>\n",
       "      <td>0.997096</td>\n",
       "      <td>-0.902212</td>\n",
       "      <td>0.993340</td>\n",
       "      <td>-0.886643</td>\n",
       "      <td>0.970795</td>\n",
       "    </tr>\n",
       "    <tr>\n",
       "      <th>700Hz_real</th>\n",
       "      <td>-0.638346</td>\n",
       "      <td>-0.594391</td>\n",
       "      <td>0.989358</td>\n",
       "      <td>0.945653</td>\n",
       "      <td>0.974692</td>\n",
       "      <td>0.950609</td>\n",
       "      <td>0.969464</td>\n",
       "      <td>0.958279</td>\n",
       "      <td>0.967323</td>\n",
       "      <td>0.961633</td>\n",
       "      <td>...</td>\n",
       "      <td>0.997137</td>\n",
       "      <td>-0.901069</td>\n",
       "      <td>1.000000</td>\n",
       "      <td>-0.925663</td>\n",
       "      <td>0.997344</td>\n",
       "      <td>-0.923107</td>\n",
       "      <td>0.998125</td>\n",
       "      <td>-0.935975</td>\n",
       "      <td>0.996049</td>\n",
       "      <td>-0.969875</td>\n",
       "    </tr>\n",
       "    <tr>\n",
       "      <th>700Hz_img</th>\n",
       "      <td>0.828524</td>\n",
       "      <td>0.839223</td>\n",
       "      <td>-0.956389</td>\n",
       "      <td>-0.992398</td>\n",
       "      <td>-0.978366</td>\n",
       "      <td>-0.986187</td>\n",
       "      <td>-0.986161</td>\n",
       "      <td>-0.989416</td>\n",
       "      <td>-0.986128</td>\n",
       "      <td>-0.987241</td>\n",
       "      <td>...</td>\n",
       "      <td>-0.936196</td>\n",
       "      <td>0.996701</td>\n",
       "      <td>-0.925663</td>\n",
       "      <td>1.000000</td>\n",
       "      <td>-0.934005</td>\n",
       "      <td>0.998624</td>\n",
       "      <td>-0.925425</td>\n",
       "      <td>0.998405</td>\n",
       "      <td>-0.911327</td>\n",
       "      <td>0.983581</td>\n",
       "    </tr>\n",
       "    <tr>\n",
       "      <th>800Hz_real</th>\n",
       "      <td>-0.661951</td>\n",
       "      <td>-0.621204</td>\n",
       "      <td>0.991290</td>\n",
       "      <td>0.954795</td>\n",
       "      <td>0.979264</td>\n",
       "      <td>0.958372</td>\n",
       "      <td>0.976242</td>\n",
       "      <td>0.966661</td>\n",
       "      <td>0.973514</td>\n",
       "      <td>0.968814</td>\n",
       "      <td>...</td>\n",
       "      <td>0.998466</td>\n",
       "      <td>-0.913558</td>\n",
       "      <td>0.997344</td>\n",
       "      <td>-0.934005</td>\n",
       "      <td>1.000000</td>\n",
       "      <td>-0.934491</td>\n",
       "      <td>0.997388</td>\n",
       "      <td>-0.944051</td>\n",
       "      <td>0.994638</td>\n",
       "      <td>-0.974246</td>\n",
       "    </tr>\n",
       "    <tr>\n",
       "      <th>800Hz_img</th>\n",
       "      <td>0.824030</td>\n",
       "      <td>0.840465</td>\n",
       "      <td>-0.956831</td>\n",
       "      <td>-0.990967</td>\n",
       "      <td>-0.975502</td>\n",
       "      <td>-0.983100</td>\n",
       "      <td>-0.985337</td>\n",
       "      <td>-0.988410</td>\n",
       "      <td>-0.984166</td>\n",
       "      <td>-0.985296</td>\n",
       "      <td>...</td>\n",
       "      <td>-0.936161</td>\n",
       "      <td>0.997096</td>\n",
       "      <td>-0.923107</td>\n",
       "      <td>0.998624</td>\n",
       "      <td>-0.934491</td>\n",
       "      <td>1.000000</td>\n",
       "      <td>-0.923348</td>\n",
       "      <td>0.998071</td>\n",
       "      <td>-0.909527</td>\n",
       "      <td>0.983225</td>\n",
       "    </tr>\n",
       "    <tr>\n",
       "      <th>900Hz_real</th>\n",
       "      <td>-0.654419</td>\n",
       "      <td>-0.604297</td>\n",
       "      <td>0.986487</td>\n",
       "      <td>0.948058</td>\n",
       "      <td>0.976153</td>\n",
       "      <td>0.954091</td>\n",
       "      <td>0.970713</td>\n",
       "      <td>0.960838</td>\n",
       "      <td>0.968945</td>\n",
       "      <td>0.964115</td>\n",
       "      <td>...</td>\n",
       "      <td>0.995920</td>\n",
       "      <td>-0.902212</td>\n",
       "      <td>0.998125</td>\n",
       "      <td>-0.925425</td>\n",
       "      <td>0.997388</td>\n",
       "      <td>-0.923348</td>\n",
       "      <td>1.000000</td>\n",
       "      <td>-0.936772</td>\n",
       "      <td>0.996866</td>\n",
       "      <td>-0.969091</td>\n",
       "    </tr>\n",
       "    <tr>\n",
       "      <th>900Hz_img</th>\n",
       "      <td>0.808162</td>\n",
       "      <td>0.820625</td>\n",
       "      <td>-0.965196</td>\n",
       "      <td>-0.991709</td>\n",
       "      <td>-0.980964</td>\n",
       "      <td>-0.985370</td>\n",
       "      <td>-0.989163</td>\n",
       "      <td>-0.990806</td>\n",
       "      <td>-0.987979</td>\n",
       "      <td>-0.988423</td>\n",
       "      <td>...</td>\n",
       "      <td>-0.946047</td>\n",
       "      <td>0.993340</td>\n",
       "      <td>-0.935975</td>\n",
       "      <td>0.998405</td>\n",
       "      <td>-0.944051</td>\n",
       "      <td>0.998071</td>\n",
       "      <td>-0.936772</td>\n",
       "      <td>1.000000</td>\n",
       "      <td>-0.923232</td>\n",
       "      <td>0.989296</td>\n",
       "    </tr>\n",
       "    <tr>\n",
       "      <th>1000Hz_real</th>\n",
       "      <td>-0.632955</td>\n",
       "      <td>-0.579987</td>\n",
       "      <td>0.982632</td>\n",
       "      <td>0.936422</td>\n",
       "      <td>0.969313</td>\n",
       "      <td>0.944125</td>\n",
       "      <td>0.961173</td>\n",
       "      <td>0.949860</td>\n",
       "      <td>0.960472</td>\n",
       "      <td>0.954832</td>\n",
       "      <td>...</td>\n",
       "      <td>0.992575</td>\n",
       "      <td>-0.886643</td>\n",
       "      <td>0.996049</td>\n",
       "      <td>-0.911327</td>\n",
       "      <td>0.994638</td>\n",
       "      <td>-0.909527</td>\n",
       "      <td>0.996866</td>\n",
       "      <td>-0.923232</td>\n",
       "      <td>1.000000</td>\n",
       "      <td>-0.964390</td>\n",
       "    </tr>\n",
       "    <tr>\n",
       "      <th>1000Hz_img</th>\n",
       "      <td>0.746391</td>\n",
       "      <td>0.746245</td>\n",
       "      <td>-0.988288</td>\n",
       "      <td>-0.985036</td>\n",
       "      <td>-0.990390</td>\n",
       "      <td>-0.982828</td>\n",
       "      <td>-0.992605</td>\n",
       "      <td>-0.988701</td>\n",
       "      <td>-0.991746</td>\n",
       "      <td>-0.989380</td>\n",
       "      <td>...</td>\n",
       "      <td>-0.974932</td>\n",
       "      <td>0.970795</td>\n",
       "      <td>-0.969875</td>\n",
       "      <td>0.983581</td>\n",
       "      <td>-0.974246</td>\n",
       "      <td>0.983225</td>\n",
       "      <td>-0.969091</td>\n",
       "      <td>0.989296</td>\n",
       "      <td>-0.964390</td>\n",
       "      <td>1.000000</td>\n",
       "    </tr>\n",
       "  </tbody>\n",
       "</table>\n",
       "<p>40 rows × 40 columns</p>\n",
       "</div>"
      ],
      "text/plain": [
       "              yield stress  elongation  10Hz_real  10Hz_img  20Hz_real  \\\n",
       "yield stress      1.000000    0.940499  -0.677522 -0.834114  -0.779720   \n",
       "elongation        0.940499    1.000000  -0.662663 -0.813865  -0.746759   \n",
       "10Hz_real        -0.677522   -0.662663   1.000000  0.968728   0.984603   \n",
       "10Hz_img         -0.834114   -0.813865   0.968728  1.000000   0.991846   \n",
       "20Hz_real        -0.779720   -0.746759   0.984603  0.991846   1.000000   \n",
       "20Hz_img         -0.833671   -0.801950   0.966371  0.997355   0.995363   \n",
       "30Hz_real        -0.784261   -0.766515   0.985251  0.995131   0.995837   \n",
       "30Hz_img         -0.811725   -0.793035   0.976166  0.997944   0.994192   \n",
       "40Hz_real        -0.798632   -0.773193   0.981241  0.996019   0.997692   \n",
       "40Hz_img         -0.812098   -0.786649   0.976411  0.997229   0.996665   \n",
       "50Hz_real        -0.796171   -0.776011   0.982290  0.996917   0.996454   \n",
       "50Hz_img         -0.801158   -0.779191   0.980660  0.997257   0.996450   \n",
       "60Hz_real        -0.821782   -0.805256   0.972293  0.998489   0.991526   \n",
       "60Hz_img         -0.803969   -0.782261   0.979139  0.996824   0.995270   \n",
       "70Hz_real        -0.807258   -0.777787   0.978078  0.997153   0.995275   \n",
       "70Hz_img         -0.795107   -0.764833   0.982211  0.995582   0.996760   \n",
       "80Hz_real        -0.827194   -0.800989   0.969372  0.997882   0.991429   \n",
       "80Hz_img         -0.806033   -0.776233   0.977108  0.996073   0.994652   \n",
       "90Hz_real        -0.827258   -0.817651   0.964533  0.995126   0.984365   \n",
       "90Hz_img         -0.726369   -0.723358   0.984479  0.975019   0.977853   \n",
       "100Hz_real       -0.858779   -0.837087   0.952607  0.996486   0.984991   \n",
       "100Hz_img        -0.498008   -0.460541   0.952307  0.871046   0.915695   \n",
       "200Hz_real       -0.855021   -0.841142   0.953842  0.995745   0.982134   \n",
       "200Hz_img         0.916553    0.919195  -0.889360 -0.970765  -0.937319   \n",
       "300Hz_real       -0.792334   -0.775004   0.981871  0.994120   0.994594   \n",
       "300Hz_img         0.907607    0.917013  -0.893842 -0.971917  -0.939641   \n",
       "400Hz_real       -0.735641   -0.708538   0.993362  0.982859   0.994867   \n",
       "400Hz_img         0.907907    0.920748  -0.890382 -0.970717  -0.936873   \n",
       "500Hz_real       -0.682411   -0.655268   0.993329  0.962234   0.982695   \n",
       "500Hz_img         0.885573    0.904099  -0.915007 -0.979866  -0.951897   \n",
       "600Hz_real       -0.662665   -0.625712   0.992075  0.955882   0.979020   \n",
       "600Hz_img         0.857666    0.874214  -0.937840 -0.988466  -0.966509   \n",
       "700Hz_real       -0.638346   -0.594391   0.989358  0.945653   0.974692   \n",
       "700Hz_img         0.828524    0.839223  -0.956389 -0.992398  -0.978366   \n",
       "800Hz_real       -0.661951   -0.621204   0.991290  0.954795   0.979264   \n",
       "800Hz_img         0.824030    0.840465  -0.956831 -0.990967  -0.975502   \n",
       "900Hz_real       -0.654419   -0.604297   0.986487  0.948058   0.976153   \n",
       "900Hz_img         0.808162    0.820625  -0.965196 -0.991709  -0.980964   \n",
       "1000Hz_real      -0.632955   -0.579987   0.982632  0.936422   0.969313   \n",
       "1000Hz_img        0.746391    0.746245  -0.988288 -0.985036  -0.990390   \n",
       "\n",
       "              20Hz_img  30Hz_real  30Hz_img  40Hz_real  40Hz_img  ...  \\\n",
       "yield stress -0.833671  -0.784261 -0.811725  -0.798632 -0.812098  ...   \n",
       "elongation   -0.801950  -0.766515 -0.793035  -0.773193 -0.786649  ...   \n",
       "10Hz_real     0.966371   0.985251  0.976166   0.981241  0.976411  ...   \n",
       "10Hz_img      0.997355   0.995131  0.997944   0.996019  0.997229  ...   \n",
       "20Hz_real     0.995363   0.995837  0.994192   0.997692  0.996665  ...   \n",
       "20Hz_img      1.000000   0.993276  0.996219   0.996493  0.997863  ...   \n",
       "30Hz_real     0.993276   1.000000  0.998815   0.998396  0.997759  ...   \n",
       "30Hz_img      0.996219   0.998815  1.000000   0.998073  0.998720  ...   \n",
       "40Hz_real     0.996493   0.998396  0.998073   1.000000  0.999608  ...   \n",
       "40Hz_img      0.997863   0.997759  0.998720   0.999608  1.000000  ...   \n",
       "50Hz_real     0.995436   0.999095  0.998673   0.999010  0.998543  ...   \n",
       "50Hz_img      0.996235   0.999138  0.999245   0.999084  0.999029  ...   \n",
       "60Hz_real     0.995059   0.995757  0.997390   0.996157  0.996541  ...   \n",
       "60Hz_img      0.995311   0.997474  0.997559   0.998188  0.997818  ...   \n",
       "70Hz_real     0.995727   0.997472  0.997740   0.997913  0.997674  ...   \n",
       "70Hz_img      0.995128   0.998527  0.997973   0.998506  0.998093  ...   \n",
       "80Hz_real     0.995764   0.995459  0.997599   0.996446  0.997159  ...   \n",
       "80Hz_img      0.995336   0.997717  0.998292   0.997951  0.998117  ...   \n",
       "90Hz_real     0.989988   0.992009  0.994392   0.991126  0.991832  ...   \n",
       "90Hz_img      0.968940   0.988062  0.983343   0.981523  0.979120  ...   \n",
       "100Hz_real    0.994968   0.988267  0.993121   0.991554  0.993479  ...   \n",
       "100Hz_img     0.878617   0.911610  0.894549   0.904413  0.896904  ...   \n",
       "200Hz_real    0.991902   0.988970  0.993676   0.989791  0.991804  ...   \n",
       "200Hz_img    -0.962837  -0.948363 -0.960360  -0.951555 -0.956930  ...   \n",
       "300Hz_real    0.992636   0.997429  0.996566   0.997380  0.996608  ...   \n",
       "300Hz_img    -0.963854  -0.949972 -0.961257  -0.953312 -0.958262  ...   \n",
       "400Hz_real    0.984142   0.994695  0.989906   0.992636  0.990307  ...   \n",
       "400Hz_img    -0.962214  -0.947936 -0.959779  -0.950424 -0.955856  ...   \n",
       "500Hz_real    0.964221   0.981673  0.973105   0.979255  0.975067  ...   \n",
       "500Hz_img    -0.971440  -0.963103 -0.972088  -0.964829 -0.968918  ...   \n",
       "600Hz_real    0.958432   0.977930  0.968339   0.974675  0.970010  ...   \n",
       "600Hz_img    -0.980521  -0.977577 -0.983853  -0.977576 -0.980424  ...   \n",
       "700Hz_real    0.950609   0.969464  0.958279   0.967323  0.961633  ...   \n",
       "700Hz_img    -0.986187  -0.986161 -0.989416  -0.986128 -0.987241  ...   \n",
       "800Hz_real    0.958372   0.976242  0.966661   0.973514  0.968814  ...   \n",
       "800Hz_img    -0.983100  -0.985337 -0.988410  -0.984166 -0.985296  ...   \n",
       "900Hz_real    0.954091   0.970713  0.960838   0.968945  0.964115  ...   \n",
       "900Hz_img    -0.985370  -0.989163 -0.990806  -0.987979 -0.988423  ...   \n",
       "1000Hz_real   0.944125   0.961173  0.949860   0.960472  0.954832  ...   \n",
       "1000Hz_img   -0.982828  -0.992605 -0.988701  -0.991746 -0.989380  ...   \n",
       "\n",
       "              600Hz_real  600Hz_img  700Hz_real  700Hz_img  800Hz_real  \\\n",
       "yield stress   -0.662665   0.857666   -0.638346   0.828524   -0.661951   \n",
       "elongation     -0.625712   0.874214   -0.594391   0.839223   -0.621204   \n",
       "10Hz_real       0.992075  -0.937840    0.989358  -0.956389    0.991290   \n",
       "10Hz_img        0.955882  -0.988466    0.945653  -0.992398    0.954795   \n",
       "20Hz_real       0.979020  -0.966509    0.974692  -0.978366    0.979264   \n",
       "20Hz_img        0.958432  -0.980521    0.950609  -0.986187    0.958372   \n",
       "30Hz_real       0.977930  -0.977577    0.969464  -0.986161    0.976242   \n",
       "30Hz_img        0.968339  -0.983853    0.958279  -0.989416    0.966661   \n",
       "40Hz_real       0.974675  -0.977576    0.967323  -0.986128    0.973514   \n",
       "40Hz_img        0.970010  -0.980424    0.961633  -0.987241    0.968814   \n",
       "50Hz_real       0.973671  -0.980839    0.965752  -0.989152    0.972634   \n",
       "50Hz_img        0.973219  -0.980813    0.964781  -0.988350    0.972062   \n",
       "60Hz_real       0.959635  -0.987822    0.950427  -0.993450    0.958589   \n",
       "60Hz_img        0.969878  -0.981160    0.962165  -0.989095    0.969147   \n",
       "70Hz_real       0.969876  -0.979609    0.962305  -0.987795    0.968258   \n",
       "70Hz_img        0.976637  -0.974933    0.969223  -0.983858    0.975032   \n",
       "80Hz_real       0.960005  -0.985464    0.950456  -0.990655    0.959063   \n",
       "80Hz_img        0.971594  -0.978178    0.962920  -0.985351    0.970765   \n",
       "90Hz_real       0.951170  -0.990690    0.939827  -0.994246    0.950279   \n",
       "90Hz_img        0.978561  -0.960108    0.969196  -0.970829    0.977262   \n",
       "100Hz_real      0.940122  -0.990920    0.929961  -0.993180    0.938486   \n",
       "100Hz_img       0.971883  -0.813233    0.975796  -0.842656    0.971209   \n",
       "200Hz_real      0.941144  -0.992741    0.929286  -0.993799    0.939552   \n",
       "200Hz_img      -0.865388   0.988957   -0.848173   0.979544   -0.863263   \n",
       "300Hz_real      0.974446  -0.979459    0.965642  -0.987504    0.973305   \n",
       "300Hz_img      -0.868259   0.991530   -0.850892   0.982768   -0.866084   \n",
       "400Hz_real      0.991913  -0.954330    0.986328  -0.967859    0.991438   \n",
       "400Hz_img      -0.863208   0.991075   -0.845247   0.981468   -0.860966   \n",
       "500Hz_real      0.996760  -0.927688    0.993285  -0.945172    0.996288   \n",
       "500Hz_img      -0.890578   0.996942   -0.873303   0.989907   -0.887859   \n",
       "600Hz_real      1.000000  -0.916952    0.997137  -0.936196    0.998466   \n",
       "600Hz_img      -0.916952   1.000000   -0.901069   0.996701   -0.913558   \n",
       "700Hz_real      0.997137  -0.901069    1.000000  -0.925663    0.997344   \n",
       "700Hz_img      -0.936196   0.996701   -0.925663   1.000000   -0.934005   \n",
       "800Hz_real      0.998466  -0.913558    0.997344  -0.934005    1.000000   \n",
       "800Hz_img      -0.936161   0.997096   -0.923107   0.998624   -0.934491   \n",
       "900Hz_real      0.995920  -0.902212    0.998125  -0.925425    0.997388   \n",
       "900Hz_img      -0.946047   0.993340   -0.935975   0.998405   -0.944051   \n",
       "1000Hz_real     0.992575  -0.886643    0.996049  -0.911327    0.994638   \n",
       "1000Hz_img     -0.974932   0.970795   -0.969875   0.983581   -0.974246   \n",
       "\n",
       "              800Hz_img  900Hz_real  900Hz_img  1000Hz_real  1000Hz_img  \n",
       "yield stress   0.824030   -0.654419   0.808162    -0.632955    0.746391  \n",
       "elongation     0.840465   -0.604297   0.820625    -0.579987    0.746245  \n",
       "10Hz_real     -0.956831    0.986487  -0.965196     0.982632   -0.988288  \n",
       "10Hz_img      -0.990967    0.948058  -0.991709     0.936422   -0.985036  \n",
       "20Hz_real     -0.975502    0.976153  -0.980964     0.969313   -0.990390  \n",
       "20Hz_img      -0.983100    0.954091  -0.985370     0.944125   -0.982828  \n",
       "30Hz_real     -0.985337    0.970713  -0.989163     0.961173   -0.992605  \n",
       "30Hz_img      -0.988410    0.960838  -0.990806     0.949860   -0.988701  \n",
       "40Hz_real     -0.984166    0.968945  -0.987979     0.960472   -0.991746  \n",
       "40Hz_img      -0.985296    0.964115  -0.988423     0.954832   -0.989380  \n",
       "50Hz_real     -0.987922    0.966620  -0.990833     0.956832   -0.992204  \n",
       "50Hz_img      -0.987132    0.966369  -0.990053     0.956426   -0.990964  \n",
       "60Hz_real     -0.992082    0.952738  -0.994094     0.940018   -0.987780  \n",
       "60Hz_img      -0.987523    0.964173  -0.990914     0.953752   -0.990794  \n",
       "70Hz_real     -0.985239    0.963688  -0.988791     0.951970   -0.987618  \n",
       "70Hz_img      -0.981697    0.971068  -0.986200     0.960360   -0.988744  \n",
       "80Hz_real     -0.989218    0.953077  -0.990866     0.941246   -0.985270  \n",
       "80Hz_img      -0.984179    0.965660  -0.987353     0.955040   -0.987399  \n",
       "90Hz_real     -0.994409    0.941393  -0.993551     0.927907   -0.983237  \n",
       "90Hz_img      -0.974103    0.968819  -0.977422     0.958716   -0.984319  \n",
       "100Hz_real    -0.989974    0.932623  -0.990093     0.919772   -0.977699  \n",
       "100Hz_img     -0.842874    0.974189  -0.860778     0.976438   -0.913162  \n",
       "200Hz_real    -0.992434    0.933229  -0.992225     0.918585   -0.977801  \n",
       "200Hz_img      0.978201   -0.853243   0.971373    -0.834105    0.934619  \n",
       "300Hz_real    -0.987205    0.967227  -0.989950     0.956776   -0.991512  \n",
       "300Hz_img      0.981971   -0.854674   0.974657    -0.835970    0.938885  \n",
       "400Hz_real    -0.967739    0.987374  -0.974125     0.980390   -0.989263  \n",
       "400Hz_img      0.980880   -0.849119   0.973280    -0.830032    0.936001  \n",
       "500Hz_real    -0.945756    0.993539  -0.954828     0.990469   -0.981412  \n",
       "500Hz_img      0.990213   -0.876197   0.984394    -0.859736    0.955279  \n",
       "600Hz_real    -0.936161    0.995920  -0.946047     0.992575   -0.974932  \n",
       "600Hz_img      0.997096   -0.902212   0.993340    -0.886643    0.970795  \n",
       "700Hz_real    -0.923107    0.998125  -0.935975     0.996049   -0.969875  \n",
       "700Hz_img      0.998624   -0.925425   0.998405    -0.911327    0.983581  \n",
       "800Hz_real    -0.934491    0.997388  -0.944051     0.994638   -0.974246  \n",
       "800Hz_img      1.000000   -0.923348   0.998071    -0.909527    0.983225  \n",
       "900Hz_real    -0.923348    1.000000  -0.936772     0.996866   -0.969091  \n",
       "900Hz_img      0.998071   -0.936772   1.000000    -0.923232    0.989296  \n",
       "1000Hz_real   -0.909527    0.996866  -0.923232     1.000000   -0.964390  \n",
       "1000Hz_img     0.983225   -0.969091   0.989296    -0.964390    1.000000  \n",
       "\n",
       "[40 rows x 40 columns]"
      ]
     },
     "execution_count": 9,
     "metadata": {},
     "output_type": "execute_result"
    }
   ],
   "source": [
    "# Analysis of Standard correlation coefficient\n",
    "corr_matrix = df_copy.corr()\n",
    "corr_matrix"
   ]
  },
  {
   "cell_type": "code",
   "execution_count": 10,
   "metadata": {
    "colab": {
     "base_uri": "https://localhost:8080/",
     "height": 179
    },
    "colab_type": "code",
    "executionInfo": {
     "elapsed": 848,
     "status": "ok",
     "timestamp": 1580910183666,
     "user": {
      "displayName": "이경민학부생",
      "photoUrl": "",
      "userId": "01346787625936847475"
     },
     "user_tz": -540
    },
    "id": "BRfC5voF9j5h",
    "outputId": "64632d89-cd13-48ba-b5f4-4ce6bf52ad7a"
   },
   "outputs": [
    {
     "data": {
      "text/plain": [
       "yield stress    1.000000\n",
       "elongation      0.940499\n",
       "200Hz_img       0.916553\n",
       "400Hz_img       0.907907\n",
       "300Hz_img       0.907607\n",
       "500Hz_img       0.885573\n",
       "600Hz_img       0.857666\n",
       "700Hz_img       0.828524\n",
       "800Hz_img       0.824030\n",
       "900Hz_img       0.808162\n",
       "1000Hz_img      0.746391\n",
       "100Hz_img      -0.498008\n",
       "1000Hz_real    -0.632955\n",
       "700Hz_real     -0.638346\n",
       "900Hz_real     -0.654419\n",
       "800Hz_real     -0.661951\n",
       "600Hz_real     -0.662665\n",
       "10Hz_real      -0.677522\n",
       "500Hz_real     -0.682411\n",
       "90Hz_img       -0.726369\n",
       "400Hz_real     -0.735641\n",
       "20Hz_real      -0.779720\n",
       "30Hz_real      -0.784261\n",
       "300Hz_real     -0.792334\n",
       "70Hz_img       -0.795107\n",
       "50Hz_real      -0.796171\n",
       "40Hz_real      -0.798632\n",
       "50Hz_img       -0.801158\n",
       "60Hz_img       -0.803969\n",
       "80Hz_img       -0.806033\n",
       "70Hz_real      -0.807258\n",
       "30Hz_img       -0.811725\n",
       "40Hz_img       -0.812098\n",
       "60Hz_real      -0.821782\n",
       "80Hz_real      -0.827194\n",
       "90Hz_real      -0.827258\n",
       "20Hz_img       -0.833671\n",
       "10Hz_img       -0.834114\n",
       "200Hz_real     -0.855021\n",
       "100Hz_real     -0.858779\n",
       "Name: yield stress, dtype: float64"
      ]
     },
     "execution_count": 10,
     "metadata": {},
     "output_type": "execute_result"
    }
   ],
   "source": [
    "# Check what affects the most for the yield stress\n",
    "corr_matrix[\"yield stress\"].sort_values(ascending=False)\n",
    "\n",
    "\n",
    "# 1kHz_voltage > 1k_RE > 1k_IM\n"
   ]
  },
  {
   "cell_type": "code",
   "execution_count": 11,
   "metadata": {
    "colab": {
     "base_uri": "https://localhost:8080/",
     "height": 179
    },
    "colab_type": "code",
    "executionInfo": {
     "elapsed": 1242,
     "status": "ok",
     "timestamp": 1580910185161,
     "user": {
      "displayName": "이경민학부생",
      "photoUrl": "",
      "userId": "01346787625936847475"
     },
     "user_tz": -540
    },
    "id": "M7ilV4aF9j5j",
    "outputId": "a24b4761-68b7-4120-8da6-183a6f39ba77"
   },
   "outputs": [
    {
     "data": {
      "text/plain": [
       "elongation      1.000000\n",
       "yield stress    0.940499\n",
       "400Hz_img       0.920748\n",
       "200Hz_img       0.919195\n",
       "300Hz_img       0.917013\n",
       "500Hz_img       0.904099\n",
       "600Hz_img       0.874214\n",
       "800Hz_img       0.840465\n",
       "700Hz_img       0.839223\n",
       "900Hz_img       0.820625\n",
       "1000Hz_img      0.746245\n",
       "100Hz_img      -0.460541\n",
       "1000Hz_real    -0.579987\n",
       "700Hz_real     -0.594391\n",
       "900Hz_real     -0.604297\n",
       "800Hz_real     -0.621204\n",
       "600Hz_real     -0.625712\n",
       "500Hz_real     -0.655268\n",
       "10Hz_real      -0.662663\n",
       "400Hz_real     -0.708538\n",
       "90Hz_img       -0.723358\n",
       "20Hz_real      -0.746759\n",
       "70Hz_img       -0.764833\n",
       "30Hz_real      -0.766515\n",
       "40Hz_real      -0.773193\n",
       "300Hz_real     -0.775004\n",
       "50Hz_real      -0.776011\n",
       "80Hz_img       -0.776233\n",
       "70Hz_real      -0.777787\n",
       "50Hz_img       -0.779191\n",
       "60Hz_img       -0.782261\n",
       "40Hz_img       -0.786649\n",
       "30Hz_img       -0.793035\n",
       "80Hz_real      -0.800989\n",
       "20Hz_img       -0.801950\n",
       "60Hz_real      -0.805256\n",
       "10Hz_img       -0.813865\n",
       "90Hz_real      -0.817651\n",
       "100Hz_real     -0.837087\n",
       "200Hz_real     -0.841142\n",
       "Name: elongation, dtype: float64"
      ]
     },
     "execution_count": 11,
     "metadata": {},
     "output_type": "execute_result"
    }
   ],
   "source": [
    "corr_matrix[\"elongation\"].sort_values(ascending=False)"
   ]
  },
  {
   "cell_type": "code",
   "execution_count": 0,
   "metadata": {
    "colab": {
     "base_uri": "https://localhost:8080/",
     "height": 269
    },
    "colab_type": "code",
    "executionInfo": {
     "elapsed": 991,
     "status": "ok",
     "timestamp": 1580910188280,
     "user": {
      "displayName": "이경민학부생",
      "photoUrl": "",
      "userId": "01346787625936847475"
     },
     "user_tz": -540
    },
    "id": "nzstLzEu9j5l",
    "outputId": "71d2febd-7ef8-45cf-dae1-e19c7cd46bf5"
   },
   "outputs": [
    {
     "name": "stdout",
     "output_type": "stream",
     "text": [
      "     1k_voltage     1k_RE     1k_IM  5k_voltage     5k_RE     5k_IM\n",
      "51     2.215403  7.245305 -0.903072    5.312309  8.068984  0.092698\n",
      "35     2.225431  7.275967 -0.897505    5.312577  8.066472  0.074681\n",
      "118    2.186764  7.151657 -1.049820    5.310293  8.075633  0.080307\n",
      "60     2.210931  7.240860 -0.730820    5.310039  8.070268  0.101880\n",
      "161    2.177262  7.109777 -1.014860    5.316873  8.084991  0.013395\n",
      "..          ...       ...       ...         ...       ...       ...\n",
      "106    2.190218  7.131141 -1.193878    5.307907  8.073338 -0.004794\n",
      "14     2.238255  7.301127 -1.019791    5.319624  8.100449  0.073257\n",
      "92     2.194620  7.163972 -1.123455    5.311815  8.081840  0.059281\n",
      "179    2.174875  7.086661 -1.157326    5.314225  8.078636  0.109185\n",
      "102    2.190797  7.129122 -1.198810    5.305030  8.069795  0.157954\n",
      "\n",
      "[152 rows x 6 columns]\n"
     ]
    }
   ],
   "source": [
    "print(X_train)"
   ]
  },
  {
   "cell_type": "markdown",
   "metadata": {
    "colab_type": "text",
    "id": "pPvkBvbDl0qN"
   },
   "source": [
    "## Feature Scaling"
   ]
  },
  {
   "cell_type": "code",
   "execution_count": 15,
   "metadata": {
    "colab": {
     "base_uri": "https://localhost:8080/",
     "height": 701
    },
    "colab_type": "code",
    "executionInfo": {
     "elapsed": 828,
     "status": "ok",
     "timestamp": 1580941812489,
     "user": {
      "displayName": "이경민학부생",
      "photoUrl": "",
      "userId": "01346787625936847475"
     },
     "user_tz": -540
    },
    "id": "VBfzh-PG9j5p",
    "outputId": "ad1463a0-6f65-40dc-d41f-5c73e3037624"
   },
   "outputs": [
    {
     "data": {
      "text/plain": [
       "array([[-0.02900451],\n",
       "       [ 0.55707122],\n",
       "       [ 0.08924219],\n",
       "       [ 1.11086311],\n",
       "       [-2.07931441],\n",
       "       [ 0.35114239]])"
      ]
     },
     "execution_count": 15,
     "metadata": {},
     "output_type": "execute_result"
    }
   ],
   "source": [
    "# Feature Scaling => Standardization\n",
    "from sklearn.pipeline import Pipeline\n",
    "from sklearn.impute import SimpleImputer\n",
    "from sklearn.preprocessing import StandardScaler\n",
    "\n",
    "data_pipeline = Pipeline([\n",
    "    ('imputer', SimpleImputer(strategy=\"median\")),\n",
    "    ('std_scaler', StandardScaler()),\n",
    "])\n",
    "imputer = SimpleImputer(strategy=\"median\")\n",
    "\n",
    "X_train_std = data_pipeline.fit_transform(X_train)\n",
    "\n",
    "ys_train = np.array(ys_train)\n",
    "ys_train =ys_train.reshape(-1, 1)\n",
    "ys_train_std = data_pipeline.fit_transform(ys_train)\n",
    "\n",
    "\n",
    "el_train = np.array(el_train)\n",
    "el_train =el_train.reshape(-1, 1)\n",
    "el_train_std = data_pipeline.fit_transform(el_train)\n",
    "\n",
    "X_test_std =data_pipeline.fit_transform(X_test)\n",
    "\n",
    "ys_test = np.array(ys_test)\n",
    "ys_test = ys_test.reshape(-1, 1)\n",
    "ys_test_std = data_pipeline.fit_transform(ys_test)\n",
    "\n",
    "el_test = np.array(el_test)\n",
    "el_test = el_test.reshape(-1, 1)\n",
    "el_test_std = data_pipeline.fit_transform(el_test)\n",
    "\n",
    "\n",
    "ys_test_std\n"
   ]
  },
  {
   "cell_type": "code",
   "execution_count": 16,
   "metadata": {
    "colab": {},
    "colab_type": "code",
    "id": "t_6klLqA9j5r"
   },
   "outputs": [],
   "source": [
    "#np.savetxt(\"ys_train.csv\", ys_train, delimiter=\",\")"
   ]
  },
  {
   "cell_type": "code",
   "execution_count": 17,
   "metadata": {
    "colab": {
     "base_uri": "https://localhost:8080/",
     "height": 35
    },
    "colab_type": "code",
    "executionInfo": {
     "elapsed": 707,
     "status": "ok",
     "timestamp": 1580910215763,
     "user": {
      "displayName": "이경민학부생",
      "photoUrl": "",
      "userId": "01346787625936847475"
     },
     "user_tz": -540
    },
    "id": "6M4glgeZ9j5x",
    "outputId": "064fe99f-1d67-49e4-d01b-4ee5c879a670"
   },
   "outputs": [
    {
     "data": {
      "text/plain": [
       "(21, 38)"
      ]
     },
     "execution_count": 17,
     "metadata": {},
     "output_type": "execute_result"
    }
   ],
   "source": [
    "X_train_std.shape"
   ]
  },
  {
   "cell_type": "code",
   "execution_count": 18,
   "metadata": {
    "colab": {
     "base_uri": "https://localhost:8080/",
     "height": 35
    },
    "colab_type": "code",
    "executionInfo": {
     "elapsed": 882,
     "status": "ok",
     "timestamp": 1580910217261,
     "user": {
      "displayName": "이경민학부생",
      "photoUrl": "",
      "userId": "01346787625936847475"
     },
     "user_tz": -540
    },
    "id": "BguqksOT9j50",
    "outputId": "46a7596b-5e20-4ccb-e4fd-095d416cf865"
   },
   "outputs": [
    {
     "data": {
      "text/plain": [
       "(21, 1)"
      ]
     },
     "execution_count": 18,
     "metadata": {},
     "output_type": "execute_result"
    }
   ],
   "source": [
    "ys_train.shape"
   ]
  },
  {
   "cell_type": "code",
   "execution_count": 0,
   "metadata": {
    "colab": {},
    "colab_type": "code",
    "id": "tBB-zcsC9j53"
   },
   "outputs": [],
   "source": [
    "np.random.seed(42)"
   ]
  },
  {
   "cell_type": "markdown",
   "metadata": {
    "colab_type": "text",
    "id": "uUguBify9j55"
   },
   "source": [
    "Select and train a random forest regression model\n",
    "==="
   ]
  },
  {
   "cell_type": "markdown",
   "metadata": {
    "colab_type": "text",
    "id": "YHO8SGSLlc9H"
   },
   "source": [
    "## Yield Stress"
   ]
  },
  {
   "cell_type": "code",
   "execution_count": 10,
   "metadata": {
    "colab": {},
    "colab_type": "code",
    "id": "Lgr6LONNlc9I"
   },
   "outputs": [],
   "source": [
    "# Where to save the figures\n",
    "PROJECT_ROOT_DIR = \".\"\n",
    "CHAPTER_ID = \"BestHyperParameter/RF_Regression/yield_stress_6V\"\n",
    "IMAGES_PATH = os.path.join(PROJECT_ROOT_DIR, \"images\", CHAPTER_ID)\n",
    "os.makedirs(IMAGES_PATH, exist_ok=True)"
   ]
  },
  {
   "cell_type": "code",
   "execution_count": 19,
   "metadata": {
    "colab": {
     "base_uri": "https://localhost:8080/",
     "height": 91
    },
    "colab_type": "code",
    "executionInfo": {
     "elapsed": 1028,
     "status": "ok",
     "timestamp": 1580941817444,
     "user": {
      "displayName": "이경민학부생",
      "photoUrl": "",
      "userId": "01346787625936847475"
     },
     "user_tz": -540
    },
    "id": "SRVl0hQ69j58",
    "outputId": "f3ad792b-9210-49cf-a1f9-befb9d8bf4f3"
   },
   "outputs": [
    {
     "name": "stderr",
     "output_type": "stream",
     "text": [
      "<ipython-input-19-e08c25066214>:6: DataConversionWarning: A column-vector y was passed when a 1d array was expected. Please change the shape of y to (n_samples,), for example using ravel().\n",
      "  rf_reg.fit(X_train_std, ys_train_std)\n"
     ]
    },
    {
     "data": {
      "text/plain": [
       "6.721334404112375"
      ]
     },
     "execution_count": 19,
     "metadata": {},
     "output_type": "execute_result"
    }
   ],
   "source": [
    "# Normal Random Forest\n",
    "\n",
    "from sklearn.ensemble import RandomForestRegressor\n",
    "from sklearn.metrics import mean_squared_error\n",
    "rf_reg = RandomForestRegressor(random_state=42)\n",
    "rf_reg.fit(X_train_std, ys_train_std)\n",
    "ys_predictions_rf= rf_reg.predict(X_train_std) * np.std(ys_train) + np.mean(ys_train)\n",
    "rf_mse = mean_squared_error(ys_train, ys_predictions_rf)\n",
    "rf_rmse = np.sqrt(rf_mse)\n",
    "rf_rmse\n"
   ]
  },
  {
   "cell_type": "markdown",
   "metadata": {
    "colab_type": "text",
    "id": "3_KX5Rpt9j5-"
   },
   "source": [
    "Hyper Parameters Tuning: GridSearch CV function\n",
    "---"
   ]
  },
  {
   "cell_type": "markdown",
   "metadata": {
    "colab_type": "text",
    "id": "cDW9JI5Q9j5-"
   },
   "source": [
    "GridSearchCV implements a “fit” and a “score” method. It also implements “predict”, “predict_proba”, “decision_function”, “transform” and “inverse_transform” if they are implemented in the estimator used.\n",
    "\n",
    "The parameters of the estimator used to apply these methods are optimized by cross-validated grid-search over a parameter grid."
   ]
  },
  {
   "cell_type": "code",
   "execution_count": 11,
   "metadata": {
    "colab": {
     "base_uri": "https://localhost:8080/",
     "height": 35
    },
    "colab_type": "code",
    "executionInfo": {
     "elapsed": 1054,
     "status": "ok",
     "timestamp": 1580941820834,
     "user": {
      "displayName": "이경민학부생",
      "photoUrl": "",
      "userId": "01346787625936847475"
     },
     "user_tz": -540
    },
    "id": "p1G96w_Zlc9R",
    "outputId": "bfc44ee6-6286-49ce-f1a7-ecd104fda551"
   },
   "outputs": [
    {
     "name": "stdout",
     "output_type": "stream",
     "text": [
      "[1e-10, 1e-07, 1e-05, 0.001, 0.1, 1]\n"
     ]
    }
   ],
   "source": [
    "range_2 = [-10, -7,-5, -3, -1, 0]\n",
    "for i in range(len(range_2)):\n",
    "    range_2[i] = 10 ** range_2[i]\n",
    "    \n",
    "print(range_2)"
   ]
  },
  {
   "cell_type": "code",
   "execution_count": 12,
   "metadata": {
    "colab": {},
    "colab_type": "code",
    "id": "BGD43sVVlc9T"
   },
   "outputs": [],
   "source": [
    "range_2 = [0.75,0.8,0.85,0.9,0.95,1]"
   ]
  },
  {
   "cell_type": "code",
   "execution_count": 13,
   "metadata": {
    "colab": {
     "base_uri": "https://localhost:8080/",
     "height": 35
    },
    "colab_type": "code",
    "executionInfo": {
     "elapsed": 629,
     "status": "ok",
     "timestamp": 1580941821254,
     "user": {
      "displayName": "이경민학부생",
      "photoUrl": "",
      "userId": "01346787625936847475"
     },
     "user_tz": -540
    },
    "id": "3f_VszuSlc9V",
    "outputId": "f1148204-df73-450b-ddb4-c02857accf99"
   },
   "outputs": [
    {
     "name": "stdout",
     "output_type": "stream",
     "text": [
      "[1000, 10000, 100000]\n"
     ]
    }
   ],
   "source": [
    "range_1 = [3,4,5]\n",
    "for i in range(len(range_1)):\n",
    "    range_1[i] = 10 ** range_1[i]\n",
    "    \n",
    "print(range_1)"
   ]
  },
  {
   "cell_type": "code",
   "execution_count": 14,
   "metadata": {
    "colab": {},
    "colab_type": "code",
    "id": "nc_bCpOPlc9a"
   },
   "outputs": [],
   "source": [
    "range_1 = [10000]"
   ]
  },
  {
   "cell_type": "code",
   "execution_count": 15,
   "metadata": {
    "colab": {
     "base_uri": "https://localhost:8080/",
     "height": 35
    },
    "colab_type": "code",
    "executionInfo": {
     "elapsed": 816,
     "status": "ok",
     "timestamp": 1580941822256,
     "user": {
      "displayName": "이경민학부생",
      "photoUrl": "",
      "userId": "01346787625936847475"
     },
     "user_tz": -540
    },
    "id": "iANF0mIvlc9d",
    "outputId": "7e22b655-a4ea-42af-9cff-7b2cec3e86d0"
   },
   "outputs": [
    {
     "name": "stdout",
     "output_type": "stream",
     "text": [
      "[1, 2]\n"
     ]
    }
   ],
   "source": [
    "range_3 = [1,2]\n",
    "print(range_3)"
   ]
  },
  {
   "cell_type": "code",
   "execution_count": 16,
   "metadata": {
    "colab": {
     "base_uri": "https://localhost:8080/",
     "height": 35
    },
    "colab_type": "code",
    "executionInfo": {
     "elapsed": 820,
     "status": "ok",
     "timestamp": 1580941822790,
     "user": {
      "displayName": "이경민학부생",
      "photoUrl": "",
      "userId": "01346787625936847475"
     },
     "user_tz": -540
    },
    "id": "pc0CImTblc9f",
    "outputId": "a7c6b29e-b134-4d45-f39e-fad2e22fd522"
   },
   "outputs": [
    {
     "data": {
      "text/plain": [
       "(152, 1)"
      ]
     },
     "execution_count": 16,
     "metadata": {},
     "output_type": "execute_result"
    }
   ],
   "source": [
    "ys_train_std.shape\n"
   ]
  },
  {
   "cell_type": "code",
   "execution_count": 25,
   "metadata": {
    "colab": {
     "base_uri": "https://localhost:8080/",
     "height": 359
    },
    "colab_type": "code",
    "executionInfo": {
     "elapsed": 51059,
     "status": "ok",
     "timestamp": 1580941873674,
     "user": {
      "displayName": "이경민학부생",
      "photoUrl": "",
      "userId": "01346787625936847475"
     },
     "user_tz": -540
    },
    "id": "DLZlc_S89j6A",
    "outputId": "cbf773e7-94bb-4db8-c5b4-bc95c816a1f8"
   },
   "outputs": [
    {
     "data": {
      "text/plain": [
       "RandomForestRegressor(max_features=0.9, n_estimators=10, random_state=1)"
      ]
     },
     "execution_count": 25,
     "metadata": {},
     "output_type": "execute_result"
    }
   ],
   "source": [
    "from sklearn.model_selection import GridSearchCV\n",
    "\n",
    "param_grid = [\n",
    "    # try 12 (3×4) combinations of hyperparameters\n",
    "    {'n_estimators':[10000], 'max_features':[0.85],\n",
    "   'min_samples_leaf':[1]\n",
    "                      \n",
    "    }\n",
    "  ]\n",
    "\n",
    "rf_reg = RandomForestRegressor(bootstrap=True, ccp_alpha=0.0, criterion='mse',\n",
    "max_depth=None, max_features=0.9, max_leaf_nodes=None,\n",
    "max_samples=None, min_impurity_decrease=0.0,\n",
    "min_impurity_split=None, min_samples_leaf=1,\n",
    "min_samples_split=2, min_weight_fraction_leaf=0.0,\n",
    "n_estimators=10, n_jobs=None, oob_score=False,\n",
    "random_state=1, verbose=0, warm_start=False)\n",
    "# train across 5 folds, that's a total of (12+6)*5=90 rounds of training \n",
    "#grid_search = GridSearchCV(rf_reg, param_grid, cv=3,\n",
    "                           #scoring='neg_mean_squared_error',\n",
    "                           #return_train_score=True)\n",
    "#grid_search.fit(X_train_std, ys_train_std.ravel())\n",
    "rf_reg.fit(X_train_std, ys_train_std.ravel())"
   ]
  },
  {
   "cell_type": "code",
   "execution_count": 13,
   "metadata": {
    "colab": {
     "base_uri": "https://localhost:8080/",
     "height": 143
    },
    "colab_type": "code",
    "executionInfo": {
     "elapsed": 49239,
     "status": "ok",
     "timestamp": 1580941873676,
     "user": {
      "displayName": "이경민학부생",
      "photoUrl": "",
      "userId": "01346787625936847475"
     },
     "user_tz": -540
    },
    "id": "WCcHDLEU9j6D",
    "outputId": "89e2fc95-28e1-4bd5-d491-9a0da3035974"
   },
   "outputs": [
    {
     "data": {
      "text/plain": [
       "RandomForestRegressor(bootstrap=True, ccp_alpha=0.0, criterion='mse',\n",
       "                      max_depth=None, max_features=0.85, max_leaf_nodes=None,\n",
       "                      max_samples=None, min_impurity_decrease=0.0,\n",
       "                      min_impurity_split=None, min_samples_leaf=1,\n",
       "                      min_samples_split=2, min_weight_fraction_leaf=0.0,\n",
       "                      n_estimators=10000, n_jobs=None, oob_score=False,\n",
       "                      random_state=42, verbose=0, warm_start=False)"
      ]
     },
     "execution_count": 13,
     "metadata": {},
     "output_type": "execute_result"
    }
   ],
   "source": [
    "grid_search.best_estimator_"
   ]
  },
  {
   "cell_type": "code",
   "execution_count": 14,
   "metadata": {
    "colab": {
     "base_uri": "https://localhost:8080/",
     "height": 35
    },
    "colab_type": "code",
    "executionInfo": {
     "elapsed": 47979,
     "status": "ok",
     "timestamp": 1580941873677,
     "user": {
      "displayName": "이경민학부생",
      "photoUrl": "",
      "userId": "01346787625936847475"
     },
     "user_tz": -540
    },
    "id": "-KeJLCNd9j6F",
    "outputId": "5704d77f-9fc7-4a86-e824-4300b767a814",
    "scrolled": true
   },
   "outputs": [
    {
     "data": {
      "text/plain": [
       "{'max_features': 0.85, 'min_samples_leaf': 1, 'n_estimators': 10000}"
      ]
     },
     "execution_count": 14,
     "metadata": {},
     "output_type": "execute_result"
    }
   ],
   "source": [
    "grid_search.best_params_"
   ]
  },
  {
   "cell_type": "code",
   "execution_count": 15,
   "metadata": {
    "colab": {
     "base_uri": "https://localhost:8080/",
     "height": 35
    },
    "colab_type": "code",
    "executionInfo": {
     "elapsed": 47349,
     "status": "ok",
     "timestamp": 1580941873678,
     "user": {
      "displayName": "이경민학부생",
      "photoUrl": "",
      "userId": "01346787625936847475"
     },
     "user_tz": -540
    },
    "id": "MuPse6NG9j6G",
    "outputId": "a89ca118-0e2e-4b08-e44f-3e876d57bc75"
   },
   "outputs": [
    {
     "name": "stdout",
     "output_type": "stream",
     "text": [
      "0.06502330660376887 {'max_features': 0.85, 'min_samples_leaf': 1, 'n_estimators': 10000}\n"
     ]
    }
   ],
   "source": [
    "cvres = grid_search.cv_results_\n",
    "for mean_score, params in zip(cvres[\"mean_test_score\"], cvres[\"params\"]):\n",
    "    print(np.sqrt(-mean_score), params)"
   ]
  },
  {
   "cell_type": "code",
   "execution_count": 26,
   "metadata": {
    "colab": {},
    "colab_type": "code",
    "id": "0wWPGCFt9j6J"
   },
   "outputs": [
    {
     "data": {
      "text/plain": [
       "RandomForestRegressor(max_features=0.9, n_estimators=10, random_state=1)"
      ]
     },
     "execution_count": 26,
     "metadata": {},
     "output_type": "execute_result"
    }
   ],
   "source": [
    "ys_rf_final_model = rf_reg\n",
    "ys_rf_final_model"
   ]
  },
  {
   "cell_type": "markdown",
   "metadata": {
    "colab": {},
    "colab_type": "code",
    "id": "0wWPGCFt9j6J"
   },
   "source": [
    "ys_rf_final_model = RandomForestRegressor(bootstrap=True, ccp_alpha=0.0, criterion='mse',\n",
    "                      max_depth=None, max_features=0.85, max_leaf_nodes=None,\n",
    "                      max_samples=None, min_impurity_decrease=0.0,\n",
    "                      min_impurity_split=None, min_samples_leaf=1,\n",
    "                      min_samples_split=2, min_weight_fraction_leaf=0.0,\n",
    "                      n_estimators=10000, n_jobs=None, oob_score=False,\n",
    "                      random_state=42, verbose=0, warm_start=False).fit(X_train_std, ys_train_std)"
   ]
  },
  {
   "cell_type": "code",
   "execution_count": 17,
   "metadata": {
    "colab": {},
    "colab_type": "code",
    "id": "C-a_jB_Vlc9x",
    "outputId": "d05f21c6-2b97-4260-cc11-a5d1cfbb5851"
   },
   "outputs": [
    {
     "data": {
      "text/plain": [
       "'C:\\\\Users\\\\kmlee\\\\Anaconda3\\\\python.exe'"
      ]
     },
     "execution_count": 17,
     "metadata": {},
     "output_type": "execute_result"
    }
   ],
   "source": [
    "sys.executable"
   ]
  },
  {
   "cell_type": "code",
   "execution_count": 27,
   "metadata": {
    "colab": {
     "base_uri": "https://localhost:8080/",
     "height": 35
    },
    "colab_type": "code",
    "executionInfo": {
     "elapsed": 1308,
     "status": "ok",
     "timestamp": 1580941875014,
     "user": {
      "displayName": "이경민학부생",
      "photoUrl": "",
      "userId": "01346787625936847475"
     },
     "user_tz": -540
    },
    "id": "O4nTZkPe9j6T",
    "outputId": "f78c88f6-88d2-4136-c9eb-2ad214da93f7"
   },
   "outputs": [
    {
     "data": {
      "text/plain": [
       "8.417460020129365"
      ]
     },
     "execution_count": 27,
     "metadata": {},
     "output_type": "execute_result"
    }
   ],
   "source": [
    "ys_rf_train_predictions = ys_rf_final_model.predict(X_train_std) * np.std(ys_train) + np.mean(ys_train)\n",
    "ys_rf_train_mse = mean_squared_error(ys_train, ys_rf_train_predictions)\n",
    "ys_rf_train_rmse = np.sqrt(ys_rf_train_mse)\n",
    "ys_rf_train_rmse"
   ]
  },
  {
   "cell_type": "code",
   "execution_count": 28,
   "metadata": {
    "colab": {},
    "colab_type": "code",
    "id": "2TOENWPj9j6P"
   },
   "outputs": [],
   "source": [
    "X_test_std = np.array(X_test_std)\n",
    "#X_test_std= X_test_std.reshape(-1, 1)\n",
    "#X_test_std"
   ]
  },
  {
   "cell_type": "code",
   "execution_count": 29,
   "metadata": {
    "colab": {
     "base_uri": "https://localhost:8080/",
     "height": 35
    },
    "colab_type": "code",
    "executionInfo": {
     "elapsed": 1701,
     "status": "ok",
     "timestamp": 1580941875433,
     "user": {
      "displayName": "이경민학부생",
      "photoUrl": "",
      "userId": "01346787625936847475"
     },
     "user_tz": -540
    },
    "id": "sC-9hXYclc94",
    "outputId": "ae555a0e-c192-4323-99a8-afacd7906af2"
   },
   "outputs": [
    {
     "name": "stdout",
     "output_type": "stream",
     "text": [
      "ys_rf_train_err:  [3.23792939] %\n"
     ]
    }
   ],
   "source": [
    "ys_train_sum = np.zeros(1)\n",
    "\n",
    "for i in range(1, len(ys_train)):\n",
    "    ys_train_sum +=  ys_train[i]\n",
    "    \n",
    "ys_train_avg = ys_train_sum / len(ys_train)\n",
    "ys_rf_train_err = ys_rf_train_rmse / ys_train_avg * 100\n",
    "print(\"ys_rf_train_err: \", ys_rf_train_err, '%')"
   ]
  },
  {
   "cell_type": "code",
   "execution_count": 30,
   "metadata": {
    "colab": {
     "base_uri": "https://localhost:8080/",
     "height": 35
    },
    "colab_type": "code",
    "executionInfo": {
     "elapsed": 2177,
     "status": "ok",
     "timestamp": 1580941875930,
     "user": {
      "displayName": "이경민학부생",
      "photoUrl": "",
      "userId": "01346787625936847475"
     },
     "user_tz": -540
    },
    "id": "MslMbJqq9j6R",
    "outputId": "c89c0822-eb79-4005-ed0e-21b8412c7f3e"
   },
   "outputs": [
    {
     "data": {
      "text/plain": [
       "21.372987378932308"
      ]
     },
     "execution_count": 30,
     "metadata": {},
     "output_type": "execute_result"
    }
   ],
   "source": [
    "ys_rf_test_predictions = ys_rf_final_model.predict(X_test_std) * np.std(ys_train) + np.mean(ys_train)\n",
    "ys_rf_test_mse = mean_squared_error(ys_test,ys_rf_test_predictions)\n",
    "ys_rf_test_rmse = np.sqrt(ys_rf_test_mse)\n",
    "ys_rf_test_rmse"
   ]
  },
  {
   "cell_type": "code",
   "execution_count": 31,
   "metadata": {
    "colab": {
     "base_uri": "https://localhost:8080/",
     "height": 35
    },
    "colab_type": "code",
    "executionInfo": {
     "elapsed": 2159,
     "status": "ok",
     "timestamp": 1580941875931,
     "user": {
      "displayName": "이경민학부생",
      "photoUrl": "",
      "userId": "01346787625936847475"
     },
     "user_tz": -540
    },
    "id": "bYjOB9mllc98",
    "outputId": "1432308f-9ce0-4b2a-c37d-9d73c08e9925"
   },
   "outputs": [
    {
     "name": "stdout",
     "output_type": "stream",
     "text": [
      "ys_rf_test_err:  [9.89673429] %\n"
     ]
    }
   ],
   "source": [
    "ys_test_sum = np.zeros(1)\n",
    "\n",
    "for i in range(1, len(ys_test)):\n",
    "    ys_test_sum +=  ys_test[i]\n",
    "    \n",
    "ys_test_avg = ys_test_sum / len(ys_test)\n",
    "ys_rf_test_err = ys_rf_test_rmse / ys_test_avg * 100\n",
    "print(\"ys_rf_test_err: \", ys_rf_test_err, '%')"
   ]
  },
  {
   "cell_type": "code",
   "execution_count": 24,
   "metadata": {},
   "outputs": [],
   "source": [
    "np.savetxt('predictions.csv', ys_rf_test_predictions, delimiter=',', fmt='%f')\n"
   ]
  },
  {
   "cell_type": "markdown",
   "metadata": {
    "colab_type": "text",
    "id": "azKRvb3Flc99"
   },
   "source": [
    "## importances"
   ]
  },
  {
   "cell_type": "code",
   "execution_count": 32,
   "metadata": {
    "colab": {
     "base_uri": "https://localhost:8080/",
     "height": 161
    },
    "colab_type": "code",
    "executionInfo": {
     "elapsed": 2449,
     "status": "ok",
     "timestamp": 1580910331999,
     "user": {
      "displayName": "이경민학부생",
      "photoUrl": "",
      "userId": "01346787625936847475"
     },
     "user_tz": -540
    },
    "id": "82tWhnfs21mR",
    "outputId": "59ec864b-e712-40f0-9b78-4a46f7429e11"
   },
   "outputs": [
    {
     "data": {
      "text/plain": [
       "array([2.97567983e-03, 1.77004497e-06, 3.85709192e-06, 2.67199948e-04,\n",
       "       1.76621299e-03, 1.77335553e-02, 2.21544453e-04, 1.37265417e-03,\n",
       "       7.92273182e-02, 8.33399425e-02, 8.23082761e-02, 0.00000000e+00,\n",
       "       2.35819943e-03, 9.28570692e-02, 8.67747526e-02, 8.61450947e-04,\n",
       "       6.75913857e-03, 6.40815192e-04, 4.97833141e-05, 1.89831265e-03,\n",
       "       7.40308762e-02, 3.85794547e-02, 1.93729567e-04, 6.80958458e-03,\n",
       "       3.63509814e-04, 1.65239346e-02, 3.61805154e-03, 1.07198241e-01,\n",
       "       5.26493332e-05, 1.78802231e-02, 5.59412730e-03, 5.69335145e-03,\n",
       "       4.11203012e-06, 8.52508101e-02, 3.26729317e-03, 1.58097956e-01,\n",
       "       2.03969630e-04, 1.52205932e-02])"
      ]
     },
     "execution_count": 32,
     "metadata": {},
     "output_type": "execute_result"
    }
   ],
   "source": [
    "# Feature importance\n",
    "\n",
    "rf_feature_importance = ys_rf_final_model.feature_importances_\n",
    "rf_feature_importance\n",
    "# print(\"feature importances\\n\")\n",
    "# print(\"1kHz_voltage: \",rf_feature_importance[0])\n",
    "# print(\"1kHz_Re: \",rf_feature_importance[1])\n",
    "# print(\"5kHz_voltage : \",rf_feature_importance[3])\n",
    "# print(\"1kHz_Im: \",rf_feature_importance[2])\n",
    "# print(\"5kHz_Im: \",rf_feature_importance[5])\n",
    "# print(\"5kHz_Re: \",rf_feature_importance[4])\n"
   ]
  },
  {
   "cell_type": "code",
   "execution_count": 33,
   "metadata": {},
   "outputs": [
    {
     "data": {
      "text/plain": [
       "38"
      ]
     },
     "execution_count": 33,
     "metadata": {},
     "output_type": "execute_result"
    }
   ],
   "source": [
    "len(rf_feature_importance)"
   ]
  },
  {
   "cell_type": "code",
   "execution_count": 34,
   "metadata": {},
   "outputs": [
    {
     "data": {
      "text/plain": [
       "array([35, 27, 13, 14, 33,  9, 10,  8, 20, 21, 29,  5, 25, 37, 23, 16, 31,\n",
       "       30, 26, 34,  0, 12, 19,  4,  7, 15, 17, 24,  3,  6, 36, 22, 28, 18,\n",
       "       32,  2,  1, 11], dtype=int64)"
      ]
     },
     "execution_count": 34,
     "metadata": {},
     "output_type": "execute_result"
    }
   ],
   "source": [
    "impt_sorted_idx = rf_feature_importance.argsort()[::-1]\n",
    "impt_sorted_idx"
   ]
  },
  {
   "cell_type": "code",
   "execution_count": 0,
   "metadata": {
    "colab": {},
    "colab_type": "code",
    "id": "Qu4SJY8Xlc-A"
   },
   "outputs": [],
   "source": [
    "X_test = pd.DataFrame(X_test)\n",
    "ys_test = pd.DataFrame(ys_test)"
   ]
  },
  {
   "cell_type": "code",
   "execution_count": 0,
   "metadata": {
    "colab": {},
    "colab_type": "code",
    "id": "lM03i7hdlc-B"
   },
   "outputs": [],
   "source": [
    "from sklearn.inspection import permutation_importance\n",
    "\n",
    "result = permutation_importance(ys_rf_final_model, X_test_std, ys_test_std, n_repeats=10,\n",
    "                                random_state=42)\n",
    "\n"
   ]
  },
  {
   "cell_type": "code",
   "execution_count": 0,
   "metadata": {
    "colab": {
     "base_uri": "https://localhost:8080/",
     "height": 35
    },
    "colab_type": "code",
    "executionInfo": {
     "elapsed": 52357,
     "status": "ok",
     "timestamp": 1580910382800,
     "user": {
      "displayName": "이경민학부생",
      "photoUrl": "",
      "userId": "01346787625936847475"
     },
     "user_tz": -540
    },
    "id": "tc_6VSQTlc-D",
    "outputId": "1349ba62-990a-488d-fd56-721cdaaa0d31"
   },
   "outputs": [
    {
     "data": {
      "text/plain": [
       "array([0, 1, 3, 4, 5, 2])"
      ]
     },
     "execution_count": 50,
     "metadata": {
      "tags": []
     },
     "output_type": "execute_result"
    }
   ],
   "source": [
    "perm_sorted_idx = result.importances_mean.argsort()[::-1]\n",
    "perm_sorted_idx"
   ]
  },
  {
   "cell_type": "code",
   "execution_count": 0,
   "metadata": {
    "colab": {
     "base_uri": "https://localhost:8080/",
     "height": 161
    },
    "colab_type": "code",
    "executionInfo": {
     "elapsed": 51848,
     "status": "ok",
     "timestamp": 1580910382801,
     "user": {
      "displayName": "이경민학부생",
      "photoUrl": "",
      "userId": "01346787625936847475"
     },
     "user_tz": -540
    },
    "id": "719chrPJlc-E",
    "outputId": "a57a6e3e-1e33-4615-c594-abcc33135772"
   },
   "outputs": [
    {
     "name": "stdout",
     "output_type": "stream",
     "text": [
      "Permutated feature importances\n",
      "\n",
      "1kHz_voltage:  1.2386055477661606\n",
      "1kHz_Re:  0.07333897583525964\n",
      "5kHz_voltage :  0.0021868230953246528\n",
      "5kHz_Re:  -1.4770615627557327e-05\n",
      "5kHz_Im:  -3.335212244442998e-05\n",
      "1kHz_Im:  -3.57027605117799e-05\n"
     ]
    }
   ],
   "source": [
    "print(\"Permutated feature importances\\n\")\n",
    "print(\"1kHz_voltage: \",result.importances_mean[0])\n",
    "print(\"1kHz_Re: \",result.importances_mean[1])\n",
    "print(\"5kHz_voltage : \",result.importances_mean[3])\n",
    "print(\"5kHz_Re: \",result.importances_mean[4])\n",
    "print(\"5kHz_Im: \",result.importances_mean[5])\n",
    "print(\"1kHz_Im: \",result.importances_mean[2])\n"
   ]
  },
  {
   "cell_type": "code",
   "execution_count": 0,
   "metadata": {
    "colab": {},
    "colab_type": "code",
    "id": "_iCoig6qlc-I"
   },
   "outputs": [],
   "source": []
  },
  {
   "cell_type": "code",
   "execution_count": 0,
   "metadata": {
    "colab": {
     "base_uri": "https://localhost:8080/",
     "height": 172
    },
    "colab_type": "code",
    "executionInfo": {
     "elapsed": 49069,
     "status": "error",
     "timestamp": 1580910382810,
     "user": {
      "displayName": "이경민학부생",
      "photoUrl": "",
      "userId": "01346787625936847475"
     },
     "user_tz": -540
    },
    "id": "wkq8DW_hlc-K",
    "outputId": "43cd3717-268d-4178-c3f0-40acab79132b"
   },
   "outputs": [
    {
     "ename": "NameError",
     "evalue": "ignored",
     "output_type": "error",
     "traceback": [
      "\u001b[0;31m---------------------------------------------------------------------------\u001b[0m",
      "\u001b[0;31mNameError\u001b[0m                                 Traceback (most recent call last)",
      "\u001b[0;32m<ipython-input-52-99b2056eb87a>\u001b[0m in \u001b[0;36m<module>\u001b[0;34m()\u001b[0m\n\u001b[0;32m----> 1\u001b[0;31m \u001b[0meli5\u001b[0m\u001b[0;34m.\u001b[0m\u001b[0mshow_weights\u001b[0m\u001b[0;34m(\u001b[0m\u001b[0mperm\u001b[0m\u001b[0;34m)\u001b[0m\u001b[0;31m#, feature_names = X_train.columns.tolist())\u001b[0m\u001b[0;34m\u001b[0m\u001b[0;34m\u001b[0m\u001b[0m\n\u001b[0m",
      "\u001b[0;31mNameError\u001b[0m: name 'eli5' is not defined"
     ]
    }
   ],
   "source": [
    "eli5.show_weights(perm)#, feature_names = X_train.columns.tolist())"
   ]
  },
  {
   "cell_type": "markdown",
   "metadata": {
    "colab_type": "text",
    "id": "4vzFRfr6lc-M"
   },
   "source": [
    "## Calculate adj R^2 scores"
   ]
  },
  {
   "cell_type": "code",
   "execution_count": 29,
   "metadata": {
    "colab": {},
    "colab_type": "code",
    "id": "B2EE3RYklc-O"
   },
   "outputs": [],
   "source": [
    "from sklearn.metrics import r2_score\n",
    "\n",
    "def r2_adj_score(y_pred, y_true, X):\n",
    "    r2 = r2_score(y_pred=y_pred, y_true=y_true)\n",
    "    r2_adj_score = 1 - (1-r2)*(len(y_true)-1)/(len(y_true)-X.shape[1]-1)\n",
    "    \n",
    "    return r2_adj_score"
   ]
  },
  {
   "cell_type": "code",
   "execution_count": 30,
   "metadata": {
    "colab": {
     "base_uri": "https://localhost:8080/",
     "height": 35
    },
    "colab_type": "code",
    "executionInfo": {
     "elapsed": 798,
     "status": "ok",
     "timestamp": 1580910398771,
     "user": {
      "displayName": "이경민학부생",
      "photoUrl": "",
      "userId": "01346787625936847475"
     },
     "user_tz": -540
    },
    "id": "_1mWY5Erlc-Q",
    "outputId": "1f84826c-968e-4c50-f0f2-f7e75a37836f"
   },
   "outputs": [
    {
     "name": "stdout",
     "output_type": "stream",
     "text": [
      "0.9921\n"
     ]
    }
   ],
   "source": [
    "rf_r2_adj = r2_adj_score(y_pred=ys_rf_test_predictions, y_true=ys_test, X=X_train)\n",
    "print('{}'.format(round(rf_r2_adj,4)))"
   ]
  },
  {
   "cell_type": "code",
   "execution_count": 47,
   "metadata": {},
   "outputs": [
    {
     "name": "stdout",
     "output_type": "stream",
     "text": [
      "dataset size:  190\n",
      " \n"
     ]
    },
    {
     "name": "stderr",
     "output_type": "stream",
     "text": [
      "C:\\Users\\kmlee\\Anaconda3\\lib\\site-packages\\ipykernel_launcher.py:27: DataConversionWarning: A column-vector y was passed when a 1d array was expected. Please change the shape of y to (n_samples,), for example using ravel().\n"
     ]
    },
    {
     "name": "stdout",
     "output_type": "stream",
     "text": [
      "1 cv rmse: 4.855721826907925, cv adj r2: 0.9920975263949602\n",
      "   train size: 152, test size: 38\n",
      "1 cv index\" [  5   9  15  16  18  19  24  30  42  45  56  65  66  67  68  75  78  85\n",
      "  95  97 101 104 109 111 112 120 123 124 127 132 141 155 163 164 168 169\n",
      " 175 180]\n",
      " \n"
     ]
    },
    {
     "name": "stderr",
     "output_type": "stream",
     "text": [
      "C:\\Users\\kmlee\\Anaconda3\\lib\\site-packages\\ipykernel_launcher.py:27: DataConversionWarning: A column-vector y was passed when a 1d array was expected. Please change the shape of y to (n_samples,), for example using ravel().\n"
     ]
    },
    {
     "name": "stdout",
     "output_type": "stream",
     "text": [
      "2 cv rmse: 5.4423151885349865, cv adj r2: 0.9899317097364121\n",
      "   train size: 152, test size: 38\n",
      "2 cv index\" [  2  11  12  22  26  29  31  35  36  38  41  46  51  55  60  69  76  82\n",
      "  93  96  98 115 117 118 122 128 133 138 139 140 152 153 156 161 165 178\n",
      " 181 185]\n",
      " \n"
     ]
    },
    {
     "name": "stderr",
     "output_type": "stream",
     "text": [
      "C:\\Users\\kmlee\\Anaconda3\\lib\\site-packages\\ipykernel_launcher.py:27: DataConversionWarning: A column-vector y was passed when a 1d array was expected. Please change the shape of y to (n_samples,), for example using ravel().\n"
     ]
    },
    {
     "name": "stdout",
     "output_type": "stream",
     "text": [
      "3 cv rmse: 7.84812297180577, cv adj r2: 0.9811272830787482\n",
      "   train size: 152, test size: 38\n",
      "3 cv index\" [  0   4   6  10  23  25  27  28  32  39  40  44  64  70  77  79  81  84\n",
      "  86  90 100 108 113 114 119 125 126 135 136 137 142 144 146 147 150 170\n",
      " 182 184]\n",
      " \n"
     ]
    },
    {
     "name": "stderr",
     "output_type": "stream",
     "text": [
      "C:\\Users\\kmlee\\Anaconda3\\lib\\site-packages\\ipykernel_launcher.py:27: DataConversionWarning: A column-vector y was passed when a 1d array was expected. Please change the shape of y to (n_samples,), for example using ravel().\n"
     ]
    },
    {
     "name": "stdout",
     "output_type": "stream",
     "text": [
      "4 cv rmse: 5.011462323403314, cv adj r2: 0.9924810638901425\n",
      "   train size: 152, test size: 38\n",
      "4 cv index\" [  3   7   8  13  17  33  34  43  47  49  53  59  61  62  72  73  80  83\n",
      "  89  91  94 105 110 131 143 145 148 154 159 162 166 167 171 172 173 176\n",
      " 177 187]\n",
      " \n"
     ]
    },
    {
     "name": "stderr",
     "output_type": "stream",
     "text": [
      "C:\\Users\\kmlee\\Anaconda3\\lib\\site-packages\\ipykernel_launcher.py:27: DataConversionWarning: A column-vector y was passed when a 1d array was expected. Please change the shape of y to (n_samples,), for example using ravel().\n"
     ]
    },
    {
     "name": "stdout",
     "output_type": "stream",
     "text": [
      "5 cv rmse: 14.325589745169406, cv adj r2: 0.9161053559272285\n",
      "   train size: 152, test size: 38\n",
      "5 cv index\" [  1  14  20  21  37  48  50  52  54  57  58  63  71  74  87  88  92  99\n",
      " 102 103 106 107 116 121 129 130 134 149 151 157 158 160 174 179 183 186\n",
      " 188 189]\n",
      "average rmse:  7.496642411164279\n",
      "std rmse:  3.581309878067322\n",
      "average adj-r2:  0.9161053559272286\n",
      "std adj-r2:  1.1102230246251565e-16\n"
     ]
    }
   ],
   "source": [
    "\n",
    "from sklearn.model_selection import KFold\n",
    "from sklearn.metrics import accuracy_score, mean_squared_error\n",
    "\n",
    "kfold = KFold(n_splits=5, shuffle=True, random_state=42)\n",
    "cv_rmse, cv_adj_r2 = [], []\n",
    "\n",
    "print(\"dataset size: \", X.shape[0])\n",
    "\n",
    "n_iter = 0\n",
    "for train_index, test_index in kfold.split(X):\n",
    "    # train_test_split\n",
    "    print(' ')\n",
    "    X = np.array(X)\n",
    "    X_train_tmp, X_test_tmp = X[train_index], X[test_index]\n",
    "    ys_train_tmp, ys_test_tmp = ys[train_index], ys[test_index]\n",
    "    \n",
    "    # standardization\n",
    "    X_train_tmp_std = data_pipeline.fit_transform(X_train_tmp)\n",
    "    X_test_tmp_std = data_pipeline.fit_transform(X_test_tmp)\n",
    "    ys_train_tmp = np.array(ys_train_tmp)\n",
    "    ys_train_tmp = ys_train_tmp.reshape(-1,1)\n",
    "    ys_test_tmp = np.array(ys_test_tmp)\n",
    "    ys_test_tmp = ys_test_tmp.reshape(-1,1)\n",
    "    ys_train_tmp_std, ys_test_tmp_std = data_pipeline.fit_transform(ys_train_tmp), data_pipeline.fit_transform(ys_test_tmp)\n",
    "        \n",
    "    # prediction\n",
    "    ys_rf_final_model.fit(X_train_tmp_std, ys_train_tmp_std)\n",
    "    ys_pred_tmp = ys_rf_final_model.predict(X_test_tmp_std) * np.std(ys_train_tmp) + np.mean(ys_train_tmp)\n",
    "    n_iter += 1\n",
    "\n",
    "    # r2_adj, rmse\n",
    "    rf_r2_adj_tmp = r2_adj_score(y_pred=ys_pred_tmp, y_true=ys_test_tmp, X=X_train_tmp)   \n",
    "    ys_mse_tmp = mean_squared_error(ys_test_tmp,ys_pred_tmp)\n",
    "    ys_rmse_tmp = np.sqrt(ys_mse_tmp)\n",
    "    train_size = X_train_tmp.shape[0]\n",
    "    test_size = X_test_tmp.shape[0]\n",
    "    print('{} cv rmse: {}, cv adj r2: {}'.format(n_iter, ys_rmse_tmp, rf_r2_adj_tmp))\n",
    "    print('   train size: {}, test size: {}'.format(train_size, test_size))\n",
    "    print('{} cv index\" {}'.format(n_iter, test_index))\n",
    "    cv_rmse.append(ys_rmse_tmp)\n",
    "    cv_adj_r2.append(rbfSVR_r2_adj_tmp)\n",
    "    \n",
    "print('average rmse: ', np.mean(cv_rmse))\n",
    "print('std rmse: ', np.std(cv_rmse))\n",
    "print('average adj-r2: ', np.mean(cv_adj_r2))\n",
    "print('std adj-r2: ', np.std(cv_adj_r2))"
   ]
  },
  {
   "cell_type": "markdown",
   "metadata": {
    "colab_type": "text",
    "id": "Ks4BW1Owlc-R"
   },
   "source": [
    "## Plot diagram for r-value"
   ]
  },
  {
   "cell_type": "code",
   "execution_count": 18,
   "metadata": {
    "colab": {
     "base_uri": "https://localhost:8080/",
     "height": 315
    },
    "colab_type": "code",
    "executionInfo": {
     "elapsed": 1531,
     "status": "ok",
     "timestamp": 1580941917877,
     "user": {
      "displayName": "이경민학부생",
      "photoUrl": "",
      "userId": "01346787625936847475"
     },
     "user_tz": -540
    },
    "id": "tG5KCl3zlc-S",
    "outputId": "5db52e0a-beff-4a80-a3f1-bfd5e974a9c0"
   },
   "outputs": [
    {
     "name": "stdout",
     "output_type": "stream",
     "text": [
      "Saving figure RF_Prediction_ys\n"
     ]
    },
    {
     "data": {
      "image/png": "[encoded data removed]",
      "text/plain": [
       "<Figure size 432x288 with 1 Axes>"
      ]
     },
     "metadata": {
      "needs_background": "light"
     },
     "output_type": "display_data"
    }
   ],
   "source": [
    "plt.figure\n",
    "x=np.linspace(150,450,len(ys_test))\n",
    "plt.plot(x,x,c='k')\n",
    "plt.scatter(ys_train, ys_rf_train_predictions, c='b',label='train predictions')\n",
    "plt.scatter(ys_test, ys_rf_test_predictions, c='r', label='test predictions')\n",
    "plt.grid()\n",
    "plt.legend()\n",
    "plt.title(\"RF\", fontsize=20)\n",
    "plt.xlabel(\"True Data\")\n",
    "plt.ylabel(\"Predictions\")\n",
    "save_fig(\"RF_Prediction_ys\")"
   ]
  },
  {
   "cell_type": "markdown",
   "metadata": {
    "colab_type": "text",
    "id": "yYkWICYY99YJ"
   },
   "source": [
    "## Central Limit Theorem"
   ]
  },
  {
   "cell_type": "code",
   "execution_count": 0,
   "metadata": {
    "colab": {
     "base_uri": "https://localhost:8080/",
     "height": 53
    },
    "colab_type": "code",
    "executionInfo": {
     "elapsed": 1064,
     "status": "ok",
     "timestamp": 1580910407027,
     "user": {
      "displayName": "이경민학부생",
      "photoUrl": "",
      "userId": "01346787625936847475"
     },
     "user_tz": -540
    },
    "id": "QuQLSFKkhUu4",
    "outputId": "61f3d4a0-2847-4097-b3cd-53aaa7846a97"
   },
   "outputs": [
    {
     "name": "stdout",
     "output_type": "stream",
     "text": [
      "(1,)\n",
      "Combinations\n"
     ]
    }
   ],
   "source": [
    "print(cvres['mean_train_score'].shape)\n",
    "print('Combinations')"
   ]
  },
  {
   "cell_type": "code",
   "execution_count": 0,
   "metadata": {
    "colab": {
     "base_uri": "https://localhost:8080/",
     "height": 35
    },
    "colab_type": "code",
    "executionInfo": {
     "elapsed": 569,
     "status": "ok",
     "timestamp": 1580910407415,
     "user": {
      "displayName": "이경민학부생",
      "photoUrl": "",
      "userId": "01346787625936847475"
     },
     "user_tz": -540
    },
    "id": "QKQ-8cLg-FjT",
    "outputId": "a5163111-fb01-40a0-e51e-95b995dce77e"
   },
   "outputs": [
    {
     "name": "stdout",
     "output_type": "stream",
     "text": [
      "[-0.00422803]\n"
     ]
    }
   ],
   "source": [
    "mean_test_score =cvres['mean_test_score']\n",
    "print(mean_test_score)"
   ]
  },
  {
   "cell_type": "code",
   "execution_count": 0,
   "metadata": {
    "colab": {
     "base_uri": "https://localhost:8080/",
     "height": 35
    },
    "colab_type": "code",
    "executionInfo": {
     "elapsed": 664,
     "status": "ok",
     "timestamp": 1580910407936,
     "user": {
      "displayName": "이경민학부생",
      "photoUrl": "",
      "userId": "01346787625936847475"
     },
     "user_tz": -540
    },
    "id": "EvnyMrN5-F9e",
    "outputId": "97c56c81-df0b-4dc5-f238-5a9cc28b2f15"
   },
   "outputs": [
    {
     "name": "stdout",
     "output_type": "stream",
     "text": [
      "[-0.00057837]\n"
     ]
    }
   ],
   "source": [
    "mean_train_score =cvres['mean_train_score']\n",
    "print(mean_train_score)"
   ]
  },
  {
   "cell_type": "code",
   "execution_count": 0,
   "metadata": {
    "colab": {
     "base_uri": "https://localhost:8080/",
     "height": 35
    },
    "colab_type": "code",
    "executionInfo": {
     "elapsed": 1744,
     "status": "ok",
     "timestamp": 1580910409307,
     "user": {
      "displayName": "이경민학부생",
      "photoUrl": "",
      "userId": "01346787625936847475"
     },
     "user_tz": -540
    },
    "id": "nlBuXcd6-F62",
    "outputId": "493302f1-d2f3-4deb-cf3c-8aa937a1dfc6"
   },
   "outputs": [
    {
     "name": "stdout",
     "output_type": "stream",
     "text": [
      "[0.0009599]\n"
     ]
    }
   ],
   "source": [
    "std_test_score =cvres['std_test_score']\n",
    "print(std_test_score)"
   ]
  },
  {
   "cell_type": "code",
   "execution_count": 0,
   "metadata": {
    "colab": {
     "base_uri": "https://localhost:8080/",
     "height": 35
    },
    "colab_type": "code",
    "executionInfo": {
     "elapsed": 1466,
     "status": "ok",
     "timestamp": 1580910409308,
     "user": {
      "displayName": "이경민학부생",
      "photoUrl": "",
      "userId": "01346787625936847475"
     },
     "user_tz": -540
    },
    "id": "IKGuuuF--Ff_",
    "outputId": "e06a2beb-30ce-4639-9905-5a78c33829bc"
   },
   "outputs": [
    {
     "name": "stdout",
     "output_type": "stream",
     "text": [
      "[0.0009599]\n"
     ]
    }
   ],
   "source": [
    "std_train_score =cvres['std_train_score']\n",
    "print(std_test_score)"
   ]
  },
  {
   "cell_type": "code",
   "execution_count": 0,
   "metadata": {
    "colab": {
     "base_uri": "https://localhost:8080/",
     "height": 35
    },
    "colab_type": "code",
    "executionInfo": {
     "elapsed": 4685,
     "status": "ok",
     "timestamp": 1580910412849,
     "user": {
      "displayName": "이경민학부생",
      "photoUrl": "",
      "userId": "01346787625936847475"
     },
     "user_tz": -540
    },
    "id": "vgqxc1LGAXe0",
    "outputId": "875be33e-468e-4d6a-d926-39adcc34a86e"
   },
   "outputs": [
    {
     "name": "stdout",
     "output_type": "stream",
     "text": [
      "ls: cannot access '/content/gdrive': No such file or directory\n"
     ]
    }
   ],
   "source": [
    "  !ls /content/gdrive"
   ]
  },
  {
   "cell_type": "code",
   "execution_count": 0,
   "metadata": {
    "colab": {
     "base_uri": "https://localhost:8080/",
     "height": 264
    },
    "colab_type": "code",
    "executionInfo": {
     "elapsed": 4462,
     "status": "error",
     "timestamp": 1580910412853,
     "user": {
      "displayName": "이경민학부생",
      "photoUrl": "",
      "userId": "01346787625936847475"
     },
     "user_tz": -540
    },
    "id": "ths82rz4hUvD",
    "outputId": "ed21a501-ad97-471d-f32f-2c8ec3466df9"
   },
   "outputs": [
    {
     "ename": "FileNotFoundError",
     "evalue": "ignored",
     "output_type": "error",
     "traceback": [
      "\u001b[0;31m---------------------------------------------------------------------------\u001b[0m",
      "\u001b[0;31mFileNotFoundError\u001b[0m                         Traceback (most recent call last)",
      "\u001b[0;32m<ipython-input-62-35f515e3979f>\u001b[0m in \u001b[0;36m<module>\u001b[0;34m()\u001b[0m\n\u001b[0;32m----> 1\u001b[0;31m \u001b[0;32mwith\u001b[0m \u001b[0mopen\u001b[0m\u001b[0;34m(\u001b[0m\u001b[0;34m'/content/gdrive/My Drive/validation/cvscores/Random_Forest/yield_stress/RF_6V.txt'\u001b[0m\u001b[0;34m,\u001b[0m \u001b[0;34m'w'\u001b[0m\u001b[0;34m)\u001b[0m \u001b[0;32mas\u001b[0m \u001b[0mf\u001b[0m\u001b[0;34m:\u001b[0m\u001b[0;34m\u001b[0m\u001b[0;34m\u001b[0m\u001b[0m\n\u001b[0m\u001b[1;32m      2\u001b[0m   \u001b[0;32mfor\u001b[0m \u001b[0mkey\u001b[0m \u001b[0;32min\u001b[0m \u001b[0mcvres\u001b[0m\u001b[0;34m.\u001b[0m\u001b[0mkeys\u001b[0m\u001b[0;34m(\u001b[0m\u001b[0;34m)\u001b[0m\u001b[0;34m:\u001b[0m\u001b[0;34m\u001b[0m\u001b[0;34m\u001b[0m\u001b[0m\n\u001b[1;32m      3\u001b[0m     \u001b[0mf\u001b[0m\u001b[0;34m.\u001b[0m\u001b[0mwrite\u001b[0m\u001b[0;34m(\u001b[0m\u001b[0;34m\"\\n\"\u001b[0m\u001b[0;34m)\u001b[0m\u001b[0;34m\u001b[0m\u001b[0;34m\u001b[0m\u001b[0m\n\u001b[1;32m      4\u001b[0m     \u001b[0mf\u001b[0m\u001b[0;34m.\u001b[0m\u001b[0mwrite\u001b[0m\u001b[0;34m(\u001b[0m\u001b[0mkey\u001b[0m\u001b[0;34m)\u001b[0m\u001b[0;34m\u001b[0m\u001b[0;34m\u001b[0m\u001b[0m\n\u001b[1;32m      5\u001b[0m     \u001b[0mf\u001b[0m\u001b[0;34m.\u001b[0m\u001b[0mwrite\u001b[0m\u001b[0;34m(\u001b[0m\u001b[0;34m\": \"\u001b[0m\u001b[0;34m)\u001b[0m\u001b[0;34m\u001b[0m\u001b[0;34m\u001b[0m\u001b[0m\n",
      "\u001b[0;31mFileNotFoundError\u001b[0m: [Errno 2] No such file or directory: '/content/gdrive/My Drive/validation/cvscores/Random_Forest/yield_stress/RF_6V.txt'"
     ]
    }
   ],
   "source": [
    "with open('/content/gdrive/My Drive/validation/cvscores/Random_Forest/yield_stress/RF_6V.txt', 'w') as f:\n",
    "  for key in cvres.keys():\n",
    "    f.write(\"\\n\")\n",
    "    f.write(key)\n",
    "    f.write(\": \")\n",
    "    f.write(np.str(cvres[key]))\n",
    "    f.write(\"\\n\")\n",
    "\n",
    "\n",
    "!cat /content/gdrive/My\\ Drive/validation/cvscores/Random_Forest/yield_stress/RF_2V.txt\n"
   ]
  },
  {
   "cell_type": "markdown",
   "metadata": {
    "colab_type": "text",
    "id": "jUEstmZ29j6U"
   },
   "source": [
    "Train data plotting\n",
    "---"
   ]
  },
  {
   "cell_type": "code",
   "execution_count": 31,
   "metadata": {
    "colab": {
     "base_uri": "https://localhost:8080/",
     "height": 315
    },
    "colab_type": "code",
    "executionInfo": {
     "elapsed": 1940,
     "status": "ok",
     "timestamp": 1580910445413,
     "user": {
      "displayName": "이경민학부생",
      "photoUrl": "",
      "userId": "01346787625936847475"
     },
     "user_tz": -540
    },
    "id": "jw1b0aAx9j6W",
    "outputId": "064c4102-02a7-435d-f040-ff6c3e3a9f7f"
   },
   "outputs": [
    {
     "name": "stdout",
     "output_type": "stream",
     "text": [
      "Saving figure TrainPrediction_with_6V_RF_ParamFitted\n"
     ]
    },
    {
     "data": {
      "image/png": "[encoded data removed]",
      "text/plain": [
       "<Figure size 432x288 with 1 Axes>"
      ]
     },
     "metadata": {
      "needs_background": "light"
     },
     "output_type": "display_data"
    }
   ],
   "source": [
    "# Difference of train data\n",
    "xx = np.linspace(0,len(X_train),len(X_train))\n",
    "plt.figure\n",
    "plt.grid()\n",
    "plt.plot(xx,ys_train,\"b-\", xx, ys_rf_train_predictions,\"r--\")\n",
    "plt.title(\"Train data vs Train Prediction(RF) Param Fitted\")\n",
    "plt.xlabel(\"Order of data\")\n",
    "plt.ylabel(\"Yield Stress\")\n",
    "save_fig(\"TrainPrediction_with_6V_RF_ParamFitted\")"
   ]
  },
  {
   "cell_type": "code",
   "execution_count": 32,
   "metadata": {
    "colab": {
     "base_uri": "https://localhost:8080/",
     "height": 315
    },
    "colab_type": "code",
    "executionInfo": {
     "elapsed": 3216,
     "status": "ok",
     "timestamp": 1580910456569,
     "user": {
      "displayName": "이경민학부생",
      "photoUrl": "",
      "userId": "01346787625936847475"
     },
     "user_tz": -540
    },
    "id": "tM1vpdxi9j6X",
    "outputId": "4aa15e23-09de-49d9-a822-2030a794da53"
   },
   "outputs": [
    {
     "name": "stdout",
     "output_type": "stream",
     "text": [
      "Saving figure Difference_between_Train_data_vs_Prediction_6V_RF_ParamFitted\n"
     ]
    },
    {
     "data": {
      "image/png": "[encoded data removed]",
      "text/plain": [
       "<Figure size 432x288 with 1 Axes>"
      ]
     },
     "metadata": {
      "needs_background": "light"
     },
     "output_type": "display_data"
    }
   ],
   "source": [
    "# Difference of train data\n",
    "difference = ys_train - ys_rf_train_predictions\n",
    "\n",
    "xx = np.linspace(0,len(difference),len(difference))\n",
    "y = np.zeros((len(difference),1))\n",
    "#y.reshape(1,len(difference))\n",
    "plt.figure\n",
    "plt.grid()\n",
    "plt.plot(xx,y,\"b-\", xx, difference,\"r--\")\n",
    "plt.title(\"Difference between Train data vs Prediction(RF) Param Fitted\")\n",
    "#plt.ylim(-30, 30)\n",
    "plt.xlabel(\"Order of data\")\n",
    "plt.ylabel(\"Yield Stress\")\n",
    "\n",
    "save_fig(\"Difference_between_Train_data_vs_Prediction_6V_RF_ParamFitted\")\n"
   ]
  },
  {
   "cell_type": "markdown",
   "metadata": {
    "colab_type": "text",
    "id": "IEXf5tmb9j6Y"
   },
   "source": [
    "Test data plotting\n",
    "---"
   ]
  },
  {
   "cell_type": "code",
   "execution_count": 33,
   "metadata": {
    "colab": {
     "base_uri": "https://localhost:8080/",
     "height": 315
    },
    "colab_type": "code",
    "executionInfo": {
     "elapsed": 2351,
     "status": "ok",
     "timestamp": 1580910474932,
     "user": {
      "displayName": "이경민학부생",
      "photoUrl": "",
      "userId": "01346787625936847475"
     },
     "user_tz": -540
    },
    "id": "iYgqEaH69j6Z",
    "outputId": "1434cd3b-b36d-4fd7-a665-753cc90f6ce5"
   },
   "outputs": [
    {
     "name": "stdout",
     "output_type": "stream",
     "text": [
      "Saving figure TestPrediction_with_6V_RF_ParamFitted\n"
     ]
    },
    {
     "data": {
      "image/png": "[encoded data removed]",
      "text/plain": [
       "<Figure size 432x288 with 1 Axes>"
      ]
     },
     "metadata": {
      "needs_background": "light"
     },
     "output_type": "display_data"
    }
   ],
   "source": [
    "# Difference of train data\n",
    "xx = np.linspace(0,len(X_test),len(X_test))\n",
    "plt.figure\n",
    "plt.grid()\n",
    "plt.plot(xx,ys_test,\"b-\", xx, ys_rf_test_predictions,\"r--\")\n",
    "plt.title(\"Test data vs Test Prediction(RF) Param Fitted\")\n",
    "plt.xlabel(\"Order of data\")\n",
    "plt.ylabel(\"Yield Stress\")\n",
    "save_fig(\"TestPrediction_with_6V_RF_ParamFitted\")"
   ]
  },
  {
   "cell_type": "code",
   "execution_count": 34,
   "metadata": {
    "colab": {
     "base_uri": "https://localhost:8080/",
     "height": 35
    },
    "colab_type": "code",
    "executionInfo": {
     "elapsed": 1082,
     "status": "ok",
     "timestamp": 1580910533861,
     "user": {
      "displayName": "이경민학부생",
      "photoUrl": "",
      "userId": "01346787625936847475"
     },
     "user_tz": -540
    },
    "id": "dWcltJU2nAsk",
    "outputId": "c57119a2-1f00-44c9-e6b5-9c0ef6955a44"
   },
   "outputs": [
    {
     "data": {
      "text/plain": [
       "(38,)"
      ]
     },
     "execution_count": 34,
     "metadata": {},
     "output_type": "execute_result"
    }
   ],
   "source": [
    "ys_rf_test_predictions.shape"
   ]
  },
  {
   "cell_type": "code",
   "execution_count": 35,
   "metadata": {
    "colab": {
     "base_uri": "https://localhost:8080/",
     "height": 394
    },
    "colab_type": "code",
    "executionInfo": {
     "elapsed": 1096,
     "status": "error",
     "timestamp": 1580910506118,
     "user": {
      "displayName": "이경민학부생",
      "photoUrl": "",
      "userId": "01346787625936847475"
     },
     "user_tz": -540
    },
    "id": "Fqbd8gVg9j6b",
    "outputId": "c638b326-5149-4bc5-b512-1eea6aeb84c3"
   },
   "outputs": [
    {
     "name": "stdout",
     "output_type": "stream",
     "text": [
      "Saving figure Difference_between_Test_data_vs_Prediction_6V_RF_ParamFitted\n"
     ]
    },
    {
     "data": {
      "image/png": "[encoded data removed]",
      "text/plain": [
       "<Figure size 432x288 with 1 Axes>"
      ]
     },
     "metadata": {
      "needs_background": "light"
     },
     "output_type": "display_data"
    }
   ],
   "source": [
    "# Difference of train data\n",
    "difference = ys_test - ys_rf_test_predictions\n",
    "\n",
    "xx = np.linspace(0,len(difference),len(difference))\n",
    "y = np.zeros((len(difference),1))\n",
    "#y.reshape(1,len(difference))\n",
    "plt.figure\n",
    "plt.grid()\n",
    "plt.plot(xx,y,\"b-\", xx, difference,\"r--\")\n",
    "plt.title(\"Difference between Test data vs Prediction(RF) Param Fitted\")\n",
    "#plt.ylim(-30, 30)\n",
    "plt.xlabel(\"Order of data\")\n",
    "plt.ylabel(\"Yield Stress\")\n",
    "\n",
    "save_fig(\"Difference_between_Test_data_vs_Prediction_6V_RF_ParamFitted\")\n"
   ]
  },
  {
   "cell_type": "markdown",
   "metadata": {
    "colab_type": "text",
    "id": "Up54MlORhUvN"
   },
   "source": [
    "## Extracting files"
   ]
  },
  {
   "cell_type": "code",
   "execution_count": 0,
   "metadata": {
    "colab": {
     "base_uri": "https://localhost:8080/",
     "height": 89
    },
    "colab_type": "code",
    "executionInfo": {
     "elapsed": 6566,
     "status": "ok",
     "timestamp": 1580910582256,
     "user": {
      "displayName": "이경민학부생",
      "photoUrl": "",
      "userId": "01346787625936847475"
     },
     "user_tz": -540
    },
    "id": "O2X7bEg_kc6k",
    "outputId": "14325476-4e79-4d3c-8934-7f792f3aee15"
   },
   "outputs": [
    {
     "name": "stdout",
     "output_type": "stream",
     "text": [
      "Difference_between_Train_data_vs_Prediction_6V_RF_ParamFitted.png\n",
      "RF_Prediction_ys.png\n",
      "TestPrediction_with_6V_RF_ParamFitted.png\n",
      "TrainPrediction_with_6V_RF_ParamFitted.png\n"
     ]
    }
   ],
   "source": [
    "!ls images/BestHyperParameter/RF_Regression/yield_stress_6V/\n"
   ]
  },
  {
   "cell_type": "code",
   "execution_count": 31,
   "metadata": {
    "colab": {
     "base_uri": "https://localhost:8080/",
     "height": 354
    },
    "colab_type": "code",
    "executionInfo": {
     "elapsed": 1197,
     "status": "error",
     "timestamp": 1580941930341,
     "user": {
      "displayName": "이경민학부생",
      "photoUrl": "",
      "userId": "01346787625936847475"
     },
     "user_tz": -540
    },
    "id": "gRBjaYNThUvN",
    "outputId": "a6017895-1622-43ea-bcc6-1a38384fe6eb"
   },
   "outputs": [
    {
     "ename": "FileNotFoundError",
     "evalue": "ignored",
     "output_type": "error",
     "traceback": [
      "\u001b[0;31m---------------------------------------------------------------------------\u001b[0m",
      "\u001b[0;31mFileNotFoundError\u001b[0m                         Traceback (most recent call last)",
      "\u001b[0;32m<ipython-input-31-571337f37ee3>\u001b[0m in \u001b[0;36m<module>\u001b[0;34m()\u001b[0m\n\u001b[1;32m      3\u001b[0m \u001b[0;31m#uploaded = files.upload()\u001b[0m\u001b[0;34m\u001b[0m\u001b[0;34m\u001b[0m\u001b[0;34m\u001b[0m\u001b[0m\n\u001b[1;32m      4\u001b[0m \u001b[0;31m# Download Colab VM files to local\u001b[0m\u001b[0;34m\u001b[0m\u001b[0;34m\u001b[0m\u001b[0;34m\u001b[0m\u001b[0m\n\u001b[0;32m----> 5\u001b[0;31m \u001b[0mfiles\u001b[0m\u001b[0;34m.\u001b[0m\u001b[0mdownload\u001b[0m\u001b[0;34m(\u001b[0m\u001b[0;34m'images/BestHyperParameter/RF_Regression/yield_stress_6V/TrainPrediction_with_6V_RF_ParamFitted.png'\u001b[0m\u001b[0;34m)\u001b[0m\u001b[0;34m\u001b[0m\u001b[0;34m\u001b[0m\u001b[0m\n\u001b[0m",
      "\u001b[0;32m/usr/local/lib/python3.6/dist-packages/google/colab/files.py\u001b[0m in \u001b[0;36mdownload\u001b[0;34m(filename)\u001b[0m\n\u001b[1;32m    142\u001b[0m       \u001b[0;32mraise\u001b[0m \u001b[0mOSError\u001b[0m\u001b[0;34m(\u001b[0m\u001b[0mmsg\u001b[0m\u001b[0;34m)\u001b[0m\u001b[0;34m\u001b[0m\u001b[0;34m\u001b[0m\u001b[0m\n\u001b[1;32m    143\u001b[0m     \u001b[0;32melse\u001b[0m\u001b[0;34m:\u001b[0m\u001b[0;34m\u001b[0m\u001b[0;34m\u001b[0m\u001b[0m\n\u001b[0;32m--> 144\u001b[0;31m       \u001b[0;32mraise\u001b[0m \u001b[0mFileNotFoundError\u001b[0m\u001b[0;34m(\u001b[0m\u001b[0mmsg\u001b[0m\u001b[0;34m)\u001b[0m  \u001b[0;31m# pylint: disable=undefined-variable\u001b[0m\u001b[0;34m\u001b[0m\u001b[0;34m\u001b[0m\u001b[0m\n\u001b[0m\u001b[1;32m    145\u001b[0m \u001b[0;34m\u001b[0m\u001b[0m\n\u001b[1;32m    146\u001b[0m   \u001b[0mstarted\u001b[0m \u001b[0;34m=\u001b[0m \u001b[0m_threading\u001b[0m\u001b[0;34m.\u001b[0m\u001b[0mEvent\u001b[0m\u001b[0;34m(\u001b[0m\u001b[0;34m)\u001b[0m\u001b[0;34m\u001b[0m\u001b[0;34m\u001b[0m\u001b[0m\n",
      "\u001b[0;31mFileNotFoundError\u001b[0m: Cannot find file: images/BestHyperParameter/RF_Regression/yield_stress_6V/TrainPrediction_with_6V_RF_ParamFitted.png"
     ]
    }
   ],
   "source": [
    "from google.colab import files\n",
    "# Upload local files to Colab VM\n",
    "#uploaded = files.upload()\n",
    "# Download Colab VM files to local\n",
    "files.download('images/BestHyperParameter/RF_Regression/yield_stress_6V/TrainPrediction_with_6V_RF_ParamFitted.png')\n"
   ]
  },
  {
   "cell_type": "code",
   "execution_count": 0,
   "metadata": {
    "colab": {},
    "colab_type": "code",
    "id": "jMHlGd0IhUvO"
   },
   "outputs": [],
   "source": [
    "files.download('images/BestHyperParameter/RF_Regression/yield_stress_6V/TestPrediction_with_6V_RF_ParamFitted.png')"
   ]
  },
  {
   "cell_type": "code",
   "execution_count": 0,
   "metadata": {
    "colab": {},
    "colab_type": "code",
    "id": "mCIbXpDwhUvQ"
   },
   "outputs": [],
   "source": [
    "files.download('images/BestHyperParameter/RF_Regression/yield_stress_6V/Difference_between_Train_data_vs_Prediction_6V_RF_ParamFitted.png')"
   ]
  },
  {
   "cell_type": "code",
   "execution_count": 0,
   "metadata": {
    "colab": {
     "base_uri": "https://localhost:8080/",
     "height": 318
    },
    "colab_type": "code",
    "executionInfo": {
     "elapsed": 14985,
     "status": "error",
     "timestamp": 1580910592209,
     "user": {
      "displayName": "이경민학부생",
      "photoUrl": "",
      "userId": "01346787625936847475"
     },
     "user_tz": -540
    },
    "id": "vBgJZY0QhUvR",
    "outputId": "d34ad601-a031-46f2-c39c-cc743a175791"
   },
   "outputs": [
    {
     "ename": "FileNotFoundError",
     "evalue": "ignored",
     "output_type": "error",
     "traceback": [
      "\u001b[0;31m---------------------------------------------------------------------------\u001b[0m",
      "\u001b[0;31mFileNotFoundError\u001b[0m                         Traceback (most recent call last)",
      "\u001b[0;32m<ipython-input-78-91ac23099df7>\u001b[0m in \u001b[0;36m<module>\u001b[0;34m()\u001b[0m\n\u001b[0;32m----> 1\u001b[0;31m \u001b[0mfiles\u001b[0m\u001b[0;34m.\u001b[0m\u001b[0mdownload\u001b[0m\u001b[0;34m(\u001b[0m\u001b[0;34m'images/BestHyperParameter/RF_Regression/yield_stress_6V/Difference_between_Test_data_vs_Prediction_6V_RF_ParamFitted.png'\u001b[0m\u001b[0;34m)\u001b[0m\u001b[0;34m\u001b[0m\u001b[0;34m\u001b[0m\u001b[0m\n\u001b[0m",
      "\u001b[0;32m/usr/local/lib/python3.6/dist-packages/google/colab/files.py\u001b[0m in \u001b[0;36mdownload\u001b[0;34m(filename)\u001b[0m\n\u001b[1;32m    142\u001b[0m       \u001b[0;32mraise\u001b[0m \u001b[0mOSError\u001b[0m\u001b[0;34m(\u001b[0m\u001b[0mmsg\u001b[0m\u001b[0;34m)\u001b[0m\u001b[0;34m\u001b[0m\u001b[0;34m\u001b[0m\u001b[0m\n\u001b[1;32m    143\u001b[0m     \u001b[0;32melse\u001b[0m\u001b[0;34m:\u001b[0m\u001b[0;34m\u001b[0m\u001b[0;34m\u001b[0m\u001b[0m\n\u001b[0;32m--> 144\u001b[0;31m       \u001b[0;32mraise\u001b[0m \u001b[0mFileNotFoundError\u001b[0m\u001b[0;34m(\u001b[0m\u001b[0mmsg\u001b[0m\u001b[0;34m)\u001b[0m  \u001b[0;31m# pylint: disable=undefined-variable\u001b[0m\u001b[0;34m\u001b[0m\u001b[0;34m\u001b[0m\u001b[0m\n\u001b[0m\u001b[1;32m    145\u001b[0m \u001b[0;34m\u001b[0m\u001b[0m\n\u001b[1;32m    146\u001b[0m   \u001b[0mstarted\u001b[0m \u001b[0;34m=\u001b[0m \u001b[0m_threading\u001b[0m\u001b[0;34m.\u001b[0m\u001b[0mEvent\u001b[0m\u001b[0;34m(\u001b[0m\u001b[0;34m)\u001b[0m\u001b[0;34m\u001b[0m\u001b[0;34m\u001b[0m\u001b[0m\n",
      "\u001b[0;31mFileNotFoundError\u001b[0m: Cannot find file: images/BestHyperParameter/RF_Regression/yield_stress_6V/Difference_between_Test_data_vs_Prediction_6V_RF_ParamFitted.png"
     ]
    }
   ],
   "source": [
    "files.download('images/BestHyperParameter/RF_Regression/yield_stress_6V/Difference_between_Test_data_vs_Prediction_6V_RF_ParamFitted.png')"
   ]
  },
  {
   "cell_type": "code",
   "execution_count": 0,
   "metadata": {
    "colab": {},
    "colab_type": "code",
    "id": "xwJa8upknJVk"
   },
   "outputs": [],
   "source": [
    "files.download('images/BestHyperParameter/RF_Regression/yield_stress_6V/RF_Prediction_ys.png')"
   ]
  },
  {
   "cell_type": "code",
   "execution_count": 0,
   "metadata": {
    "colab": {},
    "colab_type": "code",
    "id": "ZUgI4M9FhUvT"
   },
   "outputs": [],
   "source": [
    "files.download('/content/gdrive/My Drive/validation/cvscores/Random_Forest/yield_stress/RF_6V.txt')"
   ]
  },
  {
   "cell_type": "markdown",
   "metadata": {
    "colab_type": "text",
    "id": "ukihYzYQ9j6d"
   },
   "source": [
    "## elongation"
   ]
  },
  {
   "cell_type": "code",
   "execution_count": 32,
   "metadata": {
    "colab": {},
    "colab_type": "code",
    "id": "NFjmKeZ99j56"
   },
   "outputs": [],
   "source": [
    "# Where to save the figures\n",
    "PROJECT_ROOT_DIR = \".\"\n",
    "CHAPTER_ID = \"BestHyperParameter/RF_Regression/elongation_6V\"\n",
    "IMAGES_PATH = os.path.join(PROJECT_ROOT_DIR, \"images\", CHAPTER_ID)\n",
    "os.makedirs(IMAGES_PATH, exist_ok=True)"
   ]
  },
  {
   "cell_type": "code",
   "execution_count": 25,
   "metadata": {
    "colab": {
     "base_uri": "https://localhost:8080/",
     "height": 91
    },
    "colab_type": "code",
    "executionInfo": {
     "elapsed": 826,
     "status": "ok",
     "timestamp": 1580941961586,
     "user": {
      "displayName": "이경민학부생",
      "photoUrl": "",
      "userId": "01346787625936847475"
     },
     "user_tz": -540
    },
    "id": "6xx4VuwHlc-6",
    "outputId": "ab72b96f-746b-4329-9edf-2a4d48404b2a"
   },
   "outputs": [
    {
     "name": "stderr",
     "output_type": "stream",
     "text": [
      "C:\\Users\\kmlee\\Anaconda3\\lib\\site-packages\\ipykernel_launcher.py:6: DataConversionWarning: A column-vector y was passed when a 1d array was expected. Please change the shape of y to (n_samples,), for example using ravel().\n",
      "  \n"
     ]
    },
    {
     "data": {
      "text/plain": [
       "0.3036390893651342"
      ]
     },
     "execution_count": 25,
     "metadata": {},
     "output_type": "execute_result"
    }
   ],
   "source": [
    "# Normal Random Forest\n",
    "\n",
    "from sklearn.ensemble import RandomForestRegressor\n",
    "from sklearn.metrics import mean_squared_error\n",
    "rf_reg = RandomForestRegressor(random_state=42)\n",
    "rf_reg.fit(X_train_std, el_train_std)\n",
    "el_predictions_rf= rf_reg.predict(X_train_std) * np.std(el_train) + np.mean(el_train)\n",
    "rf_mse = mean_squared_error(el_train, el_predictions_rf)\n",
    "rf_rmse = np.sqrt(rf_mse)\n",
    "rf_rmse\n"
   ]
  },
  {
   "cell_type": "markdown",
   "metadata": {
    "colab_type": "text",
    "id": "L-jEMVlSlc-9"
   },
   "source": [
    "Hyper Parameters Tuning: GridSearch CV function\n",
    "---"
   ]
  },
  {
   "cell_type": "markdown",
   "metadata": {
    "colab_type": "text",
    "id": "wSVyrrGnlc--"
   },
   "source": [
    "GridSearchCV implements a “fit” and a “score” method. It also implements “predict”, “predict_proba”, “decision_function”, “transform” and “inverse_transform” if they are implemented in the estimator used.\n",
    "\n",
    "The parameters of the estimator used to apply these methods are optimized by cross-validated grid-search over a parameter grid."
   ]
  },
  {
   "cell_type": "code",
   "execution_count": 39,
   "metadata": {
    "colab": {
     "base_uri": "https://localhost:8080/",
     "height": 35
    },
    "colab_type": "code",
    "executionInfo": {
     "elapsed": 1737,
     "status": "ok",
     "timestamp": 1580941968770,
     "user": {
      "displayName": "이경민학부생",
      "photoUrl": "",
      "userId": "01346787625936847475"
     },
     "user_tz": -540
    },
    "id": "cdMaL8Cxlc-_",
    "outputId": "962caddc-5e38-4fb7-ddee-dc2c27cf658d"
   },
   "outputs": [
    {
     "name": "stdout",
     "output_type": "stream",
     "text": [
      "[1e-10, 1e-07, 1e-05, 0.001, 0.1, 1]\n"
     ]
    }
   ],
   "source": [
    "range_2 = [-10, -7,-5, -3, -1, 0]\n",
    "for i in range(len(range_2)):\n",
    "    range_2[i] = 10 ** range_2[i]\n",
    "    \n",
    "print(range_2)"
   ]
  },
  {
   "cell_type": "code",
   "execution_count": 40,
   "metadata": {
    "colab": {},
    "colab_type": "code",
    "id": "V7MqYQ2Wlc_A"
   },
   "outputs": [],
   "source": [
    "range_2 = [0.835]"
   ]
  },
  {
   "cell_type": "code",
   "execution_count": 41,
   "metadata": {
    "colab": {
     "base_uri": "https://localhost:8080/",
     "height": 35
    },
    "colab_type": "code",
    "executionInfo": {
     "elapsed": 1127,
     "status": "ok",
     "timestamp": 1580941968773,
     "user": {
      "displayName": "이경민학부생",
      "photoUrl": "",
      "userId": "01346787625936847475"
     },
     "user_tz": -540
    },
    "id": "1CGCHkxQlc_B",
    "outputId": "ba272a20-6152-4c55-e0e2-b273ddbeb886"
   },
   "outputs": [
    {
     "name": "stdout",
     "output_type": "stream",
     "text": [
      "[10, 100, 1000, 10000, 100000]\n"
     ]
    }
   ],
   "source": [
    "range_1 = [1,2,3,4,5]\n",
    "for i in range(len(range_1)):\n",
    "    range_1[i] = 10 ** range_1[i]\n",
    "    \n",
    "print(range_1)"
   ]
  },
  {
   "cell_type": "code",
   "execution_count": 42,
   "metadata": {
    "colab": {},
    "colab_type": "code",
    "id": "nLPnzx1zlc_D"
   },
   "outputs": [],
   "source": [
    "range_1 = [75]"
   ]
  },
  {
   "cell_type": "code",
   "execution_count": 43,
   "metadata": {
    "colab": {
     "base_uri": "https://localhost:8080/",
     "height": 35
    },
    "colab_type": "code",
    "executionInfo": {
     "elapsed": 715,
     "status": "ok",
     "timestamp": 1580941968778,
     "user": {
      "displayName": "이경민학부생",
      "photoUrl": "",
      "userId": "01346787625936847475"
     },
     "user_tz": -540
    },
    "id": "a2DfTLdVlc_H",
    "outputId": "02723b13-37fc-4c36-c6cc-5c37674bbb1f"
   },
   "outputs": [
    {
     "name": "stdout",
     "output_type": "stream",
     "text": [
      "[3]\n"
     ]
    }
   ],
   "source": [
    "range_3 = [3]\n",
    "print(range_3)"
   ]
  },
  {
   "cell_type": "code",
   "execution_count": 44,
   "metadata": {
    "colab": {
     "base_uri": "https://localhost:8080/",
     "height": 35
    },
    "colab_type": "code",
    "executionInfo": {
     "elapsed": 986,
     "status": "ok",
     "timestamp": 1580941969317,
     "user": {
      "displayName": "이경민학부생",
      "photoUrl": "",
      "userId": "01346787625936847475"
     },
     "user_tz": -540
    },
    "id": "rNnn-D3jlc_K",
    "outputId": "fadbb951-c690-462c-b6f2-1dd94daa0cce"
   },
   "outputs": [
    {
     "data": {
      "text/plain": [
       "(152, 1)"
      ]
     },
     "execution_count": 44,
     "metadata": {},
     "output_type": "execute_result"
    }
   ],
   "source": [
    "el_train_std.shape\n"
   ]
  },
  {
   "cell_type": "code",
   "execution_count": 27,
   "metadata": {
    "colab": {
     "base_uri": "https://localhost:8080/",
     "height": 359
    },
    "colab_type": "code",
    "executionInfo": {
     "elapsed": 1494,
     "status": "ok",
     "timestamp": 1580941970097,
     "user": {
      "displayName": "이경민학부생",
      "photoUrl": "",
      "userId": "01346787625936847475"
     },
     "user_tz": -540
    },
    "id": "9wqzRxkOlc_Q",
    "outputId": "7ceb9a5f-c7d5-4963-bcd9-aa1ac10d6096"
   },
   "outputs": [
    {
     "data": {
      "text/plain": [
       "GridSearchCV(cv=3, error_score=nan,\n",
       "             estimator=RandomForestRegressor(bootstrap=True, ccp_alpha=0.0,\n",
       "                                             criterion='mse', max_depth=None,\n",
       "                                             max_features='auto',\n",
       "                                             max_leaf_nodes=None,\n",
       "                                             max_samples=None,\n",
       "                                             min_impurity_decrease=0.0,\n",
       "                                             min_impurity_split=None,\n",
       "                                             min_samples_leaf=1,\n",
       "                                             min_samples_split=2,\n",
       "                                             min_weight_fraction_leaf=0.0,\n",
       "                                             n_estimators=100, n_jobs=None,\n",
       "                                             oob_score=False, random_state=42,\n",
       "                                             verbose=0, warm_start=False),\n",
       "             iid='deprecated', n_jobs=None,\n",
       "             param_grid=[{'max_features': [0.835], 'min_samples_leaf': [3],\n",
       "                          'n_estimators': [75]}],\n",
       "             pre_dispatch='2*n_jobs', refit=True, return_train_score=True,\n",
       "             scoring='neg_mean_squared_error', verbose=0)"
      ]
     },
     "execution_count": 27,
     "metadata": {},
     "output_type": "execute_result"
    }
   ],
   "source": [
    "from sklearn.model_selection import GridSearchCV\n",
    "\n",
    "param_grid = [\n",
    "    # try 12 (3×4) combinations of hyperparameters\n",
    "    {'n_estimators':[75], 'max_features':[0.835],\n",
    "   'min_samples_leaf': [3]\n",
    "                      \n",
    "    }\n",
    "  ]\n",
    "\n",
    "rf_reg = RandomForestRegressor(random_state=42)\n",
    "# train across 5 folds, that's a total of (12+6)*5=90 rounds of training \n",
    "grid_search = GridSearchCV(rf_reg, param_grid, cv=3,\n",
    "                           scoring='neg_mean_squared_error',\n",
    "                           return_train_score=True)\n",
    "grid_search.fit(X_train_std, el_train_std.ravel())"
   ]
  },
  {
   "cell_type": "code",
   "execution_count": 28,
   "metadata": {
    "colab": {
     "base_uri": "https://localhost:8080/",
     "height": 143
    },
    "colab_type": "code",
    "executionInfo": {
     "elapsed": 931,
     "status": "ok",
     "timestamp": 1580941970100,
     "user": {
      "displayName": "이경민학부생",
      "photoUrl": "",
      "userId": "01346787625936847475"
     },
     "user_tz": -540
    },
    "id": "Lms0hpC4lc_R",
    "outputId": "dc18dc3b-0506-4ccb-dc76-236a2f23c314"
   },
   "outputs": [
    {
     "data": {
      "text/plain": [
       "RandomForestRegressor(bootstrap=True, ccp_alpha=0.0, criterion='mse',\n",
       "                      max_depth=None, max_features=0.835, max_leaf_nodes=None,\n",
       "                      max_samples=None, min_impurity_decrease=0.0,\n",
       "                      min_impurity_split=None, min_samples_leaf=3,\n",
       "                      min_samples_split=2, min_weight_fraction_leaf=0.0,\n",
       "                      n_estimators=75, n_jobs=None, oob_score=False,\n",
       "                      random_state=42, verbose=0, warm_start=False)"
      ]
     },
     "execution_count": 28,
     "metadata": {},
     "output_type": "execute_result"
    }
   ],
   "source": [
    "grid_search.best_estimator_"
   ]
  },
  {
   "cell_type": "code",
   "execution_count": 29,
   "metadata": {
    "colab": {
     "base_uri": "https://localhost:8080/",
     "height": 35
    },
    "colab_type": "code",
    "executionInfo": {
     "elapsed": 784,
     "status": "ok",
     "timestamp": 1580941971529,
     "user": {
      "displayName": "이경민학부생",
      "photoUrl": "",
      "userId": "01346787625936847475"
     },
     "user_tz": -540
    },
    "id": "tpAYbQ3Xlc_S",
    "outputId": "aec38a03-2539-41cd-80b3-0e43e8c61296",
    "scrolled": true
   },
   "outputs": [
    {
     "data": {
      "text/plain": [
       "{'max_features': 0.835, 'min_samples_leaf': 3, 'n_estimators': 75}"
      ]
     },
     "execution_count": 29,
     "metadata": {},
     "output_type": "execute_result"
    }
   ],
   "source": [
    "grid_search.best_params_"
   ]
  },
  {
   "cell_type": "code",
   "execution_count": 30,
   "metadata": {
    "colab": {
     "base_uri": "https://localhost:8080/",
     "height": 35
    },
    "colab_type": "code",
    "executionInfo": {
     "elapsed": 905,
     "status": "ok",
     "timestamp": 1580941976083,
     "user": {
      "displayName": "이경민학부생",
      "photoUrl": "",
      "userId": "01346787625936847475"
     },
     "user_tz": -540
    },
    "id": "IqMe1FrHlc_T",
    "outputId": "76cc1249-f465-4090-a389-384d70e67388"
   },
   "outputs": [
    {
     "name": "stdout",
     "output_type": "stream",
     "text": [
      "0.43236962764128256 {'max_features': 0.835, 'min_samples_leaf': 3, 'n_estimators': 75}\n"
     ]
    }
   ],
   "source": [
    "cvres = grid_search.cv_results_\n",
    "for mean_score, params in zip(cvres[\"mean_test_score\"], cvres[\"params\"]):\n",
    "    print(np.sqrt(-mean_score), params)"
   ]
  },
  {
   "cell_type": "code",
   "execution_count": 31,
   "metadata": {
    "colab": {},
    "colab_type": "code",
    "id": "kZrE3EFXlc_U"
   },
   "outputs": [],
   "source": [
    "el_rf_final_model = grid_search.best_estimator_"
   ]
  },
  {
   "cell_type": "markdown",
   "metadata": {},
   "source": [
    "el_rf_final_model = RandomForestRegressor(bootstrap=True, ccp_alpha=0.0, criterion='mse',\n",
    "                      max_depth=None, max_features=0.835, max_leaf_nodes=None,\n",
    "                      max_samples=None, min_impurity_decrease=0.0,\n",
    "                      min_impurity_split=None, min_samples_leaf=3,\n",
    "                      min_samples_split=2, min_weight_fraction_leaf=0.0,\n",
    "                      n_estimators=75, n_jobs=None, oob_score=False,\n",
    "                      random_state=42, verbose=0, warm_start=False).fit(X_train_std, el_train_std)"
   ]
  },
  {
   "cell_type": "code",
   "execution_count": 32,
   "metadata": {
    "colab": {
     "base_uri": "https://localhost:8080/",
     "height": 35
    },
    "colab_type": "code",
    "executionInfo": {
     "elapsed": 652,
     "status": "ok",
     "timestamp": 1580941976429,
     "user": {
      "displayName": "이경민학부생",
      "photoUrl": "",
      "userId": "01346787625936847475"
     },
     "user_tz": -540
    },
    "id": "-dwES8Stlc_W",
    "outputId": "7e6a9c38-48ac-485f-f883-39328fdd36f0"
   },
   "outputs": [
    {
     "data": {
      "text/plain": [
       "0.5048441703477694"
      ]
     },
     "execution_count": 32,
     "metadata": {},
     "output_type": "execute_result"
    }
   ],
   "source": [
    "el_rf_train_predictions = el_rf_final_model.predict(X_train_std) * np.std(el_train) + np.mean(el_train)\n",
    "el_rf_train_mse = mean_squared_error(el_train, el_rf_train_predictions)\n",
    "el_rf_train_rmse = np.sqrt(el_rf_train_mse)\n",
    "el_rf_train_rmse"
   ]
  },
  {
   "cell_type": "code",
   "execution_count": 33,
   "metadata": {
    "colab": {},
    "colab_type": "code",
    "id": "VMKbWo-Nlc_Y"
   },
   "outputs": [],
   "source": [
    "X_test_std = np.array(X_test_std)\n",
    "#X_test_std= X_test_std.reshape(-1, 1)\n",
    "#X_test_std"
   ]
  },
  {
   "cell_type": "code",
   "execution_count": 34,
   "metadata": {
    "colab": {
     "base_uri": "https://localhost:8080/",
     "height": 35
    },
    "colab_type": "code",
    "executionInfo": {
     "elapsed": 716,
     "status": "ok",
     "timestamp": 1580941978286,
     "user": {
      "displayName": "이경민학부생",
      "photoUrl": "",
      "userId": "01346787625936847475"
     },
     "user_tz": -540
    },
    "id": "xOkWuyJzlc_Z",
    "outputId": "4d435a61-4bfa-4203-f43e-c97a331790cd"
   },
   "outputs": [
    {
     "name": "stdout",
     "output_type": "stream",
     "text": [
      "el_rf_train_err:  [10.10948053] %\n"
     ]
    }
   ],
   "source": [
    "el_train_sum = np.zeros(1)\n",
    "\n",
    "for i in range(1, len(el_train)):\n",
    "    el_train_sum +=  el_train[i]\n",
    "    \n",
    "el_train_avg = el_train_sum / len(el_train)\n",
    "el_rf_train_err = el_rf_train_rmse / el_train_avg * 100\n",
    "print(\"el_rf_train_err: \", el_rf_train_err, '%')"
   ]
  },
  {
   "cell_type": "code",
   "execution_count": 35,
   "metadata": {
    "colab": {
     "base_uri": "https://localhost:8080/",
     "height": 35
    },
    "colab_type": "code",
    "executionInfo": {
     "elapsed": 768,
     "status": "ok",
     "timestamp": 1580941978847,
     "user": {
      "displayName": "이경민학부생",
      "photoUrl": "",
      "userId": "01346787625936847475"
     },
     "user_tz": -540
    },
    "id": "NO6wKZXUlc_a",
    "outputId": "19118f48-ab93-4b9f-a046-2b3bc320ac58"
   },
   "outputs": [
    {
     "data": {
      "text/plain": [
       "0.22639681695583516"
      ]
     },
     "execution_count": 35,
     "metadata": {},
     "output_type": "execute_result"
    }
   ],
   "source": [
    "el_rf_test_predictions = el_rf_final_model.predict(X_test_std) * np.std(el_train) + np.mean(el_train)\n",
    "el_rf_test_mse = mean_squared_error(el_test,el_rf_test_predictions)\n",
    "el_rf_test_rmse = np.sqrt(el_rf_test_mse)\n",
    "el_rf_test_rmse"
   ]
  },
  {
   "cell_type": "code",
   "execution_count": 36,
   "metadata": {
    "colab": {
     "base_uri": "https://localhost:8080/",
     "height": 35
    },
    "colab_type": "code",
    "executionInfo": {
     "elapsed": 626,
     "status": "ok",
     "timestamp": 1580941979312,
     "user": {
      "displayName": "이경민학부생",
      "photoUrl": "",
      "userId": "01346787625936847475"
     },
     "user_tz": -540
    },
    "id": "I2ptGh1plc_d",
    "outputId": "01bed1f0-49ae-4cbc-e609-318a087501a4"
   },
   "outputs": [
    {
     "name": "stdout",
     "output_type": "stream",
     "text": [
      "el_rf_test_err:  [4.40214905] %\n"
     ]
    }
   ],
   "source": [
    "el_test_sum = np.zeros(1)\n",
    "\n",
    "for i in range(1, len(el_test)):\n",
    "    el_test_sum +=  el_test[i]\n",
    "    \n",
    "el_test_avg = el_test_sum / len(el_test)\n",
    "el_rf_test_err = el_rf_test_rmse / el_test_avg * 100\n",
    "print(\"el_rf_test_err: \", el_rf_test_err, '%')"
   ]
  },
  {
   "cell_type": "code",
   "execution_count": 37,
   "metadata": {},
   "outputs": [],
   "source": [
    "np.savetxt('predictions.csv', el_rf_test_predictions, delimiter=',', fmt='%f')\n"
   ]
  },
  {
   "cell_type": "markdown",
   "metadata": {
    "colab_type": "text",
    "id": "FVT6vRBTlc_f"
   },
   "source": [
    "## importances"
   ]
  },
  {
   "cell_type": "code",
   "execution_count": 0,
   "metadata": {
    "colab": {
     "base_uri": "https://localhost:8080/",
     "height": 161
    },
    "colab_type": "code",
    "executionInfo": {
     "elapsed": 478673,
     "status": "ok",
     "timestamp": 1571664733395,
     "user": {
      "displayName": "Kyung Min Lee",
      "photoUrl": "",
      "userId": "04331676426637755655"
     },
     "user_tz": -540
    },
    "id": "6ozcqP80lc_f",
    "outputId": "093a6d6b-1fd8-4dc8-f8fe-67faafd6ce1f"
   },
   "outputs": [
    {
     "name": "stdout",
     "output_type": "stream",
     "text": [
      "feature importances\n",
      "\n",
      "1kHz_voltage:  0.7579273008581479\n",
      "1kHz_Re:  0.22809795975670163\n",
      "5kHz_voltage :  0.012303344125358523\n",
      "1kHz_Im:  0.000650607478448819\n",
      "5kHz_Im:  0.0005297504973187848\n",
      "5kHz_Re:  0.000491037284024455\n"
     ]
    }
   ],
   "source": [
    "# Feature importance\n",
    "\n",
    "rf_feature_importance = ys_rf_final_model.feature_importances_\n",
    "print(\"feature importances\\n\")\n",
    "print(\"1kHz_voltage: \",rf_feature_importance[0])\n",
    "print(\"1kHz_Re: \",rf_feature_importance[1])\n",
    "print(\"5kHz_voltage : \",rf_feature_importance[3])\n",
    "print(\"1kHz_Im: \",rf_feature_importance[2])\n",
    "print(\"5kHz_Im: \",rf_feature_importance[5])\n",
    "print(\"5kHz_Re: \",rf_feature_importance[4])\n"
   ]
  },
  {
   "cell_type": "code",
   "execution_count": 0,
   "metadata": {
    "colab": {},
    "colab_type": "code",
    "id": "D3-3DHdzlc_g"
   },
   "outputs": [],
   "source": [
    "X_test = pd.DataFrame(X_test)\n",
    "ys_test = pd.DataFrame(ys_test)"
   ]
  },
  {
   "cell_type": "code",
   "execution_count": 0,
   "metadata": {
    "colab": {},
    "colab_type": "code",
    "id": "r_qBQMN-lc_h"
   },
   "outputs": [],
   "source": [
    "from sklearn.inspection import permutation_importance\n",
    "\n",
    "result = permutation_importance(ys_rf_final_model, X_test_std, el_test_std.ravel(), n_repeats=10,\n",
    "                                random_state=42)\n",
    "\n"
   ]
  },
  {
   "cell_type": "code",
   "execution_count": 0,
   "metadata": {
    "colab": {},
    "colab_type": "code",
    "id": "eXGMzC-olc_j",
    "outputId": "7e02ab0b-da89-4e16-9514-3fff78387642"
   },
   "outputs": [
    {
     "data": {
      "text/plain": [
       "array([0, 1, 3, 4, 2, 5], dtype=int64)"
      ]
     },
     "execution_count": 76,
     "metadata": {
      "tags": []
     },
     "output_type": "execute_result"
    }
   ],
   "source": [
    "perm_sorted_idx = abs(result.importances_mean).argsort()[::-1]\n",
    "perm_sorted_idx"
   ]
  },
  {
   "cell_type": "code",
   "execution_count": 0,
   "metadata": {
    "colab": {},
    "colab_type": "code",
    "id": "ybLFQt5plc_l",
    "outputId": "c3857720-8e62-4675-995f-a5edc0644083"
   },
   "outputs": [
    {
     "name": "stdout",
     "output_type": "stream",
     "text": [
      "Permutated feature importances\n",
      "\n",
      "1kHz_voltage:  -1.8857714962395842\n",
      "1kHz_Re:  -0.8076315421982094\n",
      "5kHz_voltage :  -0.0900500848655796\n",
      "5kHz_Re:  -0.004706461562472652\n",
      "1kHz_Im:  -0.002690336963061135\n",
      "5kHz_Im:  -9.32704920509675e-05\n"
     ]
    }
   ],
   "source": [
    "print(\"Permutated feature importances\\n\")\n",
    "print(\"1kHz_voltage: \",result.importances_mean[0])\n",
    "print(\"1kHz_Re: \",result.importances_mean[1])\n",
    "print(\"5kHz_voltage : \",result.importances_mean[3])\n",
    "print(\"5kHz_Re: \",result.importances_mean[4])\n",
    "print(\"1kHz_Im: \",result.importances_mean[2])\n",
    "print(\"5kHz_Im: \",result.importances_mean[5])\n"
   ]
  },
  {
   "cell_type": "code",
   "execution_count": 0,
   "metadata": {
    "colab": {},
    "colab_type": "code",
    "id": "Ft_F80hUlc_n",
    "outputId": "4fdb7b06-ed9b-4348-b6c0-4a64955c6632"
   },
   "outputs": [
    {
     "data": {
      "text/plain": [
       "{'importances_mean': array([-1.88577150e+00, -8.07631542e-01, -2.69033696e-03, -9.00500849e-02,\n",
       "        -4.70646156e-03, -9.32704921e-05]),\n",
       " 'importances_std': array([0.33706101, 0.11328028, 0.00149214, 0.02055346, 0.00163784,\n",
       "        0.00244759]),\n",
       " 'importances': array([[-2.19316637e+00, -1.68268895e+00, -1.24827289e+00,\n",
       "         -2.38574676e+00, -2.14368821e+00, -1.72617558e+00,\n",
       "         -2.11679920e+00, -1.47989614e+00, -1.82260302e+00,\n",
       "         -2.05867785e+00],\n",
       "        [-8.06006872e-01, -7.78122612e-01, -7.89290011e-01,\n",
       "         -9.03310880e-01, -1.06975728e+00, -7.96499050e-01,\n",
       "         -7.84378883e-01, -5.90967176e-01, -7.78166925e-01,\n",
       "         -7.79815731e-01],\n",
       "        [-1.40999851e-03, -1.40812163e-03, -5.28288121e-03,\n",
       "         -1.50678943e-03, -1.17223212e-03, -1.59234286e-03,\n",
       "         -2.11172453e-03, -3.97975969e-03, -3.63943005e-03,\n",
       "         -4.80008960e-03],\n",
       "        [-1.04252376e-01, -7.96429580e-02, -1.00261339e-01,\n",
       "         -1.11159263e-01, -7.34496816e-02, -1.13741567e-01,\n",
       "         -7.59990939e-02, -7.72125531e-02, -5.03898180e-02,\n",
       "         -1.14392199e-01],\n",
       "        [-4.41742827e-03, -3.50798132e-03, -6.76428599e-03,\n",
       "         -1.84318363e-03, -4.54079818e-03, -5.07563831e-03,\n",
       "         -3.72122211e-03, -8.04704082e-03, -5.09455256e-03,\n",
       "         -4.05248444e-03],\n",
       "        [-2.11568540e-03, -1.37285983e-03,  6.98364976e-04,\n",
       "          3.86268534e-04, -3.44754777e-03,  2.91720781e-03,\n",
       "         -1.82441847e-03, -8.57323623e-04,  5.30562158e-03,\n",
       "         -6.22332725e-04]])}"
      ]
     },
     "execution_count": 74,
     "metadata": {
      "tags": []
     },
     "output_type": "execute_result"
    }
   ],
   "source": [
    "result"
   ]
  },
  {
   "cell_type": "markdown",
   "metadata": {
    "colab_type": "text",
    "id": "bN-RC2ZLlc_o"
   },
   "source": [
    "## Calculate adj R^2 scores"
   ]
  },
  {
   "cell_type": "code",
   "execution_count": 22,
   "metadata": {
    "colab": {},
    "colab_type": "code",
    "id": "4_REso4olc_o"
   },
   "outputs": [],
   "source": [
    "from sklearn.metrics import r2_score\n",
    "\n",
    "def r2_adj_score(y_pred, y_true, X):\n",
    "    r2 = r2_score(y_pred=y_pred, y_true=y_true)\n",
    "    r2_adj_score = 1 - (1-r2)*(len(y_true)-1)/(len(y_true)-X.shape[1]-1)\n",
    "    \n",
    "    return r2_adj_score"
   ]
  },
  {
   "cell_type": "code",
   "execution_count": 23,
   "metadata": {
    "colab": {
     "base_uri": "https://localhost:8080/",
     "height": 35
    },
    "colab_type": "code",
    "executionInfo": {
     "elapsed": 1502,
     "status": "ok",
     "timestamp": 1580942025899,
     "user": {
      "displayName": "이경민학부생",
      "photoUrl": "",
      "userId": "01346787625936847475"
     },
     "user_tz": -540
    },
    "id": "F9C0lKGmlc_q",
    "outputId": "186c5678-e7ca-4da8-c537-59027b4e78bf"
   },
   "outputs": [
    {
     "name": "stdout",
     "output_type": "stream",
     "text": [
      "0.9726\n"
     ]
    }
   ],
   "source": [
    "rf_r2_adj = r2_adj_score(y_pred=el_rf_test_predictions, y_true=el_test, X=X_train)\n",
    "print('{}'.format(round(rf_r2_adj,4)))"
   ]
  },
  {
   "cell_type": "code",
   "execution_count": 25,
   "metadata": {},
   "outputs": [
    {
     "name": "stdout",
     "output_type": "stream",
     "text": [
      "dataset size:  190\n",
      " \n",
      "1 cv rmse: 0.24200455898040135, cv adj r2: 0.9687249016305083\n",
      "   train size: 152, test size: 38\n",
      "1 cv index\" [  5   9  15  16  18  19  24  30  42  45  56  65  66  67  68  75  78  85\n",
      "  95  97 101 104 109 111 112 120 123 124 127 132 141 155 163 164 168 169\n",
      " 175 180]\n",
      " \n",
      "2 cv rmse: 0.354403163326537, cv adj r2: 0.9386893819563933\n",
      "   train size: 152, test size: 38\n",
      "2 cv index\" [  2  11  12  22  26  29  31  35  36  38  41  46  51  55  60  69  76  82\n",
      "  93  96  98 115 117 118 122 128 133 138 139 140 152 153 156 161 165 178\n",
      " 181 185]\n",
      " \n",
      "3 cv rmse: 1.2631599057020693, cv adj r2: 0.3275891670326293\n",
      "   train size: 152, test size: 38\n",
      "3 cv index\" [  0   4   6  10  23  25  27  28  32  39  40  44  64  70  77  79  81  84\n",
      "  86  90 100 108 113 114 119 125 126 135 136 137 142 144 146 147 150 170\n",
      " 182 184]\n",
      " \n"
     ]
    },
    {
     "name": "stderr",
     "output_type": "stream",
     "text": [
      "C:\\Users\\kmlee\\Anaconda3\\lib\\site-packages\\ipykernel_launcher.py:27: DataConversionWarning: A column-vector y was passed when a 1d array was expected. Please change the shape of y to (n_samples,), for example using ravel().\n",
      "C:\\Users\\kmlee\\Anaconda3\\lib\\site-packages\\ipykernel_launcher.py:27: DataConversionWarning: A column-vector y was passed when a 1d array was expected. Please change the shape of y to (n_samples,), for example using ravel().\n",
      "C:\\Users\\kmlee\\Anaconda3\\lib\\site-packages\\ipykernel_launcher.py:27: DataConversionWarning: A column-vector y was passed when a 1d array was expected. Please change the shape of y to (n_samples,), for example using ravel().\n"
     ]
    },
    {
     "name": "stdout",
     "output_type": "stream",
     "text": [
      "4 cv rmse: 0.30927229561654423, cv adj r2: 0.9586502570854674\n",
      "   train size: 152, test size: 38\n",
      "4 cv index\" [  3   7   8  13  17  33  34  43  47  49  53  59  61  62  72  73  80  83\n",
      "  89  91  94 105 110 131 143 145 148 154 159 162 166 167 171 172 173 176\n",
      " 177 187]\n",
      " \n",
      "5 cv rmse: 0.35497416811434135, cv adj r2: 0.9360324411353358\n",
      "   train size: 152, test size: 38\n",
      "5 cv index\" [  1  14  20  21  37  48  50  52  54  57  58  63  71  74  87  88  92  99\n",
      " 102 103 106 107 116 121 129 130 134 149 151 157 158 160 174 179 183 186\n",
      " 188 189]\n",
      "average rmse:  0.5047628183479786\n",
      "std rmse:  0.38143656223488553\n",
      "average adj-r2:  0.8259372297680667\n",
      "std adj-r2:  0.24947379095885489\n"
     ]
    },
    {
     "name": "stderr",
     "output_type": "stream",
     "text": [
      "C:\\Users\\kmlee\\Anaconda3\\lib\\site-packages\\ipykernel_launcher.py:27: DataConversionWarning: A column-vector y was passed when a 1d array was expected. Please change the shape of y to (n_samples,), for example using ravel().\n",
      "C:\\Users\\kmlee\\Anaconda3\\lib\\site-packages\\ipykernel_launcher.py:27: DataConversionWarning: A column-vector y was passed when a 1d array was expected. Please change the shape of y to (n_samples,), for example using ravel().\n"
     ]
    }
   ],
   "source": [
    "from sklearn.model_selection import KFold\n",
    "from sklearn.metrics import accuracy_score, mean_squared_error\n",
    "\n",
    "kfold = KFold(n_splits=5, shuffle=True, random_state=42)\n",
    "cv_rmse, cv_adj_r2 = [], []\n",
    "\n",
    "print(\"dataset size: \", X.shape[0])\n",
    "\n",
    "n_iter = 0\n",
    "for train_index, test_index in kfold.split(X):\n",
    "    # train_test_split\n",
    "    print(' ')\n",
    "    X = np.array(X)\n",
    "    X_train_tmp, X_test_tmp = X[train_index], X[test_index]\n",
    "    el_train_tmp, el_test_tmp = elong[train_index], elong[test_index]\n",
    "    \n",
    "    # standardization\n",
    "    X_train_tmp_std = data_pipeline.fit_transform(X_train_tmp)\n",
    "    X_test_tmp_std = data_pipeline.fit_transform(X_test_tmp)\n",
    "    el_train_tmp = np.array(el_train_tmp)\n",
    "    el_train_tmp = el_train_tmp.reshape(-1,1)\n",
    "    el_test_tmp = np.array(el_test_tmp)\n",
    "    el_test_tmp = el_test_tmp.reshape(-1,1)\n",
    "    el_train_tmp_std, el_test_tmp_std = data_pipeline.fit_transform(el_train_tmp), data_pipeline.fit_transform(el_test_tmp)\n",
    "        \n",
    "    # prediction\n",
    "    el_rf_final_model.fit(X_train_tmp_std, el_train_tmp_std)\n",
    "    el_pred_tmp = el_rf_final_model.predict(X_test_tmp_std) * np.std(el_train_tmp) + np.mean(el_train_tmp)\n",
    "    n_iter += 1\n",
    "\n",
    "    # r2_adj, rmse\n",
    "    rf_r2_adj_tmp = r2_adj_score(y_pred=el_pred_tmp, y_true=el_test_tmp, X=X_train_tmp)   \n",
    "    el_mse_tmp = mean_squared_error(el_test_tmp,el_pred_tmp)\n",
    "    el_rmse_tmp = np.sqrt(el_mse_tmp)\n",
    "    train_size = X_train_tmp.shape[0]\n",
    "    test_size = X_test_tmp.shape[0]\n",
    "    print('{} cv rmse: {}, cv adj r2: {}'.format(n_iter, el_rmse_tmp, rf_r2_adj_tmp))\n",
    "    print('   train size: {}, test size: {}'.format(train_size, test_size))\n",
    "    print('{} cv index\" {}'.format(n_iter, test_index))\n",
    "    cv_rmse.append(el_rmse_tmp)\n",
    "    cv_adj_r2.append(rf_r2_adj_tmp)\n",
    "    \n",
    "print('average rmse: ', np.mean(cv_rmse))\n",
    "print('std rmse: ', np.std(cv_rmse))\n",
    "print('average adj-r2: ', np.mean(cv_adj_r2))\n",
    "print('std adj-r2: ', np.std(cv_adj_r2))"
   ]
  },
  {
   "cell_type": "markdown",
   "metadata": {
    "colab_type": "text",
    "id": "j_Ee9-OKlc_s"
   },
   "source": [
    "## Plot diagram for r-value"
   ]
  },
  {
   "cell_type": "code",
   "execution_count": 29,
   "metadata": {
    "colab": {
     "base_uri": "https://localhost:8080/",
     "height": 315
    },
    "colab_type": "code",
    "executionInfo": {
     "elapsed": 1640,
     "status": "ok",
     "timestamp": 1580942064927,
     "user": {
      "displayName": "이경민학부생",
      "photoUrl": "",
      "userId": "01346787625936847475"
     },
     "user_tz": -540
    },
    "id": "PMdVJuiLlc_s",
    "outputId": "7046f5fe-465d-4cfb-c2f4-fd6ca56f221d"
   },
   "outputs": [
    {
     "name": "stdout",
     "output_type": "stream",
     "text": [
      "Saving figure RF_Prediction_el\n"
     ]
    },
    {
     "data": {
      "image/png": "[encoded data removed]",
      "text/plain": [
       "<Figure size 432x288 with 1 Axes>"
      ]
     },
     "metadata": {
      "needs_background": "light"
     },
     "output_type": "display_data"
    }
   ],
   "source": [
    "plt.figure\n",
    "x = np.linspace(0,10,len(el_test))\n",
    "plt.xlim(0.1,10)\n",
    "plt.plot(x, x, c='k')\n",
    "plt.scatter(el_train, el_rf_train_predictions, c='b',label='train predictions')\n",
    "plt.scatter(el_test, el_rf_test_predictions, c='r', label='test predictions')\n",
    "plt.grid()\n",
    "plt.legend()\n",
    "plt.title(\"RF\", fontsize=20)\n",
    "plt.xlabel(\"True Data\")\n",
    "plt.ylabel(\"Predictions\")\n",
    "save_fig(\"RF_Prediction_el\")"
   ]
  },
  {
   "cell_type": "code",
   "execution_count": 0,
   "metadata": {
    "colab": {},
    "colab_type": "code",
    "id": "D-wLX1LKlc_t"
   },
   "outputs": [],
   "source": []
  },
  {
   "cell_type": "code",
   "execution_count": 0,
   "metadata": {
    "colab": {},
    "colab_type": "code",
    "id": "tKleLLV1lc_u"
   },
   "outputs": [],
   "source": []
  },
  {
   "cell_type": "markdown",
   "metadata": {
    "colab_type": "text",
    "id": "MDqiMFzRlc_w"
   },
   "source": [
    "## Central Limit Theorem"
   ]
  },
  {
   "cell_type": "code",
   "execution_count": 0,
   "metadata": {
    "colab": {
     "base_uri": "https://localhost:8080/",
     "height": 53
    },
    "colab_type": "code",
    "executionInfo": {
     "elapsed": 475582,
     "status": "ok",
     "timestamp": 1571664733397,
     "user": {
      "displayName": "Kyung Min Lee",
      "photoUrl": "",
      "userId": "04331676426637755655"
     },
     "user_tz": -540
    },
    "id": "gSpgjiUUlc_w",
    "outputId": "f1dffbea-842c-43bf-9f9f-b6cb8567a7e0"
   },
   "outputs": [
    {
     "name": "stdout",
     "output_type": "stream",
     "text": [
      "(1,)\n",
      "Combinations\n"
     ]
    }
   ],
   "source": [
    "print(cvres['mean_train_score'].shape)\n",
    "print('Combinations')"
   ]
  },
  {
   "cell_type": "code",
   "execution_count": 0,
   "metadata": {
    "colab": {
     "base_uri": "https://localhost:8080/",
     "height": 53
    },
    "colab_type": "code",
    "executionInfo": {
     "elapsed": 475311,
     "status": "ok",
     "timestamp": 1571664733397,
     "user": {
      "displayName": "Kyung Min Lee",
      "photoUrl": "",
      "userId": "04331676426637755655"
     },
     "user_tz": -540
    },
    "id": "HqShBptGlc_x",
    "outputId": "030e4644-d40b-4c36-8bb8-e26b7a77ebeb"
   },
   "outputs": [
    {
     "name": "stdout",
     "output_type": "stream",
     "text": [
      "[-0.17173991]\n"
     ]
    }
   ],
   "source": [
    "mean_test_score =cvres['mean_test_score']\n",
    "print(mean_test_score)"
   ]
  },
  {
   "cell_type": "code",
   "execution_count": 0,
   "metadata": {
    "colab": {
     "base_uri": "https://localhost:8080/",
     "height": 53
    },
    "colab_type": "code",
    "executionInfo": {
     "elapsed": 475049,
     "status": "ok",
     "timestamp": 1571664733398,
     "user": {
      "displayName": "Kyung Min Lee",
      "photoUrl": "",
      "userId": "04331676426637755655"
     },
     "user_tz": -540
    },
    "id": "BkpRV2cGlc_y",
    "outputId": "c79cdd24-f7a1-468b-fd77-12ec8166aea7"
   },
   "outputs": [
    {
     "name": "stdout",
     "output_type": "stream",
     "text": [
      "[-0.10049504]\n"
     ]
    }
   ],
   "source": [
    "mean_train_score =cvres['mean_train_score']\n",
    "print(mean_train_score)"
   ]
  },
  {
   "cell_type": "code",
   "execution_count": 0,
   "metadata": {
    "colab": {
     "base_uri": "https://localhost:8080/",
     "height": 35
    },
    "colab_type": "code",
    "executionInfo": {
     "elapsed": 474782,
     "status": "ok",
     "timestamp": 1571664733398,
     "user": {
      "displayName": "Kyung Min Lee",
      "photoUrl": "",
      "userId": "04331676426637755655"
     },
     "user_tz": -540
    },
    "id": "HvsycbcYlc_z",
    "outputId": "96681ab3-b6ac-41cd-c8e1-17f457b7b12a"
   },
   "outputs": [
    {
     "name": "stdout",
     "output_type": "stream",
     "text": [
      "[0.82003045]\n"
     ]
    }
   ],
   "source": [
    "std_test_score =cvres['std_test_score']\n",
    "print(std_test_score)"
   ]
  },
  {
   "cell_type": "code",
   "execution_count": 0,
   "metadata": {
    "colab": {
     "base_uri": "https://localhost:8080/",
     "height": 35
    },
    "colab_type": "code",
    "executionInfo": {
     "elapsed": 474558,
     "status": "ok",
     "timestamp": 1571664733399,
     "user": {
      "displayName": "Kyung Min Lee",
      "photoUrl": "",
      "userId": "04331676426637755655"
     },
     "user_tz": -540
    },
    "id": "3vrb4R_dlc_2",
    "outputId": "d76c7c57-c35e-44a5-a577-58a9081f1c13"
   },
   "outputs": [
    {
     "name": "stdout",
     "output_type": "stream",
     "text": [
      "[0.82003045]\n"
     ]
    }
   ],
   "source": [
    "std_train_score =cvres['std_train_score']\n",
    "print(std_test_score)"
   ]
  },
  {
   "cell_type": "code",
   "execution_count": 0,
   "metadata": {
    "colab": {
     "base_uri": "https://localhost:8080/",
     "height": 35
    },
    "colab_type": "code",
    "executionInfo": {
     "elapsed": 477178,
     "status": "ok",
     "timestamp": 1571664736283,
     "user": {
      "displayName": "Kyung Min Lee",
      "photoUrl": "",
      "userId": "04331676426637755655"
     },
     "user_tz": -540
    },
    "id": "qKS-pQW5lc_5",
    "outputId": "2389e4f1-4d8f-47c2-a663-c880d4039a11"
   },
   "outputs": [
    {
     "name": "stderr",
     "output_type": "stream",
     "text": [
      "'ls'은(는) 내부 또는 외부 명령, 실행할 수 있는 프로그램, 또는\n",
      "배치 파일이 아닙니다.\n"
     ]
    }
   ],
   "source": [
    "  !ls /content/gdrive"
   ]
  },
  {
   "cell_type": "code",
   "execution_count": 0,
   "metadata": {
    "colab": {
     "base_uri": "https://localhost:8080/",
     "height": 1000
    },
    "colab_type": "code",
    "executionInfo": {
     "elapsed": 481848,
     "status": "ok",
     "timestamp": 1571664741187,
     "user": {
      "displayName": "Kyung Min Lee",
      "photoUrl": "",
      "userId": "04331676426637755655"
     },
     "user_tz": -540
    },
    "id": "PYqY04phlc_8",
    "outputId": "090af792-2d69-48b1-9966-002f216046b3"
   },
   "outputs": [
    {
     "ename": "FileNotFoundError",
     "evalue": "[Errno 2] No such file or directory: '/content/gdrive/My Drive/validation/cvscores/Random_Forest/yield_stress/RF_6V.txt'",
     "output_type": "error",
     "traceback": [
      "\u001b[1;31m---------------------------------------------------------------------------\u001b[0m",
      "\u001b[1;31mFileNotFoundError\u001b[0m                         Traceback (most recent call last)",
      "\u001b[1;32m<ipython-input-241-35f515e3979f>\u001b[0m in \u001b[0;36m<module>\u001b[1;34m\u001b[0m\n\u001b[1;32m----> 1\u001b[1;33m \u001b[1;32mwith\u001b[0m \u001b[0mopen\u001b[0m\u001b[1;33m(\u001b[0m\u001b[1;34m'/content/gdrive/My Drive/validation/cvscores/Random_Forest/yield_stress/RF_6V.txt'\u001b[0m\u001b[1;33m,\u001b[0m \u001b[1;34m'w'\u001b[0m\u001b[1;33m)\u001b[0m \u001b[1;32mas\u001b[0m \u001b[0mf\u001b[0m\u001b[1;33m:\u001b[0m\u001b[1;33m\u001b[0m\u001b[1;33m\u001b[0m\u001b[0m\n\u001b[0m\u001b[0;32m      2\u001b[0m   \u001b[1;32mfor\u001b[0m \u001b[0mkey\u001b[0m \u001b[1;32min\u001b[0m \u001b[0mcvres\u001b[0m\u001b[1;33m.\u001b[0m\u001b[0mkeys\u001b[0m\u001b[1;33m(\u001b[0m\u001b[1;33m)\u001b[0m\u001b[1;33m:\u001b[0m\u001b[1;33m\u001b[0m\u001b[1;33m\u001b[0m\u001b[0m\n\u001b[0;32m      3\u001b[0m     \u001b[0mf\u001b[0m\u001b[1;33m.\u001b[0m\u001b[0mwrite\u001b[0m\u001b[1;33m(\u001b[0m\u001b[1;34m\"\\n\"\u001b[0m\u001b[1;33m)\u001b[0m\u001b[1;33m\u001b[0m\u001b[1;33m\u001b[0m\u001b[0m\n\u001b[0;32m      4\u001b[0m     \u001b[0mf\u001b[0m\u001b[1;33m.\u001b[0m\u001b[0mwrite\u001b[0m\u001b[1;33m(\u001b[0m\u001b[0mkey\u001b[0m\u001b[1;33m)\u001b[0m\u001b[1;33m\u001b[0m\u001b[1;33m\u001b[0m\u001b[0m\n\u001b[0;32m      5\u001b[0m     \u001b[0mf\u001b[0m\u001b[1;33m.\u001b[0m\u001b[0mwrite\u001b[0m\u001b[1;33m(\u001b[0m\u001b[1;34m\": \"\u001b[0m\u001b[1;33m)\u001b[0m\u001b[1;33m\u001b[0m\u001b[1;33m\u001b[0m\u001b[0m\n",
      "\u001b[1;31mFileNotFoundError\u001b[0m: [Errno 2] No such file or directory: '/content/gdrive/My Drive/validation/cvscores/Random_Forest/yield_stress/RF_6V.txt'"
     ]
    }
   ],
   "source": [
    "with open('/content/gdrive/My Drive/validation/cvscores/Random_Forest/yield_stress/RF_6V.txt', 'w') as f:\n",
    "  for key in cvres.keys():\n",
    "    f.write(\"\\n\")\n",
    "    f.write(key)\n",
    "    f.write(\": \")\n",
    "    f.write(np.str(cvres[key]))\n",
    "    f.write(\"\\n\")\n",
    "\n",
    "\n",
    "!cat /content/gdrive/My\\ Drive/validation/cvscores/Random_Forest/yield_stress/RF_2V.txt\n"
   ]
  },
  {
   "cell_type": "markdown",
   "metadata": {
    "colab_type": "text",
    "id": "LRdkTaI5lc_9"
   },
   "source": [
    "Train data plotting\n",
    "---"
   ]
  },
  {
   "cell_type": "code",
   "execution_count": 58,
   "metadata": {
    "colab": {
     "base_uri": "https://localhost:8080/",
     "height": 315
    },
    "colab_type": "code",
    "executionInfo": {
     "elapsed": 1904,
     "status": "ok",
     "timestamp": 1580910784920,
     "user": {
      "displayName": "이경민학부생",
      "photoUrl": "",
      "userId": "01346787625936847475"
     },
     "user_tz": -540
    },
    "id": "K_gLL0Ydlc_9",
    "outputId": "22635d74-ead9-4e5e-e377-83526b3d6af7"
   },
   "outputs": [
    {
     "name": "stdout",
     "output_type": "stream",
     "text": [
      "Saving figure TrainPrediction_with_6V_RF_ParamFitted\n"
     ]
    },
    {
     "data": {
      "image/png": "[encoded data removed]",
      "text/plain": [
       "<Figure size 432x288 with 1 Axes>"
      ]
     },
     "metadata": {
      "needs_background": "light"
     },
     "output_type": "display_data"
    }
   ],
   "source": [
    "# Difference of train data\n",
    "xx = np.linspace(0,len(X_train),len(X_train))\n",
    "plt.figure\n",
    "plt.grid()\n",
    "plt.plot(xx,el_train,\"b-\", xx, el_rf_train_predictions,\"r--\")\n",
    "plt.title(\"Train data vs Train Prediction(RF) Param Fitted\")\n",
    "plt.xlabel(\"Order of data\")\n",
    "plt.ylabel(\"elongation\")\n",
    "save_fig(\"TrainPrediction_with_6V_RF_ParamFitted\")"
   ]
  },
  {
   "cell_type": "code",
   "execution_count": 59,
   "metadata": {
    "colab": {
     "base_uri": "https://localhost:8080/",
     "height": 315
    },
    "colab_type": "code",
    "executionInfo": {
     "elapsed": 3516,
     "status": "ok",
     "timestamp": 1580910786761,
     "user": {
      "displayName": "이경민학부생",
      "photoUrl": "",
      "userId": "01346787625936847475"
     },
     "user_tz": -540
    },
    "id": "unuy5ph3lc_-",
    "outputId": "c6eaad90-f55b-49cb-a0d1-9f7a56cf5c42"
   },
   "outputs": [
    {
     "name": "stdout",
     "output_type": "stream",
     "text": [
      "Saving figure Difference_between_Train_data_vs_Prediction_6V_RF_ParamFitted\n"
     ]
    },
    {
     "data": {
      "image/png": "[encoded data removed]",
      "text/plain": [
       "<Figure size 432x288 with 1 Axes>"
      ]
     },
     "metadata": {
      "needs_background": "light"
     },
     "output_type": "display_data"
    }
   ],
   "source": [
    "# Difference of train data\n",
    "difference = el_train - el_rf_train_predictions\n",
    "\n",
    "xx = np.linspace(0,len(difference),len(difference))\n",
    "y = np.zeros((len(difference),1))\n",
    "#y.reshape(1,len(difference))\n",
    "plt.figure\n",
    "plt.grid()\n",
    "plt.plot(xx,y,\"b-\", xx, difference,\"r--\")\n",
    "plt.title(\"Difference between Train data vs Prediction(RF) Param Fitted\")\n",
    "#plt.ylim(-30, 30)\n",
    "plt.xlabel(\"Order of data\")\n",
    "plt.ylabel(\"elongation\")\n",
    "\n",
    "save_fig(\"Difference_between_Train_data_vs_Prediction_6V_RF_ParamFitted\")\n"
   ]
  },
  {
   "cell_type": "markdown",
   "metadata": {
    "colab_type": "text",
    "id": "lUqaPjVRlc__"
   },
   "source": [
    "Test data plotting\n",
    "---"
   ]
  },
  {
   "cell_type": "code",
   "execution_count": 60,
   "metadata": {
    "colab": {
     "base_uri": "https://localhost:8080/",
     "height": 315
    },
    "colab_type": "code",
    "executionInfo": {
     "elapsed": 3956,
     "status": "ok",
     "timestamp": 1580910787669,
     "user": {
      "displayName": "이경민학부생",
      "photoUrl": "",
      "userId": "01346787625936847475"
     },
     "user_tz": -540
    },
    "id": "kIz2hRg4ldAA",
    "outputId": "e15e5731-db5d-48c1-b9b4-6f80d7952c81"
   },
   "outputs": [
    {
     "name": "stdout",
     "output_type": "stream",
     "text": [
      "Saving figure TestPrediction_with_6V_RF_ParamFitted\n"
     ]
    },
    {
     "data": {
      "image/png": "[encoded data removed]",
      "text/plain": [
       "<Figure size 432x288 with 1 Axes>"
      ]
     },
     "metadata": {
      "needs_background": "light"
     },
     "output_type": "display_data"
    }
   ],
   "source": [
    "# Difference of train data\n",
    "xx = np.linspace(0,len(X_test),len(X_test))\n",
    "plt.figure\n",
    "plt.grid()\n",
    "plt.plot(xx,el_test,\"b-\", xx, el_rf_test_predictions,\"r--\")\n",
    "plt.title(\"Test data vs Test Prediction(RF) Param Fitted\")\n",
    "plt.xlabel(\"Order of data\")\n",
    "plt.ylabel(\"elongation\")\n",
    "save_fig(\"TestPrediction_with_6V_RF_ParamFitted\")"
   ]
  },
  {
   "cell_type": "code",
   "execution_count": 61,
   "metadata": {
    "colab": {
     "base_uri": "https://localhost:8080/",
     "height": 315
    },
    "colab_type": "code",
    "executionInfo": {
     "elapsed": 4667,
     "status": "ok",
     "timestamp": 1580910788924,
     "user": {
      "displayName": "이경민학부생",
      "photoUrl": "",
      "userId": "01346787625936847475"
     },
     "user_tz": -540
    },
    "id": "Lc3yeG89ldAB",
    "outputId": "35d755a0-88d4-4b78-8358-f95ac988e692"
   },
   "outputs": [
    {
     "name": "stdout",
     "output_type": "stream",
     "text": [
      "Saving figure Difference_between_Test_data_vs_Prediction_6V_RF_ParamFitted\n"
     ]
    },
    {
     "data": {
      "image/png": "[encoded data removed]",
      "text/plain": [
       "<Figure size 432x288 with 1 Axes>"
      ]
     },
     "metadata": {
      "needs_background": "light"
     },
     "output_type": "display_data"
    }
   ],
   "source": [
    "# Difference of train data\n",
    "difference = el_test - el_rf_test_predictions\n",
    "\n",
    "xx = np.linspace(0,len(difference),len(difference))\n",
    "y = np.zeros((len(difference),1))\n",
    "#y.reshape(1,len(difference))\n",
    "plt.figure\n",
    "plt.grid()\n",
    "plt.plot(xx,y,\"b-\", xx, difference,\"r--\")\n",
    "plt.title(\"Difference between Test data vs Prediction(RF) Param Fitted\")\n",
    "#plt.ylim(-30, 30)\n",
    "plt.xlabel(\"Order of data\")\n",
    "plt.ylabel(\"elongation\")\n",
    "\n",
    "save_fig(\"Difference_between_Test_data_vs_Prediction_6V_RF_ParamFitted\")\n"
   ]
  },
  {
   "cell_type": "markdown",
   "metadata": {
    "colab_type": "text",
    "id": "-wKUx9XNldAC"
   },
   "source": [
    "## Extracting files"
   ]
  },
  {
   "cell_type": "code",
   "execution_count": 0,
   "metadata": {
    "colab": {
     "base_uri": "https://localhost:8080/",
     "height": 89
    },
    "colab_type": "code",
    "executionInfo": {
     "elapsed": 6310,
     "status": "ok",
     "timestamp": 1580910791858,
     "user": {
      "displayName": "이경민학부생",
      "photoUrl": "",
      "userId": "01346787625936847475"
     },
     "user_tz": -540
    },
    "id": "hkJmhtQ3ldAD",
    "outputId": "c38665de-31ba-4df0-89b7-c7825bb123cf"
   },
   "outputs": [
    {
     "name": "stdout",
     "output_type": "stream",
     "text": [
      "Difference_between_Train_data_vs_Prediction_6V_RF_ParamFitted.png\n",
      "RF_Prediction_ys.png\n",
      "TestPrediction_with_6V_RF_ParamFitted.png\n",
      "TrainPrediction_with_6V_RF_ParamFitted.png\n"
     ]
    }
   ],
   "source": [
    "!ls images/BestHyperParameter/RF_Regression/yield_stress_6V/\n"
   ]
  },
  {
   "cell_type": "code",
   "execution_count": 54,
   "metadata": {
    "colab": {
     "base_uri": "https://localhost:8080/",
     "height": 354
    },
    "colab_type": "code",
    "executionInfo": {
     "elapsed": 1060,
     "status": "error",
     "timestamp": 1580942075836,
     "user": {
      "displayName": "이경민학부생",
      "photoUrl": "",
      "userId": "01346787625936847475"
     },
     "user_tz": -540
    },
    "id": "_MyXdhdcldAE",
    "outputId": "255ac024-28f8-41a9-c68f-8d5f7fcf0c83"
   },
   "outputs": [
    {
     "ename": "FileNotFoundError",
     "evalue": "ignored",
     "output_type": "error",
     "traceback": [
      "\u001b[0;31m---------------------------------------------------------------------------\u001b[0m",
      "\u001b[0;31mFileNotFoundError\u001b[0m                         Traceback (most recent call last)",
      "\u001b[0;32m<ipython-input-54-33115d9c3c86>\u001b[0m in \u001b[0;36m<module>\u001b[0;34m()\u001b[0m\n\u001b[1;32m      3\u001b[0m \u001b[0;31m#uploaded = files.upload()\u001b[0m\u001b[0;34m\u001b[0m\u001b[0;34m\u001b[0m\u001b[0;34m\u001b[0m\u001b[0m\n\u001b[1;32m      4\u001b[0m \u001b[0;31m# Download Colab VM files to local\u001b[0m\u001b[0;34m\u001b[0m\u001b[0;34m\u001b[0m\u001b[0;34m\u001b[0m\u001b[0m\n\u001b[0;32m----> 5\u001b[0;31m \u001b[0mfiles\u001b[0m\u001b[0;34m.\u001b[0m\u001b[0mdownload\u001b[0m\u001b[0;34m(\u001b[0m\u001b[0;34m'images/BestHyperParameter/RF_Regression/elongation_6V/TrainPrediction_with_6V_RF_ParamFitted.png'\u001b[0m\u001b[0;34m)\u001b[0m\u001b[0;34m\u001b[0m\u001b[0;34m\u001b[0m\u001b[0m\n\u001b[0m",
      "\u001b[0;32m/usr/local/lib/python3.6/dist-packages/google/colab/files.py\u001b[0m in \u001b[0;36mdownload\u001b[0;34m(filename)\u001b[0m\n\u001b[1;32m    142\u001b[0m       \u001b[0;32mraise\u001b[0m \u001b[0mOSError\u001b[0m\u001b[0;34m(\u001b[0m\u001b[0mmsg\u001b[0m\u001b[0;34m)\u001b[0m\u001b[0;34m\u001b[0m\u001b[0;34m\u001b[0m\u001b[0m\n\u001b[1;32m    143\u001b[0m     \u001b[0;32melse\u001b[0m\u001b[0;34m:\u001b[0m\u001b[0;34m\u001b[0m\u001b[0;34m\u001b[0m\u001b[0m\n\u001b[0;32m--> 144\u001b[0;31m       \u001b[0;32mraise\u001b[0m \u001b[0mFileNotFoundError\u001b[0m\u001b[0;34m(\u001b[0m\u001b[0mmsg\u001b[0m\u001b[0;34m)\u001b[0m  \u001b[0;31m# pylint: disable=undefined-variable\u001b[0m\u001b[0;34m\u001b[0m\u001b[0;34m\u001b[0m\u001b[0m\n\u001b[0m\u001b[1;32m    145\u001b[0m \u001b[0;34m\u001b[0m\u001b[0m\n\u001b[1;32m    146\u001b[0m   \u001b[0mstarted\u001b[0m \u001b[0;34m=\u001b[0m \u001b[0m_threading\u001b[0m\u001b[0;34m.\u001b[0m\u001b[0mEvent\u001b[0m\u001b[0;34m(\u001b[0m\u001b[0;34m)\u001b[0m\u001b[0;34m\u001b[0m\u001b[0;34m\u001b[0m\u001b[0m\n",
      "\u001b[0;31mFileNotFoundError\u001b[0m: Cannot find file: images/BestHyperParameter/RF_Regression/elongation_6V/TrainPrediction_with_6V_RF_ParamFitted.png"
     ]
    }
   ],
   "source": [
    "from google.colab import files\n",
    "# Upload local files to Colab VM\n",
    "#uploaded = files.upload()\n",
    "# Download Colab VM files to local\n",
    "files.download('images/BestHyperParameter/RF_Regression/elongation_6V/TrainPrediction_with_6V_RF_ParamFitted.png')\n"
   ]
  },
  {
   "cell_type": "code",
   "execution_count": 0,
   "metadata": {
    "colab": {},
    "colab_type": "code",
    "id": "73R6J-fhldAF"
   },
   "outputs": [],
   "source": [
    "files.download('images/BestHyperParameter/RF_Regression/elongation_6V/TestPrediction_with_6V_RF_ParamFitted.png')"
   ]
  },
  {
   "cell_type": "code",
   "execution_count": 0,
   "metadata": {
    "colab": {},
    "colab_type": "code",
    "id": "3D4YkBtTldAG"
   },
   "outputs": [],
   "source": [
    "files.download('images/BestHyperParameter/RF_Regression/elongation_6V/Difference_between_Train_data_vs_Prediction_6V_RF_ParamFitted.png')"
   ]
  },
  {
   "cell_type": "code",
   "execution_count": 0,
   "metadata": {
    "colab": {},
    "colab_type": "code",
    "id": "HYsDTDKVldAH"
   },
   "outputs": [],
   "source": [
    "files.download('images/BestHyperParameter/RF_Regression/elongation_6V/Difference_between_Test_data_vs_Prediction_6V_RF_ParamFitted.png')"
   ]
  },
  {
   "cell_type": "code",
   "execution_count": 0,
   "metadata": {
    "colab": {},
    "colab_type": "code",
    "id": "9N0mHcCLldAI"
   },
   "outputs": [],
   "source": [
    "files.download('images/BestHyperParameter/RF_Regression/elongation_6V/RF_Prediction_el.png')"
   ]
  },
  {
   "cell_type": "code",
   "execution_count": 0,
   "metadata": {
    "colab": {},
    "colab_type": "code",
    "id": "HqqFFXYJldAK"
   },
   "outputs": [],
   "source": [
    "files.download('/content/gdrive/My Drive/validation/cvscores/Random_Forest/elongation/RF_6V.txt')"
   ]
  }
 ],
 "metadata": {
  "accelerator": "GPU",
  "colab": {
   "collapsed_sections": [],
   "name": "Random Forest Regressor for Property Prediction.ipynb",
   "provenance": []
  },
  "kernelspec": {
   "display_name": "Python 3",
   "language": "python",
   "name": "python3"
  },
  "language_info": {
   "codemirror_mode": {
    "name": "ipython",
    "version": 3
   },
   "file_extension": ".py",
   "mimetype": "text/x-python",
   "name": "python",
   "nbconvert_exporter": "python",
   "pygments_lexer": "ipython3",
   "version": "3.8.3"
  }
 },
 "nbformat": 4,
 "nbformat_minor": 1
}
